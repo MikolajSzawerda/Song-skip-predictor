{
 "cells": [
  {
   "cell_type": "code",
   "execution_count": null,
   "id": "initial_id",
   "metadata": {
    "collapsed": true
   },
   "outputs": [],
   "source": [
    "import pandas as pd\n",
    "import numpy as np\n",
    "import seaborn as sns\n",
    "from pandas import Timedelta\n",
    "import warnings\n",
    "import itertools\n",
    "\n",
    "warnings.simplefilter(action='ignore', category=FutureWarning)\n",
    "sns.set_theme()\n",
    "import matplotlib.pyplot as plt\n",
    "sns.set_theme(style=\"whitegrid\")\n",
    "sessions = pd.read_json(\"data/sessions.jsonl\", lines=True)\n",
    "artists = pd.read_json(\"data/artists.jsonl\", lines=True)\n",
    "tracks = pd.read_json(\"data/tracks.jsonl\", lines=True)\n",
    "track_storage = pd.read_json(\"data/track_storage.jsonl\", lines=True)\n",
    "users = pd.read_json(\"data/users.jsonl\", lines=True)\n",
    "genres = tracks.join(artists.set_index('id')['genres'], on='id_artist', rsuffix='_author').set_index('id')['genres']\n",
    "\n",
    "def genres_similarity(genres1, genres2):\n",
    "    simillarity = 0\n",
    "    for g1, g2 in itertools.product(genres1, genres2):\n",
    "        indicator = 2\n",
    "        if g1 != g2:\n",
    "            words_genre1 = set(g1.lower().split())\n",
    "            words_genre2 = set(g2.lower().split())\n",
    "            indicator = 1 if any(word in words_genre2 for word in words_genre1) else 0\n",
    "        simillarity += indicator\n",
    "    return simillarity\n",
    "    \n"
   ]
  },
  {
   "cell_type": "markdown",
   "source": [
    "# Analiza braków"
   ],
   "metadata": {
    "collapsed": false
   },
   "id": "301aa96b43185b01"
  },
  {
   "cell_type": "code",
   "execution_count": null,
   "outputs": [],
   "source": [
    "sessions.isnull().mean()"
   ],
   "metadata": {
    "collapsed": false
   },
   "id": "aa633a17aa6d5d42"
  },
  {
   "cell_type": "code",
   "execution_count": null,
   "outputs": [],
   "source": [
    "artists.isnull().mean()\n",
    "artists.genres.explode().value_counts()"
   ],
   "metadata": {
    "collapsed": false
   },
   "id": "b3403e25b6bf33ab"
  },
  {
   "cell_type": "code",
   "execution_count": null,
   "outputs": [],
   "source": [
    "tracks.isnull().mean()"
   ],
   "metadata": {
    "collapsed": false
   },
   "id": "bbaa87fa4c3b876b"
  },
  {
   "cell_type": "code",
   "execution_count": null,
   "outputs": [],
   "source": [
    "track_storage.isnull().sum()"
   ],
   "metadata": {
    "collapsed": false
   },
   "id": "4a74b5fa0fb061c1"
  },
  {
   "cell_type": "code",
   "execution_count": null,
   "outputs": [],
   "source": [
    "users.isnull().sum()"
   ],
   "metadata": {
    "collapsed": false
   },
   "id": "224e3aeedd4b90c"
  },
  {
   "cell_type": "markdown",
   "source": [
    "# Analiza informatywnosci"
   ],
   "metadata": {
    "collapsed": false
   },
   "id": "aae0b67fdfb93db7"
  },
  {
   "cell_type": "code",
   "execution_count": null,
   "outputs": [],
   "source": [
    "def extract_release_date(tdf: pd.DataFrame):\n",
    "    def standardize_date(date):\n",
    "        parts = date.split('-')\n",
    "        if len(parts) == 1:  # Only year\n",
    "            return f\"{parts[0]}-01-01\"\n",
    "        elif len(parts) == 2:  # Year and month\n",
    "            return f\"{parts[0]}-{parts[1]}-01\"\n",
    "        return date\n",
    "    \n",
    "    def date_completeness(date):\n",
    "        parts = len(date.split('-'))\n",
    "        if parts == 1:\n",
    "            return 'year'\n",
    "        elif parts == 2:\n",
    "            return 'year_month'\n",
    "        return 'full_date'\n",
    "    \n",
    "    tdf['standardized_date'] = pd.to_datetime(tdf['release_date'].apply(standardize_date))\n",
    "    tdf['release_year'] = tdf['standardized_date'].dt.year\n",
    "    tdf['release_daymonth'] = tdf['standardized_date'].dt.dayofyear\n",
    "    tdf['date_completeness'] = tdf['release_date'].apply(date_completeness)\n",
    "\n",
    "    return tdf.drop(columns=['standardized_date'])\n",
    "tracks = pd.read_json(\"data/tracks.jsonl\", lines=True)\n",
    "tracks = extract_release_date(tracks).drop(columns=['release_date', 'mode'])"
   ],
   "metadata": {
    "collapsed": false
   },
   "id": "fd9029a0bc43ca88"
  },
  {
   "cell_type": "code",
   "execution_count": null,
   "outputs": [],
   "source": [
    "# block is group of consecutive user interactions with song\n",
    "def transform_block(df: pd.DataFrame):\n",
    "    \n",
    "    def define_block_duration(group: pd.DataFrame):\n",
    "        if 'skip' not in group['event_type'].values:\n",
    "            return pd.Timedelta(milliseconds=min(group['duration_ms']))\n",
    "        return max(group['timestamp'])-min(group['timestamp'])\n",
    "    \n",
    "    return df.groupby('block_id').agg(\n",
    "        isskipped=('event_type', lambda x: 'skip' in x.values),\n",
    "        isliked=('event_type', lambda x: 'like' in x.values),\n",
    "        timestamp=('timestamp', lambda x: min(x)),\n",
    "        track_id=('track_id', 'first'),\n",
    "        user_id=('user_id', 'first'),\n",
    "        block_duration = ('timestamp', lambda x: define_block_duration(df))\n",
    "    ).reset_index(drop=True)\n",
    "\n",
    "def transform_session(session: pd.DataFrame):\n",
    "    session['block_id'] = (session['track_id'] != session['track_id'].shift()).cumsum()\n",
    "    session = session.groupby('block_id').apply(transform_block).reset_index(drop=True)\n",
    "    \n",
    "    session['session_duration'] = session['block_duration'].cumsum().shift(fill_value=Timedelta(0))\n",
    "    session['session_skip_count'] = session['isskipped'].cumsum().shift(fill_value=0)\n",
    "    session['session_like_count'] = session['isliked'].cumsum().shift(fill_value=0)\n",
    "    session['session_play_count'] = range(len(session))\n",
    "    \n",
    "    session['session_skip_rate'] = (session['session_skip_count'] / session['session_play_count']).fillna(0)\n",
    "    session.replace(np.inf, 0, inplace=True)\n",
    "    \n",
    "    session['session_ewma_rate'] = session['isskipped'].astype(int).ewm(alpha=0.8).mean().shift(fill_value=0)\n",
    "\n",
    "    return session\n",
    "\n",
    "\n",
    "\n",
    "def transform_user(user: pd.DataFrame):\n",
    "    user['user_listen_time'] = user['block_duration'].cumsum().shift(fill_value=Timedelta(0))\n",
    "    user['user_skip_count'] = user['isskipped'].cumsum().shift(fill_value=0)\n",
    "    user['user_like_count'] = user['isliked'].cumsum().shift(fill_value=0)\n",
    "    user['user_play_count'] = range(len(user))\n",
    "    user['user_skip_rate'] = (user['user_skip_count'] / user['user_play_count']).fillna(0)\n",
    "    user.replace(np.inf, 0, inplace=True)\n",
    "    user['user_ewma_rate'] = user['isskipped'].astype(int).ewm(alpha=0.8).mean().shift(fill_value=0)\n",
    "    return user\n",
    "\n",
    "df = sessions[sessions['event_type'].isin(['play', 'skip', 'like'])]\n",
    "df = df.merge(tracks[['id', 'duration_ms']].set_index('id'), left_on=\"track_id\", right_on='id')\n",
    "df = df.groupby('session_id').apply(transform_session).reset_index().drop(columns=['level_1'])\n",
    "\n",
    "df = df.groupby('user_id').apply(transform_user).reset_index(drop=True)\n",
    "\n",
    "df = df.join(users.set_index('user_id'), on='user_id', rsuffix=\"_user\").join(genres, on=\"track_id\").join(tracks.set_index('id'), on=\"track_id\", rsuffix=\"_track\")\n",
    "df['fav_genres_similarity'] = df.apply(lambda x: genres_similarity(x['genres'], x['favourite_genres']), axis=1)\n",
    "\n",
    "# df.to_csv(\"data/result.csv\")\n",
    "target_df=df.drop(columns=[col for col in df.columns if 'id' in col])\n",
    "target_df"
   ],
   "metadata": {
    "collapsed": false
   },
   "id": "8cd75731273115bd"
  },
  {
   "cell_type": "code",
   "execution_count": null,
   "outputs": [],
   "source": [
    "from sklearn.preprocessing import LabelEncoder, StandardScaler, MinMaxScaler\n",
    "def preprocess_dataset(df: pd.DataFrame):\n",
    "    final_dataset = df.dropna()\n",
    "    label_encoder = LabelEncoder()\n",
    "    final_dataset['city'] = label_encoder.fit_transform(final_dataset['city'])\n",
    "    \n",
    "    final_dataset['day']=final_dataset['timestamp'].dt.dayofyear\n",
    "    final_dataset['hourminute']= final_dataset['timestamp'].dt.hour * 60 + final_dataset['timestamp'].dt.minute\n",
    "    final_dataset['date_completeness'] = label_encoder.fit_transform(final_dataset['date_completeness'])\n",
    "    \n",
    "    final_dataset = final_dataset.drop(columns=['block_duration'])\n",
    "    final_dataset['session_duration']=final_dataset['session_duration'].apply(lambda x: x.total_seconds())\n",
    "    final_dataset['user_listen_time']=final_dataset['user_listen_time'].apply(lambda x: x.total_seconds())\n",
    "    \n",
    "    final_dataset['premium_user']=final_dataset['premium_user'].astype(int)\n",
    "    final_dataset['isliked']=final_dataset['isliked'].astype(int)\n",
    "    final_dataset['isskipped']=final_dataset['isskipped'].astype(int)\n",
    "    \n",
    "    # numeric_cols = final_dataset.select_dtypes(include=['float64']).columns\n",
    "    # scaler = StandardScaler()\n",
    "    # final_dataset[numeric_cols] = scaler.fit_transform(final_dataset[numeric_cols])\n",
    "    \n",
    "    return final_dataset.drop(columns=['timestamp', 'street', 'key', 'time_signature', 'explicit', 'name_track', 'name'])\n",
    "final_dataset = preprocess_dataset(target_df)\n",
    "final_dataset"
   ],
   "metadata": {
    "collapsed": false
   },
   "id": "475f21627cba3445"
  },
  {
   "cell_type": "code",
   "execution_count": null,
   "outputs": [],
   "source": [
    "from sklearn.ensemble import RandomForestClassifier\n",
    "from sklearn.model_selection import train_test_split\n",
    "from sklearn.metrics import accuracy_score, confusion_matrix,ConfusionMatrixDisplay\n",
    "import matplotlib.pyplot as plt\n",
    "import numpy as np\n",
    "\n",
    "final_dataset = preprocess_dataset(target_df)\n",
    "Y = final_dataset['isskipped']\n",
    "X = final_dataset.drop(columns='isskipped')\n",
    "X_train, X_test, y_train, y_test = train_test_split(X, Y, test_size=0.2)\n",
    "\n",
    "clf = RandomForestClassifier(n_estimators=100)\n",
    "clf.fit(X_train, y_train)\n",
    "y_pred = clf.predict(X_test)\n",
    "\n",
    "print(f\"Accuracy: {accuracy_score(y_test, y_pred)}\")\n",
    "cm = confusion_matrix(y_test, y_pred, labels=clf.classes_)\n",
    "ConfusionMatrixDisplay(confusion_matrix=cm, display_labels=clf.classes_).plot()\n",
    "\n",
    "# feature_importances = clf.feature_importances_\n",
    "# feature_names = X.columns\n",
    "# importances = pd.Series(feature_importances, index=feature_names)\n",
    "# importances_sorted = importances.sort_values()\n",
    "# importances_sorted.plot(kind='barh', color='lightblue')\n",
    "# plt.title('Features Importance in Random Forest Model')\n",
    "plt.show()"
   ],
   "metadata": {
    "collapsed": false
   },
   "id": "a1425e4bfda0f073"
  },
  {
   "cell_type": "markdown",
   "source": [
    "# EDA\n",
    "\n",
    "## Pytania\n",
    "- informatywność\n",
    "    - samych danych audio\n",
    "    - średnia stosunek przewijania piosenek użytkownika/sesji\n",
    "    - gatunki piosenki i ulubione gatunki uzytkownika\n",
    "    - popularność piosenki w danym czasie\n",
    "    - pora dnia, dzień tygodia, miesiąc\n",
    "    - poprzednia piosenka\n",
    "    - długość piosenki\n",
    "    - użytkownik premium\n",
    "    - stosunek przesłuchania piosenek przez użytkownika\n",
    "    - polikownaie\n",
    "- czy przez klastrowanie - ogólne zachowanie użytkownika - stworzy się przydatną zmienną\n",
    "- czy poprzednia piosenka ma wpływ na zachowanie użytkownika\n",
    "- czy like,adv ma wpływ na zachowanie użytkownika "
   ],
   "metadata": {
    "collapsed": false
   },
   "id": "9521b60d61b73c1c"
  },
  {
   "cell_type": "code",
   "execution_count": null,
   "outputs": [],
   "source": [
    "def plot_heat_corr(X: pd.DataFrame, Y: pd.DataFrame):\n",
    "    corr = X.corrwith(Y).to_frame().T\n",
    "    corr.index = ['isskipped']\n",
    "    f, ax = plt.subplots(figsize=(24, 9))\n",
    "    cmap = sns.diverging_palette(230, 20, as_cmap=True)\n",
    "    sns.heatmap(corr, cmap=cmap, vmax=.3, center=0,\n",
    "                square=True, linewidths=.5, cbar_kws={\"shrink\": .5})\n",
    "    ax.set_xticklabels(ax.get_xticklabels(), rotation=0)\n",
    "    \n",
    "analyze_df = pd.read_csv('data/result.csv', index_col=0, parse_dates=['timestamp'], converters={\n",
    "    'block_duration': lambda x: pd.to_timedelta(x),\n",
    "    'session_duration': lambda x: pd.to_timedelta(x),\n",
    "    'user_listen_time': lambda x: pd.to_timedelta(x),\n",
    "})\n",
    "analyze_df"
   ],
   "metadata": {
    "collapsed": false
   },
   "id": "e9098e85dd9eab04"
  },
  {
   "cell_type": "markdown",
   "source": [
    "## Analiza danych audio"
   ],
   "metadata": {
    "collapsed": false
   },
   "id": "132350b02397d77b"
  },
  {
   "cell_type": "code",
   "execution_count": null,
   "outputs": [],
   "source": [
    "\n",
    "plot_heat_corr(analyze_df.loc[:, 'danceability':'time_signature'], analyze_df['isskipped'])"
   ],
   "metadata": {
    "collapsed": false
   },
   "id": "c9225b594d6ae4b2"
  },
  {
   "cell_type": "code",
   "execution_count": null,
   "outputs": [],
   "source": [
    "from sklearn.decomposition import PCA\n",
    "from sklearn.preprocessing import StandardScaler\n",
    "X = analyze_df.loc[:, 'danceability':'time_signature'].drop(columns=['mode']).values\n",
    "pca = PCA(n_components=2)\n",
    "principal_components = pca.fit_transform(StandardScaler().fit_transform(X))\n",
    "pca_df = pd.DataFrame(data=principal_components, columns=['PC1', 'PC2'])\n",
    "print(\"Explained Variance Ratio:\", pca.explained_variance_ratio_)\n",
    "df=pd.concat([pca_df, analyze_df['isskipped']],axis=1)\n",
    "sns.scatterplot(df[df['isskipped']==False], x='PC1', y='PC2', label=\"Not skipped\", alpha=0.6)\n",
    "sns.scatterplot(df[df['isskipped']==True], x='PC1', y='PC2', label=\"Skipped\", alpha=0.6)"
   ],
   "metadata": {
    "collapsed": false
   },
   "id": "a7661bc0b1b99406"
  },
  {
   "cell_type": "markdown",
   "source": [
    "## Analiza wpływu czasu"
   ],
   "metadata": {
    "collapsed": false
   },
   "id": "7b45907631cc68a6"
  },
  {
   "cell_type": "code",
   "execution_count": null,
   "outputs": [],
   "source": [
    "fig, axs = plt.subplots(1, 2, figsize=(14, 2))\n",
    "analyze_df.resample('M', on=\"timestamp\").count()['isskipped'].plot(ax=axs[0], title=\"Songs played\")\n",
    "analyze_df.resample('M', on=\"timestamp\").agg(skips=('isskipped', 'mean')).plot(ax=axs[1], title=\"Songs skip rate\")"
   ],
   "metadata": {
    "collapsed": false
   },
   "id": "c8653f6477bcb8e2"
  },
  {
   "cell_type": "code",
   "execution_count": null,
   "outputs": [],
   "source": [
    "import calendar\n",
    "fig = plt.figure(figsize=(18, 4))\n",
    "ax1 = fig.add_subplot(131)\n",
    "ax2 = fig.add_subplot(132, sharey=ax1)\n",
    "\n",
    "weekend = ['Friday', 'Saturday', 'Sunday']\n",
    "df = analyze_df\n",
    "df['dayofweek'] = df['timestamp'].dt.dayofweek\n",
    "df['month'] = df['timestamp'].dt.to_period('M').dt.to_timestamp()\n",
    "df = df.groupby(['month', 'dayofweek'])['isskipped'].mean().reset_index().pivot_table(index='month', columns='dayofweek', values='isskipped')\n",
    "df.rename(columns={i: day for i, day in enumerate(calendar.day_name)}, inplace=True)\n",
    "\n",
    "df[weekend].plot(ax=ax1, title=\"Weekend\")\n",
    "df[ df.columns.difference(weekend)].plot(ax=ax2, title=\"Working day\")\n",
    "df.mean(axis=0).plot(kind='bar', ax=fig.add_subplot(133))"
   ],
   "metadata": {
    "collapsed": false
   },
   "id": "78b4f8880476974f"
  },
  {
   "cell_type": "markdown",
   "source": [
    "## Analiza wpływu gatunku"
   ],
   "metadata": {
    "collapsed": false
   },
   "id": "8e1926eed7e3202a"
  },
  {
   "cell_type": "code",
   "execution_count": null,
   "outputs": [],
   "source": [
    "df = analyze_df[['isskipped', 'fav_genres_similarity']]\n",
    "df.corr()"
   ],
   "metadata": {
    "collapsed": false
   },
   "id": "7c1ba87bb1aaed1f"
  },
  {
   "cell_type": "code",
   "execution_count": null,
   "outputs": [],
   "source": [
    "_, df = next(iter(analyze_df.groupby('session_id')))\n",
    "df['genres']"
   ],
   "metadata": {
    "collapsed": false
   },
   "id": "55e29cc04e2d093c"
  },
  {
   "cell_type": "code",
   "execution_count": 519,
   "outputs": [],
   "source": [
    "from scipy.sparse import csr_matrix, vstack, hstack\n",
    "import numpy as np\n",
    "from sklearn.metrics.pairwise import cosine_similarity\n",
    "from sklearn.decomposition import TruncatedSVD\n",
    "all_genres = genres.explode().unique()\n",
    "\n",
    "def genre_similarity(g1, g2):\n",
    "    g1_words = set(g1.lower().split())\n",
    "    g2_words = set(g2.lower().split())\n",
    "    return len(g1_words.intersection(g2_words))/(len(g1_words.union(g2_words)))\n",
    "\n",
    "def encode_track(track_genres):\n",
    "    row_indices, col_indices, data = [], [], []\n",
    "    for i, track_genre in enumerate(track_genres):\n",
    "        for j, other_genre in enumerate(all_genres):\n",
    "            similarity = genre_similarity(track_genre, other_genre)\n",
    "            if similarity != 0:\n",
    "                row_indices.append(i)\n",
    "                col_indices.append(j)\n",
    "                data.append(similarity)\n",
    "    return csr_matrix(csr_matrix((data, (row_indices, col_indices)), shape=(len(track_genres), len(all_genres))).sum(axis=0))\n",
    "\n",
    "# columns_of_interest = ['session_id', 'id_artist', 'user_id', 'timestamp', 'isskipped', 'genres', 'favourite_genres']\n",
    "genres_analyze_df = analyze_df\n",
    "artists_df = artists[artists['id'].isin(genres_analyze_df['id_artist'].values)].set_index('id')[['genres']].map(encode_track)\n",
    "users_df = users[users['user_id'].isin(genres_analyze_df['user_id'].values)].set_index('user_id')[['favourite_genres']].map(encode_track)\n",
    "genres_analyze_df=genres_analyze_df.join(artists_df, on='id_artist', rsuffix='_vector').join(users_df, on='user_id', rsuffix='_vector').drop(columns=['genres', 'favourite_genres'])"
   ],
   "metadata": {
    "collapsed": false,
    "ExecuteTime": {
     "end_time": "2023-12-27T16:34:37.324567010Z",
     "start_time": "2023-12-27T16:33:52.417748170Z"
    }
   },
   "id": "457c9119c67e1f28"
  },
  {
   "cell_type": "code",
   "execution_count": 522,
   "outputs": [
    {
     "data": {
      "text/plain": "<Figure size 2000x400 with 4 Axes>",
      "image/png": "[encoded data removed]"
     },
     "metadata": {},
     "output_type": "display_data"
    }
   ],
   "source": [
    "# Choose the longest sessions with different users\n",
    "idxs = genres_analyze_df.groupby(['session_id', 'user_id'])['session_id'].size().reset_index(name='count').sort_values(['user_id', 'count'], ascending=[True, False]).groupby('user_id').head(1).nlargest(4, 'count')['session_id'].values\n",
    "columns_of_interest = ['session_id', 'id_artist', 'user_id', 'timestamp', 'isskipped', 'genres', 'favourite_genres']\n",
    "sessions_df = genres_analyze_df[genres_analyze_df['session_id'].isin(idxs)]\n",
    "artists_df = artists[artists['id'].isin(sessions_df['id_artist'].values)].set_index('id')[['genres']].map(encode_track)\n",
    "users_df = users[users['user_id'].isin(sessions_df['user_id'].values)].set_index('user_id')[['favourite_genres']].map(encode_track)\n",
    "sessions_df=sessions_df.join(artists_df, on='id_artist', rsuffix='_vector').join(users_df, on='user_id', rsuffix='_vector').drop(columns=['genres', 'favourite_genres'])\n",
    "\n",
    "svd = TruncatedSVD(n_components=2)\n",
    "pca_df = pd.DataFrame(data=svd.fit_transform(vstack(sessions_df['genres_vector'])), columns=['PC1', 'PC2'])\n",
    "fdf=pd.concat([pca_df, sessions_df[['isskipped', 'session_id']].reset_index(drop=True)],axis=1)\n",
    "\n",
    "fig, axs = plt.subplots(1, 4, figsize=(20, 4))\n",
    "for i, (_, df) in enumerate(fdf.groupby('session_id')):\n",
    "    sns.scatterplot(df[df['isskipped']==False], x='PC1', y='PC2', label=\"Not skipped\", ax=axs[i])\n",
    "    sns.scatterplot(df[df['isskipped']==True], x='PC1', y='PC2', label=\"Skipped\", ax=axs[i])"
   ],
   "metadata": {
    "collapsed": false,
    "ExecuteTime": {
     "end_time": "2023-12-27T16:36:09.805343101Z",
     "start_time": "2023-12-27T16:36:05.823978844Z"
    }
   },
   "id": "c2972c80f922c1bb"
  },
  {
   "cell_type": "code",
   "execution_count": 520,
   "outputs": [
    {
     "name": "stdout",
     "output_type": "stream",
     "text": [
      "            similarity  isskipped\n",
      "similarity      1.0000     0.0287\n",
      "isskipped       0.0287     1.0000\n"
     ]
    },
    {
     "data": {
      "text/plain": "          skip   notskip\nmean  0.479578  0.534078\nstd   0.335565  0.319727",
      "text/html": "<div>\n<style scoped>\n    .dataframe tbody tr th:only-of-type {\n        vertical-align: middle;\n    }\n\n    .dataframe tbody tr th {\n        vertical-align: top;\n    }\n\n    .dataframe thead th {\n        text-align: right;\n    }\n</style>\n<table border=\"1\" class=\"dataframe\">\n  <thead>\n    <tr style=\"text-align: right;\">\n      <th></th>\n      <th>skip</th>\n      <th>notskip</th>\n    </tr>\n  </thead>\n  <tbody>\n    <tr>\n      <th>mean</th>\n      <td>0.479578</td>\n      <td>0.534078</td>\n    </tr>\n    <tr>\n      <th>std</th>\n      <td>0.335565</td>\n      <td>0.319727</td>\n    </tr>\n  </tbody>\n</table>\n</div>"
     },
     "execution_count": 520,
     "metadata": {},
     "output_type": "execute_result"
    }
   ],
   "source": [
    "\n",
    "genres_analyze_df['similarity']=genres_analyze_df.apply(lambda x: cosine_similarity(x['genres_vector'], x['favourite_genres_vector'])[0, 0], axis=1)\n",
    "print(genres_analyze_df[['similarity', 'isskipped']].corr())\n",
    "\n",
    "def sim(group: pd.DataFrame):\n",
    "    was_skipped = group[group['isskipped']==True]\n",
    "    not_skipped = group[group['isskipped']==False]\n",
    "    if len(was_skipped)<=0 or len(not_skipped) <=0:\n",
    "        return {\n",
    "        'skip': None,\n",
    "        'notskip': None\n",
    "    }\n",
    "    a=csr_matrix(vstack(was_skipped['genres_vector']).mean(axis=0))\n",
    "    c=csr_matrix(vstack(not_skipped['genres_vector']).mean(axis=0))\n",
    "    b=csr_matrix(vstack(group['favourite_genres_vector']).mean(axis=0))\n",
    "    return {\n",
    "        'skip': cosine_similarity(a, b)[0, 0],\n",
    "        'notskip': cosine_similarity(c, b)[0, 0]\n",
    "    }\n",
    "pd.DataFrame([sim(group) for _, group in genres_analyze_df.groupby('session_id')]).dropna().agg(['mean', 'std'])"
   ],
   "metadata": {
    "collapsed": false,
    "ExecuteTime": {
     "start_time": "2023-12-27T16:34:42.982772154Z"
    }
   },
   "id": "dc0333eab36fae04"
  },
  {
   "cell_type": "markdown",
   "source": [
    "## Analiza wpływu poprzedniej piosenki"
   ],
   "metadata": {
    "collapsed": false
   },
   "id": "59c186c5131cfd56"
  },
  {
   "cell_type": "code",
   "execution_count": null,
   "outputs": [],
   "source": [],
   "metadata": {
    "collapsed": false
   },
   "id": "16774e2d75a8cb84"
  },
  {
   "cell_type": "code",
   "execution_count": null,
   "outputs": [],
   "source": [
    "df = pd.DataFrame(analyze_df[['session_id', 'isskipped']])\n",
    "df['skip_changed']=(df['isskipped']==True) & (df['isskipped']!= df['isskipped'].shift(fill_value=False))\n",
    "df.groupby('session_id').filter(lambda x: x['isskipped'].values.sum()>1).groupby('session_id')['skip_changed'].sum().reset_index(drop=True).hist(bins=40)"
   ],
   "metadata": {
    "collapsed": false
   },
   "id": "93861382e5e3a62e"
  },
  {
   "cell_type": "code",
   "execution_count": null,
   "outputs": [],
   "source": [
    "df = analyze_df\n",
    "df['hour'] = pd.to_datetime(df['timestamp']).dt.hour\n",
    "df=df[df.timestamp.dt.month==11]\n",
    "df.drop(columns=['timestamp']).groupby('hour').agg(skips=('isskipped', 'sum')).plot()\n",
    "it = iter(df.resample('2H', on=\"timestamp\"))\n",
    "_, df = next(it)\n",
    "df"
   ],
   "metadata": {
    "collapsed": false
   },
   "id": "f082fe79012e8337"
  },
  {
   "cell_type": "code",
   "execution_count": null,
   "outputs": [],
   "source": [],
   "metadata": {
    "collapsed": false
   },
   "id": "6e8906c2bdb0ec0b"
  },
  {
   "cell_type": "code",
   "execution_count": null,
   "outputs": [],
   "source": [],
   "metadata": {
    "collapsed": false
   },
   "id": "ea837e7adc9549ed"
  }
 ],
 "metadata": {
  "kernelspec": {
   "display_name": "Python 3",
   "language": "python",
   "name": "python3"
  },
  "language_info": {
   "codemirror_mode": {
    "name": "ipython",
    "version": 2
   },
   "file_extension": ".py",
   "mimetype": "text/x-python",
   "name": "python",
   "nbconvert_exporter": "python",
   "pygments_lexer": "ipython2",
   "version": "2.7.6"
  }
 },
 "nbformat": 4,
 "nbformat_minor": 5
}
