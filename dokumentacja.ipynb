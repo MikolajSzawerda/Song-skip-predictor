{
 "cells": [
  {
   "cell_type": "code",
   "execution_count": 89,
   "id": "initial_id",
   "metadata": {
    "collapsed": true,
    "ExecuteTime": {
     "end_time": "2023-12-20T17:10:03.635684273Z",
     "start_time": "2023-12-20T17:10:02.708596671Z"
    }
   },
   "outputs": [],
   "source": [
    "import pandas as pd\n",
    "import numpy as np\n",
    "import seaborn as sns\n",
    "sns.set_theme()\n",
    "import matplotlib.pyplot as plt\n",
    "sns.set_theme(style=\"whitegrid\")\n",
    "sessions = pd.read_json(\"data/sessions.jsonl\", lines=True)\n",
    "artists = pd.read_json(\"data/artists.jsonl\", lines=True)\n",
    "tracks = pd.read_json(\"data/tracks.jsonl\", lines=True)\n",
    "track_storage = pd.read_json(\"data/track_storage.jsonl\", lines=True)\n",
    "users = pd.read_json(\"data/users.jsonl\", lines=True)\n",
    "genres = tracks.join(artists.set_index('id')['genres'], on='id_artist', rsuffix='_author').set_index('id')['genres']\n"
   ]
  },
  {
   "cell_type": "markdown",
   "source": [
    "# Analiza braków"
   ],
   "metadata": {
    "collapsed": false
   },
   "id": "301aa96b43185b01"
  },
  {
   "cell_type": "code",
   "execution_count": 11,
   "outputs": [
    {
     "data": {
      "text/plain": "timestamp     0.0\nuser_id       0.0\ntrack_id      0.0\nevent_type    0.0\nsession_id    0.0\ndtype: float64"
     },
     "execution_count": 11,
     "metadata": {},
     "output_type": "execute_result"
    }
   ],
   "source": [
    "sessions.isnull().mean()"
   ],
   "metadata": {
    "collapsed": false,
    "ExecuteTime": {
     "end_time": "2023-12-20T13:08:40.310947098Z",
     "start_time": "2023-12-20T13:08:40.262340053Z"
    }
   },
   "id": "aa633a17aa6d5d42"
  },
  {
   "cell_type": "code",
   "execution_count": 15,
   "outputs": [
    {
     "data": {
      "text/plain": "id        0.0\nname      0.0\ngenres    0.0\ndtype: float64"
     },
     "execution_count": 15,
     "metadata": {},
     "output_type": "execute_result"
    }
   ],
   "source": [
    "artists.isnull().mean()"
   ],
   "metadata": {
    "collapsed": false,
    "ExecuteTime": {
     "end_time": "2023-12-20T13:10:05.812556361Z",
     "start_time": "2023-12-20T13:10:05.763508079Z"
    }
   },
   "id": "b3403e25b6bf33ab"
  },
  {
   "cell_type": "code",
   "execution_count": 9,
   "outputs": [
    {
     "data": {
      "text/plain": "id                  0.000000\nname                0.000000\npopularity          0.000000\nduration_ms         0.000000\nexplicit            0.000000\nid_artist           0.000000\nrelease_date        0.000000\ndanceability        0.000000\nenergy              0.000000\nkey                 0.000000\nmode                0.800028\nloudness            0.000000\nspeechiness         0.000000\nacousticness        0.000000\ninstrumentalness    0.000000\nliveness            0.000000\nvalence             0.000000\ntempo               0.000000\ntime_signature      0.000000\ndtype: float64"
     },
     "execution_count": 9,
     "metadata": {},
     "output_type": "execute_result"
    }
   ],
   "source": [
    "tracks.isnull().mean()"
   ],
   "metadata": {
    "collapsed": false,
    "ExecuteTime": {
     "end_time": "2023-12-20T13:08:19.305689984Z",
     "start_time": "2023-12-20T13:08:19.261287978Z"
    }
   },
   "id": "bbaa87fa4c3b876b"
  },
  {
   "cell_type": "code",
   "execution_count": 12,
   "outputs": [
    {
     "data": {
      "text/plain": "track_id         0\nstorage_class    0\ndaily_cost       0\ndtype: int64"
     },
     "execution_count": 12,
     "metadata": {},
     "output_type": "execute_result"
    }
   ],
   "source": [
    "track_storage.isnull().sum()"
   ],
   "metadata": {
    "collapsed": false,
    "ExecuteTime": {
     "end_time": "2023-12-20T13:08:53.046430351Z",
     "start_time": "2023-12-20T13:08:53.035168962Z"
    }
   },
   "id": "4a74b5fa0fb061c1"
  },
  {
   "cell_type": "code",
   "execution_count": 13,
   "outputs": [
    {
     "data": {
      "text/plain": "user_id             0\nname                0\ncity                0\nstreet              0\nfavourite_genres    0\npremium_user        0\ndtype: int64"
     },
     "execution_count": 13,
     "metadata": {},
     "output_type": "execute_result"
    }
   ],
   "source": [
    "users.isnull().sum()"
   ],
   "metadata": {
    "collapsed": false,
    "ExecuteTime": {
     "end_time": "2023-12-20T13:09:04.720713511Z",
     "start_time": "2023-12-20T13:09:04.714659819Z"
    }
   },
   "id": "224e3aeedd4b90c"
  },
  {
   "cell_type": "markdown",
   "source": [
    "# Analiza informatywnosci"
   ],
   "metadata": {
    "collapsed": false
   },
   "id": "aae0b67fdfb93db7"
  },
  {
   "cell_type": "code",
   "execution_count": 115,
   "outputs": [],
   "source": [
    "ses = sessions[sessions['event_type'].isin(['play', 'skip', 'like'])]\n",
    "user_sessions = ses.groupby(['session_id'])\n",
    "cache = []\n",
    "for _, session in user_sessions:\n",
    "    session = session.reset_index()\n",
    "    track_gr = session.reset_index().groupby(['track_id'])\n",
    "    for _, track in track_gr:\n",
    "        cache.append({\n",
    "            'track_id': track['track_id'].values[0],\n",
    "            'timestamp': min(track['timestamp'].values),\n",
    "            'user_id': track['user_id'].values[0],\n",
    "            'isliked': int('like' in track['event_type'].values),\n",
    "            'isskipped': int('skip' in track['event_type'].values)\n",
    "        })\n",
    "target_df = pd.DataFrame(cache)\n",
    "target_df = target_df.join(genres, on=\"track_id\").join(tracks.set_index('id'), on=\"track_id\").join(users.set_index('user_id'), on='user_id', rsuffix=\"_user\")\n",
    "target_df=target_df.drop(columns=[col for col in target_df.columns if 'id' in col])\n",
    "target_df['common_genres_size']=target_df.apply(lambda x: len(set(x['genres']).intersection(x['favourite_genres'])), axis=1)\n",
    "target_df=target_df.drop(columns=['genres', 'name', 'name_user', 'favourite_genres', 'mode'])"
   ],
   "metadata": {
    "collapsed": false,
    "ExecuteTime": {
     "end_time": "2023-12-20T17:27:42.581158127Z",
     "start_time": "2023-12-20T17:27:36.061530208Z"
    }
   },
   "id": "7b6b4ed8e55f045"
  },
  {
   "cell_type": "code",
   "execution_count": 141,
   "outputs": [
    {
     "data": {
      "text/plain": "isliked       0     1\nisskipped            \n0          6126  1947\n1          3028  1263",
      "text/html": "<div>\n<style scoped>\n    .dataframe tbody tr th:only-of-type {\n        vertical-align: middle;\n    }\n\n    .dataframe tbody tr th {\n        vertical-align: top;\n    }\n\n    .dataframe thead th {\n        text-align: right;\n    }\n</style>\n<table border=\"1\" class=\"dataframe\">\n  <thead>\n    <tr style=\"text-align: right;\">\n      <th>isliked</th>\n      <th>0</th>\n      <th>1</th>\n    </tr>\n    <tr>\n      <th>isskipped</th>\n      <th></th>\n      <th></th>\n    </tr>\n  </thead>\n  <tbody>\n    <tr>\n      <th>0</th>\n      <td>6126</td>\n      <td>1947</td>\n    </tr>\n    <tr>\n      <th>1</th>\n      <td>3028</td>\n      <td>1263</td>\n    </tr>\n  </tbody>\n</table>\n</div>"
     },
     "execution_count": 141,
     "metadata": {},
     "output_type": "execute_result"
    },
    {
     "data": {
      "text/plain": "<Figure size 640x480 with 2 Axes>",
      "image/png": "[encoded data removed]"
     },
     "metadata": {},
     "output_type": "display_data"
    }
   ],
   "source": [
    "# target_df.drop(columns=['isskipped']).corrwith(target_df['isskipped'], numeric_only=True)\n",
    "sns.heatmap(pd.crosstab(target_df['isskipped'], target_df['isliked']), annot=True, cmap='Blues', fmt='g')\n",
    "pd.crosstab(target_df['isskipped'], target_df['isliked'])"
   ],
   "metadata": {
    "collapsed": false,
    "ExecuteTime": {
     "end_time": "2023-12-20T17:40:16.579806256Z",
     "start_time": "2023-12-20T17:40:16.182337539Z"
    }
   },
   "id": "66be4a3197f4de7f"
  },
  {
   "cell_type": "code",
   "execution_count": null,
   "outputs": [],
   "source": [],
   "metadata": {
    "collapsed": false
   },
   "id": "a1425e4bfda0f073"
  }
 ],
 "metadata": {
  "kernelspec": {
   "display_name": "Python 3",
   "language": "python",
   "name": "python3"
  },
  "language_info": {
   "codemirror_mode": {
    "name": "ipython",
    "version": 2
   },
   "file_extension": ".py",
   "mimetype": "text/x-python",
   "name": "python",
   "nbconvert_exporter": "python",
   "pygments_lexer": "ipython2",
   "version": "2.7.6"
  }
 },
 "nbformat": 4,
 "nbformat_minor": 5
}
