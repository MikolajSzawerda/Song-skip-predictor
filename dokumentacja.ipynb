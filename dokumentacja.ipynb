{
 "cells": [
  {
   "cell_type": "code",
   "execution_count": 209,
   "id": "initial_id",
   "metadata": {
    "collapsed": true,
    "ExecuteTime": {
     "end_time": "2023-12-23T17:56:02.061504246Z",
     "start_time": "2023-12-23T17:56:01.673677644Z"
    }
   },
   "outputs": [],
   "source": [
    "import pandas as pd\n",
    "import numpy as np\n",
    "import seaborn as sns\n",
    "from pandas import Timedelta\n",
    "sns.set_theme()\n",
    "import matplotlib.pyplot as plt\n",
    "sns.set_theme(style=\"whitegrid\")\n",
    "sessions = pd.read_json(\"data/sessions.jsonl\", lines=True)\n",
    "artists = pd.read_json(\"data/artists.jsonl\", lines=True)\n",
    "tracks = pd.read_json(\"data/tracks.jsonl\", lines=True)\n",
    "track_storage = pd.read_json(\"data/track_storage.jsonl\", lines=True)\n",
    "users = pd.read_json(\"data/users.jsonl\", lines=True)\n",
    "genres = tracks.join(artists.set_index('id')['genres'], on='id_artist', rsuffix='_author').set_index('id')['genres']\n"
   ]
  },
  {
   "cell_type": "markdown",
   "source": [
    "# Analiza braków"
   ],
   "metadata": {
    "collapsed": false
   },
   "id": "301aa96b43185b01"
  },
  {
   "cell_type": "code",
   "execution_count": 11,
   "outputs": [
    {
     "data": {
      "text/plain": "timestamp     0.0\nuser_id       0.0\ntrack_id      0.0\nevent_type    0.0\nsession_id    0.0\ndtype: float64"
     },
     "execution_count": 11,
     "metadata": {},
     "output_type": "execute_result"
    }
   ],
   "source": [
    "sessions.isnull().mean()"
   ],
   "metadata": {
    "collapsed": false,
    "ExecuteTime": {
     "end_time": "2023-12-20T13:08:40.310947098Z",
     "start_time": "2023-12-20T13:08:40.262340053Z"
    }
   },
   "id": "aa633a17aa6d5d42"
  },
  {
   "cell_type": "code",
   "execution_count": 146,
   "outputs": [
    {
     "data": {
      "text/plain": "genres\nrock                        362\nadult standards             254\nsoft rock                   252\nmellow gold                 246\nclassic rock                241\n                           ... \nmetal uruguayo                1\nukrainian electronic          1\nindie folk argentino          1\nnuevo folklore argentino      1\nfocus trance                  1\nName: count, Length: 2904, dtype: int64"
     },
     "execution_count": 146,
     "metadata": {},
     "output_type": "execute_result"
    }
   ],
   "source": [
    "artists.isnull().mean()\n",
    "artists.genres.explode().value_counts()"
   ],
   "metadata": {
    "collapsed": false,
    "ExecuteTime": {
     "end_time": "2023-12-23T12:51:36.923575009Z",
     "start_time": "2023-12-23T12:51:36.910774404Z"
    }
   },
   "id": "b3403e25b6bf33ab"
  },
  {
   "cell_type": "code",
   "execution_count": 9,
   "outputs": [
    {
     "data": {
      "text/plain": "id                  0.000000\nname                0.000000\npopularity          0.000000\nduration_ms         0.000000\nexplicit            0.000000\nid_artist           0.000000\nrelease_date        0.000000\ndanceability        0.000000\nenergy              0.000000\nkey                 0.000000\nmode                0.800028\nloudness            0.000000\nspeechiness         0.000000\nacousticness        0.000000\ninstrumentalness    0.000000\nliveness            0.000000\nvalence             0.000000\ntempo               0.000000\ntime_signature      0.000000\ndtype: float64"
     },
     "execution_count": 9,
     "metadata": {},
     "output_type": "execute_result"
    }
   ],
   "source": [
    "tracks.isnull().mean()"
   ],
   "metadata": {
    "collapsed": false,
    "ExecuteTime": {
     "end_time": "2023-12-20T13:08:19.305689984Z",
     "start_time": "2023-12-20T13:08:19.261287978Z"
    }
   },
   "id": "bbaa87fa4c3b876b"
  },
  {
   "cell_type": "code",
   "execution_count": 12,
   "outputs": [
    {
     "data": {
      "text/plain": "track_id         0\nstorage_class    0\ndaily_cost       0\ndtype: int64"
     },
     "execution_count": 12,
     "metadata": {},
     "output_type": "execute_result"
    }
   ],
   "source": [
    "track_storage.isnull().sum()"
   ],
   "metadata": {
    "collapsed": false,
    "ExecuteTime": {
     "end_time": "2023-12-20T13:08:53.046430351Z",
     "start_time": "2023-12-20T13:08:53.035168962Z"
    }
   },
   "id": "4a74b5fa0fb061c1"
  },
  {
   "cell_type": "code",
   "execution_count": 175,
   "outputs": [
    {
     "data": {
      "text/plain": "user_id             0\nname                0\ncity                0\nstreet              0\nfavourite_genres    0\npremium_user        0\ndtype: int64"
     },
     "execution_count": 175,
     "metadata": {},
     "output_type": "execute_result"
    }
   ],
   "source": [
    "users.isnull().sum()"
   ],
   "metadata": {
    "collapsed": false,
    "ExecuteTime": {
     "end_time": "2023-12-23T13:12:28.008042502Z",
     "start_time": "2023-12-23T13:12:27.992385116Z"
    }
   },
   "id": "224e3aeedd4b90c"
  },
  {
   "cell_type": "markdown",
   "source": [
    "# Analiza informatywnosci"
   ],
   "metadata": {
    "collapsed": false
   },
   "id": "aae0b67fdfb93db7"
  },
  {
   "cell_type": "code",
   "execution_count": 182,
   "outputs": [
    {
     "data": {
      "text/plain": "                     track_id  user_id  listen_count\n0                                  101            50\n1                                  102           123\n2                                  103            15\n3                                  104            14\n4                                  105            88\n...                       ...      ...           ...\n10239  7zm4upLq0DrZlTHD2ELmQ6      103             1\n10240  7zm4upLq0DrZlTHD2ELmQ6      134             2\n10241  7zmZ3iPGurN0nkxvI357eQ      130             2\n10242  7zoT4byNQbcn3boUy7ZOra      113             3\n10243  7zzoxJbgjme3366mOp5UnH      140             1\n\n[10244 rows x 3 columns]",
      "text/html": "<div>\n<style scoped>\n    .dataframe tbody tr th:only-of-type {\n        vertical-align: middle;\n    }\n\n    .dataframe tbody tr th {\n        vertical-align: top;\n    }\n\n    .dataframe thead th {\n        text-align: right;\n    }\n</style>\n<table border=\"1\" class=\"dataframe\">\n  <thead>\n    <tr style=\"text-align: right;\">\n      <th></th>\n      <th>track_id</th>\n      <th>user_id</th>\n      <th>listen_count</th>\n    </tr>\n  </thead>\n  <tbody>\n    <tr>\n      <th>0</th>\n      <td></td>\n      <td>101</td>\n      <td>50</td>\n    </tr>\n    <tr>\n      <th>1</th>\n      <td></td>\n      <td>102</td>\n      <td>123</td>\n    </tr>\n    <tr>\n      <th>2</th>\n      <td></td>\n      <td>103</td>\n      <td>15</td>\n    </tr>\n    <tr>\n      <th>3</th>\n      <td></td>\n      <td>104</td>\n      <td>14</td>\n    </tr>\n    <tr>\n      <th>4</th>\n      <td></td>\n      <td>105</td>\n      <td>88</td>\n    </tr>\n    <tr>\n      <th>...</th>\n      <td>...</td>\n      <td>...</td>\n      <td>...</td>\n    </tr>\n    <tr>\n      <th>10239</th>\n      <td>7zm4upLq0DrZlTHD2ELmQ6</td>\n      <td>103</td>\n      <td>1</td>\n    </tr>\n    <tr>\n      <th>10240</th>\n      <td>7zm4upLq0DrZlTHD2ELmQ6</td>\n      <td>134</td>\n      <td>2</td>\n    </tr>\n    <tr>\n      <th>10241</th>\n      <td>7zmZ3iPGurN0nkxvI357eQ</td>\n      <td>130</td>\n      <td>2</td>\n    </tr>\n    <tr>\n      <th>10242</th>\n      <td>7zoT4byNQbcn3boUy7ZOra</td>\n      <td>113</td>\n      <td>3</td>\n    </tr>\n    <tr>\n      <th>10243</th>\n      <td>7zzoxJbgjme3366mOp5UnH</td>\n      <td>140</td>\n      <td>1</td>\n    </tr>\n  </tbody>\n</table>\n<p>10244 rows × 3 columns</p>\n</div>"
     },
     "execution_count": 182,
     "metadata": {},
     "output_type": "execute_result"
    }
   ],
   "source": [],
   "metadata": {
    "collapsed": false,
    "ExecuteTime": {
     "end_time": "2023-12-23T13:15:32.281518304Z",
     "start_time": "2023-12-23T13:15:32.261343917Z"
    }
   },
   "id": "c63c34599b31eb46"
  },
  {
   "cell_type": "code",
   "execution_count": 241,
   "outputs": [
    {
     "ename": "KeyboardInterrupt",
     "evalue": "",
     "output_type": "error",
     "traceback": [
      "\u001B[0;31m---------------------------------------------------------------------------\u001B[0m",
      "\u001B[0;31mKeyboardInterrupt\u001B[0m                         Traceback (most recent call last)",
      "Cell \u001B[0;32mIn[241], line 16\u001B[0m\n\u001B[1;32m     14\u001B[0m         track_id \u001B[38;5;241m=\u001B[39m track[\u001B[38;5;124m'\u001B[39m\u001B[38;5;124mtrack_id\u001B[39m\u001B[38;5;124m'\u001B[39m]\u001B[38;5;241m.\u001B[39mvalues[\u001B[38;5;241m0\u001B[39m]\n\u001B[1;32m     15\u001B[0m         user_id \u001B[38;5;241m=\u001B[39m track[\u001B[38;5;124m'\u001B[39m\u001B[38;5;124muser_id\u001B[39m\u001B[38;5;124m'\u001B[39m]\u001B[38;5;241m.\u001B[39mvalues[\u001B[38;5;241m0\u001B[39m]\n\u001B[0;32m---> 16\u001B[0m         lc \u001B[38;5;241m=\u001B[39m listen_count[(\u001B[43mlisten_count\u001B[49m\u001B[43m[\u001B[49m\u001B[38;5;124;43m'\u001B[39;49m\u001B[38;5;124;43mtrack_id\u001B[39;49m\u001B[38;5;124;43m'\u001B[39;49m\u001B[43m]\u001B[49m\u001B[43m \u001B[49m\u001B[38;5;241;43m==\u001B[39;49m\u001B[43m \u001B[49m\u001B[43mtrack_id\u001B[49m) \u001B[38;5;241m&\u001B[39m (listen_count[\u001B[38;5;124m'\u001B[39m\u001B[38;5;124muser_id\u001B[39m\u001B[38;5;124m'\u001B[39m]\u001B[38;5;241m==\u001B[39muser_id)][\u001B[38;5;124m'\u001B[39m\u001B[38;5;124mlisten_count\u001B[39m\u001B[38;5;124m'\u001B[39m]\u001B[38;5;241m.\u001B[39miloc[\u001B[38;5;241m0\u001B[39m]\n\u001B[1;32m     17\u001B[0m         cache\u001B[38;5;241m.\u001B[39mappend({\n\u001B[1;32m     18\u001B[0m             \u001B[38;5;124m'\u001B[39m\u001B[38;5;124mtrack_id\u001B[39m\u001B[38;5;124m'\u001B[39m: track[\u001B[38;5;124m'\u001B[39m\u001B[38;5;124mtrack_id\u001B[39m\u001B[38;5;124m'\u001B[39m]\u001B[38;5;241m.\u001B[39mvalues[\u001B[38;5;241m0\u001B[39m],\n\u001B[1;32m     19\u001B[0m             \u001B[38;5;124m'\u001B[39m\u001B[38;5;124mtimestamp\u001B[39m\u001B[38;5;124m'\u001B[39m: \u001B[38;5;28mmin\u001B[39m(track[\u001B[38;5;124m'\u001B[39m\u001B[38;5;124mtimestamp\u001B[39m\u001B[38;5;124m'\u001B[39m]\u001B[38;5;241m.\u001B[39mvalues),\n\u001B[0;32m   (...)\u001B[0m\n\u001B[1;32m     25\u001B[0m             \u001B[38;5;124m'\u001B[39m\u001B[38;5;124mlisten_count\u001B[39m\u001B[38;5;124m'\u001B[39m: lc\n\u001B[1;32m     26\u001B[0m         })\n\u001B[1;32m     27\u001B[0m target_df \u001B[38;5;241m=\u001B[39m pd\u001B[38;5;241m.\u001B[39mDataFrame(cache)\n",
      "File \u001B[0;32m~/Studia/SEM5/IUM/analyze/venv/lib/python3.11/site-packages/pandas/core/ops/common.py:76\u001B[0m, in \u001B[0;36m_unpack_zerodim_and_defer.<locals>.new_method\u001B[0;34m(self, other)\u001B[0m\n\u001B[1;32m     72\u001B[0m             \u001B[38;5;28;01mreturn\u001B[39;00m \u001B[38;5;28mNotImplemented\u001B[39m\n\u001B[1;32m     74\u001B[0m other \u001B[38;5;241m=\u001B[39m item_from_zerodim(other)\n\u001B[0;32m---> 76\u001B[0m \u001B[38;5;28;01mreturn\u001B[39;00m \u001B[43mmethod\u001B[49m\u001B[43m(\u001B[49m\u001B[38;5;28;43mself\u001B[39;49m\u001B[43m,\u001B[49m\u001B[43m \u001B[49m\u001B[43mother\u001B[49m\u001B[43m)\u001B[49m\n",
      "File \u001B[0;32m~/Studia/SEM5/IUM/analyze/venv/lib/python3.11/site-packages/pandas/core/arraylike.py:40\u001B[0m, in \u001B[0;36mOpsMixin.__eq__\u001B[0;34m(self, other)\u001B[0m\n\u001B[1;32m     38\u001B[0m \u001B[38;5;129m@unpack_zerodim_and_defer\u001B[39m(\u001B[38;5;124m\"\u001B[39m\u001B[38;5;124m__eq__\u001B[39m\u001B[38;5;124m\"\u001B[39m)\n\u001B[1;32m     39\u001B[0m \u001B[38;5;28;01mdef\u001B[39;00m \u001B[38;5;21m__eq__\u001B[39m(\u001B[38;5;28mself\u001B[39m, other):\n\u001B[0;32m---> 40\u001B[0m     \u001B[38;5;28;01mreturn\u001B[39;00m \u001B[38;5;28;43mself\u001B[39;49m\u001B[38;5;241;43m.\u001B[39;49m\u001B[43m_cmp_method\u001B[49m\u001B[43m(\u001B[49m\u001B[43mother\u001B[49m\u001B[43m,\u001B[49m\u001B[43m \u001B[49m\u001B[43moperator\u001B[49m\u001B[38;5;241;43m.\u001B[39;49m\u001B[43meq\u001B[49m\u001B[43m)\u001B[49m\n",
      "File \u001B[0;32m~/Studia/SEM5/IUM/analyze/venv/lib/python3.11/site-packages/pandas/core/series.py:5799\u001B[0m, in \u001B[0;36mSeries._cmp_method\u001B[0;34m(self, other, op)\u001B[0m\n\u001B[1;32m   5796\u001B[0m lvalues \u001B[38;5;241m=\u001B[39m \u001B[38;5;28mself\u001B[39m\u001B[38;5;241m.\u001B[39m_values\n\u001B[1;32m   5797\u001B[0m rvalues \u001B[38;5;241m=\u001B[39m extract_array(other, extract_numpy\u001B[38;5;241m=\u001B[39m\u001B[38;5;28;01mTrue\u001B[39;00m, extract_range\u001B[38;5;241m=\u001B[39m\u001B[38;5;28;01mTrue\u001B[39;00m)\n\u001B[0;32m-> 5799\u001B[0m res_values \u001B[38;5;241m=\u001B[39m \u001B[43mops\u001B[49m\u001B[38;5;241;43m.\u001B[39;49m\u001B[43mcomparison_op\u001B[49m\u001B[43m(\u001B[49m\u001B[43mlvalues\u001B[49m\u001B[43m,\u001B[49m\u001B[43m \u001B[49m\u001B[43mrvalues\u001B[49m\u001B[43m,\u001B[49m\u001B[43m \u001B[49m\u001B[43mop\u001B[49m\u001B[43m)\u001B[49m\n\u001B[1;32m   5801\u001B[0m \u001B[38;5;28;01mreturn\u001B[39;00m \u001B[38;5;28mself\u001B[39m\u001B[38;5;241m.\u001B[39m_construct_result(res_values, name\u001B[38;5;241m=\u001B[39mres_name)\n",
      "File \u001B[0;32m~/Studia/SEM5/IUM/analyze/venv/lib/python3.11/site-packages/pandas/core/ops/array_ops.py:346\u001B[0m, in \u001B[0;36mcomparison_op\u001B[0;34m(left, right, op)\u001B[0m\n\u001B[1;32m    343\u001B[0m     \u001B[38;5;28;01mreturn\u001B[39;00m invalid_comparison(lvalues, rvalues, op)\n\u001B[1;32m    345\u001B[0m \u001B[38;5;28;01melif\u001B[39;00m lvalues\u001B[38;5;241m.\u001B[39mdtype \u001B[38;5;241m==\u001B[39m \u001B[38;5;28mobject\u001B[39m \u001B[38;5;129;01mor\u001B[39;00m \u001B[38;5;28misinstance\u001B[39m(rvalues, \u001B[38;5;28mstr\u001B[39m):\n\u001B[0;32m--> 346\u001B[0m     res_values \u001B[38;5;241m=\u001B[39m \u001B[43mcomp_method_OBJECT_ARRAY\u001B[49m\u001B[43m(\u001B[49m\u001B[43mop\u001B[49m\u001B[43m,\u001B[49m\u001B[43m \u001B[49m\u001B[43mlvalues\u001B[49m\u001B[43m,\u001B[49m\u001B[43m \u001B[49m\u001B[43mrvalues\u001B[49m\u001B[43m)\u001B[49m\n\u001B[1;32m    348\u001B[0m \u001B[38;5;28;01melse\u001B[39;00m:\n\u001B[1;32m    349\u001B[0m     res_values \u001B[38;5;241m=\u001B[39m _na_arithmetic_op(lvalues, rvalues, op, is_cmp\u001B[38;5;241m=\u001B[39m\u001B[38;5;28;01mTrue\u001B[39;00m)\n",
      "File \u001B[0;32m~/Studia/SEM5/IUM/analyze/venv/lib/python3.11/site-packages/pandas/core/ops/array_ops.py:131\u001B[0m, in \u001B[0;36mcomp_method_OBJECT_ARRAY\u001B[0;34m(op, x, y)\u001B[0m\n\u001B[1;32m    129\u001B[0m     result \u001B[38;5;241m=\u001B[39m libops\u001B[38;5;241m.\u001B[39mvec_compare(x\u001B[38;5;241m.\u001B[39mravel(), y\u001B[38;5;241m.\u001B[39mravel(), op)\n\u001B[1;32m    130\u001B[0m \u001B[38;5;28;01melse\u001B[39;00m:\n\u001B[0;32m--> 131\u001B[0m     result \u001B[38;5;241m=\u001B[39m \u001B[43mlibops\u001B[49m\u001B[38;5;241;43m.\u001B[39;49m\u001B[43mscalar_compare\u001B[49m\u001B[43m(\u001B[49m\u001B[43mx\u001B[49m\u001B[38;5;241;43m.\u001B[39;49m\u001B[43mravel\u001B[49m\u001B[43m(\u001B[49m\u001B[43m)\u001B[49m\u001B[43m,\u001B[49m\u001B[43m \u001B[49m\u001B[43my\u001B[49m\u001B[43m,\u001B[49m\u001B[43m \u001B[49m\u001B[43mop\u001B[49m\u001B[43m)\u001B[49m\n\u001B[1;32m    132\u001B[0m \u001B[38;5;28;01mreturn\u001B[39;00m result\u001B[38;5;241m.\u001B[39mreshape(x\u001B[38;5;241m.\u001B[39mshape)\n",
      "\u001B[0;31mKeyboardInterrupt\u001B[0m: "
     ]
    }
   ],
   "source": [
    "ses = sessions[sessions['event_type'].isin(['play', 'skip', 'like'])]\n",
    "user_sessions = ses.groupby(['session_id'])\n",
    "listen_count = sessions.groupby(['track_id', 'user_id']).size().reset_index(name='listen_count')\n",
    "\n",
    "cache = []\n",
    "for _, session in user_sessions:\n",
    "    session = session.reset_index()\n",
    "    track_gr = session.reset_index().groupby(['track_id'])\n",
    "    session.sort_values('timestamp')\n",
    "    skip_ev = session[session['event_type']=='skip']['event_type'].count()\n",
    "    play_ev = session[session['event_type']=='play']['event_type'].count()\n",
    "    session_duration = max(session['timestamp'])-min(session['timestamp'])\n",
    "    for _, track in track_gr:\n",
    "        track_id = track['track_id'].values[0]\n",
    "        user_id = track['user_id'].values[0]\n",
    "        lc = listen_count[(listen_count['track_id'] == track_id) & (listen_count['user_id']==user_id)]['listen_count'].iloc[0]\n",
    "        cache.append({\n",
    "            'track_id': track['track_id'].values[0],\n",
    "            'timestamp': min(track['timestamp'].values),\n",
    "            'user_id': track['user_id'].values[0],\n",
    "            'isliked': int('like' in track['event_type'].values),\n",
    "            'isskipped': int('skip' in track['event_type'].values),\n",
    "            'session_skip_rate': skip_ev/(skip_ev+play_ev),\n",
    "            'session_duration': session_duration.total_seconds(),\n",
    "            'listen_count': lc\n",
    "        })\n",
    "target_df = pd.DataFrame(cache)\n",
    "target_df = target_df.join(genres, on=\"track_id\").join(tracks.set_index('id'), on=\"track_id\").join(users.set_index('user_id'), on='user_id', rsuffix=\"_user\")\n",
    "user_skip_rate = target_df.groupby('user_id')['isskipped'].mean().rename('user_skip_rate')\n",
    "target_df = target_df.join(user_skip_rate, on='user_id')\n",
    "\n",
    "target_df=target_df.drop(columns=[col for col in target_df.columns if 'id' in col])\n",
    "\n",
    "def genre_similarity(genres1, genres2):\n",
    "    # Split genres into words\n",
    "    simillar = 0\n",
    "    for g1 in genres1:\n",
    "        for g2 in genres2:\n",
    "            words_genre1 = set(g1.lower().split())\n",
    "            words_genre2 = set(g2.lower().split())\n",
    "            similarity = any(word in words_genre2 for word in words_genre1)\n",
    "            simillar += 1 if similarity else 0\n",
    "    return  simillar\n",
    "\n",
    "target_df['common_genres_size']=target_df.apply(lambda x: genre_similarity(x['genres'], x['favourite_genres']), axis=1)\n",
    "#target_df['common_genres_size']=target_df.apply(lambda x: len(set(x['genres']).intersection(x['favourite_genres'])), axis=1)\n",
    "\n",
    "\n",
    "target_df=target_df.drop(columns=['genres', 'name', 'name_user', 'favourite_genres', 'mode'])"
   ],
   "metadata": {
    "collapsed": false,
    "ExecuteTime": {
     "end_time": "2023-12-23T18:23:06.241635568Z",
     "start_time": "2023-12-23T18:22:49.178789641Z"
    }
   },
   "id": "7b6b4ed8e55f045"
  },
  {
   "cell_type": "code",
   "execution_count": 294,
   "outputs": [
    {
     "data": {
      "text/plain": "                    timestamp  isliked  isskipped  emwa_skipped  popularity  \\\n0     2023-01-02 05:58:46.000        1          0      0.000000          25   \n1     2023-01-02 06:06:03.813        1          0      0.000000          18   \n2     2023-01-02 06:08:00.920        1          0      0.000000          43   \n3     2023-01-02 06:11:45.853        1          0      0.000000          44   \n4     2023-01-02 06:17:59.823        0          1      0.800000          33   \n...                       ...      ...        ...           ...         ...   \n12701 2023-10-28 22:06:48.586        0          0      0.166720          76   \n12702 2023-10-28 22:10:22.159        0          0      0.033344          83   \n12703 2023-10-28 22:14:03.852        0          0      0.006669          79   \n12704 2023-10-28 22:18:04.212        0          1      0.801334          81   \n12705 2023-10-28 22:21:41.817        0          1      0.960267          84   \n\n       duration_ms  explicit release_date  danceability  energy  ...  \\\n0           437813         0   1981-08-26         0.427   0.381  ...   \n1           117107         0   1980-01-01         0.533   0.316  ...   \n2           224933         0   1998-01-01         0.450   0.451  ...   \n3           373970         0   1970-06-01         0.332   0.423  ...   \n4           224000         0      1979-02         0.506   0.877  ...   \n...            ...       ...          ...           ...     ...  ...   \n12701       213573         1   2019-08-15         0.584   0.684  ...   \n12702       199693         0   2010-01-01         0.755   0.837  ...   \n12703       215360         0   2006-01-01         0.739   0.511  ...   \n12704       261603         0   2020-06-25         0.680   0.613  ...   \n12705       231733         0   2003-04-01         0.726   0.463  ...   \n\n       acousticness  instrumentalness  liveness  valence    tempo  \\\n0           0.54400          0.000239    0.6900    0.526  204.945   \n1           0.69200          0.000000    0.1380    0.394   80.733   \n2           0.26100          0.000000    0.0734    0.295  162.147   \n3           0.26100          0.000140    0.0716    0.519  236.799   \n4           0.30000          0.000330    0.4220    0.765  156.689   \n...             ...               ...       ...      ...      ...   \n12701       0.31200          0.000091    0.1120    0.720  210.164   \n12702       0.09910          0.000000    0.2890    0.714  120.028   \n12703       0.16700          0.000001    0.1330    0.542   96.038   \n12704       0.75800          0.000000    0.1610    0.609  100.127   \n12705       0.00817          0.447000    0.2550    0.321  123.881   \n\n       time_signature     city               street  premium_user  \\\n0                   3   Kraków  aleja Liliowa 48/22         False   \n1                   4   Kraków  aleja Liliowa 48/22         False   \n2                   3   Kraków  aleja Liliowa 48/22         False   \n3                   3   Kraków  aleja Liliowa 48/22         False   \n4                   4   Kraków  aleja Liliowa 48/22         False   \n...               ...      ...                  ...           ...   \n12701               4  Wrocław     ulica Rejtana 40         False   \n12702               4  Wrocław     ulica Rejtana 40         False   \n12703               4  Wrocław     ulica Rejtana 40         False   \n12704               4  Wrocław     ulica Rejtana 40         False   \n12705               4  Wrocław     ulica Rejtana 40         False   \n\n      common_genres_size  \n0                     12  \n1                     12  \n2                      7  \n3                     12  \n4                     22  \n...                  ...  \n12701                  0  \n12702                  0  \n12703                  0  \n12704                  0  \n12705                 16  \n\n[12706 rows x 23 columns]",
      "text/html": "<div>\n<style scoped>\n    .dataframe tbody tr th:only-of-type {\n        vertical-align: middle;\n    }\n\n    .dataframe tbody tr th {\n        vertical-align: top;\n    }\n\n    .dataframe thead th {\n        text-align: right;\n    }\n</style>\n<table border=\"1\" class=\"dataframe\">\n  <thead>\n    <tr style=\"text-align: right;\">\n      <th></th>\n      <th>timestamp</th>\n      <th>isliked</th>\n      <th>isskipped</th>\n      <th>emwa_skipped</th>\n      <th>popularity</th>\n      <th>duration_ms</th>\n      <th>explicit</th>\n      <th>release_date</th>\n      <th>danceability</th>\n      <th>energy</th>\n      <th>...</th>\n      <th>acousticness</th>\n      <th>instrumentalness</th>\n      <th>liveness</th>\n      <th>valence</th>\n      <th>tempo</th>\n      <th>time_signature</th>\n      <th>city</th>\n      <th>street</th>\n      <th>premium_user</th>\n      <th>common_genres_size</th>\n    </tr>\n  </thead>\n  <tbody>\n    <tr>\n      <th>0</th>\n      <td>2023-01-02 05:58:46.000</td>\n      <td>1</td>\n      <td>0</td>\n      <td>0.000000</td>\n      <td>25</td>\n      <td>437813</td>\n      <td>0</td>\n      <td>1981-08-26</td>\n      <td>0.427</td>\n      <td>0.381</td>\n      <td>...</td>\n      <td>0.54400</td>\n      <td>0.000239</td>\n      <td>0.6900</td>\n      <td>0.526</td>\n      <td>204.945</td>\n      <td>3</td>\n      <td>Kraków</td>\n      <td>aleja Liliowa 48/22</td>\n      <td>False</td>\n      <td>12</td>\n    </tr>\n    <tr>\n      <th>1</th>\n      <td>2023-01-02 06:06:03.813</td>\n      <td>1</td>\n      <td>0</td>\n      <td>0.000000</td>\n      <td>18</td>\n      <td>117107</td>\n      <td>0</td>\n      <td>1980-01-01</td>\n      <td>0.533</td>\n      <td>0.316</td>\n      <td>...</td>\n      <td>0.69200</td>\n      <td>0.000000</td>\n      <td>0.1380</td>\n      <td>0.394</td>\n      <td>80.733</td>\n      <td>4</td>\n      <td>Kraków</td>\n      <td>aleja Liliowa 48/22</td>\n      <td>False</td>\n      <td>12</td>\n    </tr>\n    <tr>\n      <th>2</th>\n      <td>2023-01-02 06:08:00.920</td>\n      <td>1</td>\n      <td>0</td>\n      <td>0.000000</td>\n      <td>43</td>\n      <td>224933</td>\n      <td>0</td>\n      <td>1998-01-01</td>\n      <td>0.450</td>\n      <td>0.451</td>\n      <td>...</td>\n      <td>0.26100</td>\n      <td>0.000000</td>\n      <td>0.0734</td>\n      <td>0.295</td>\n      <td>162.147</td>\n      <td>3</td>\n      <td>Kraków</td>\n      <td>aleja Liliowa 48/22</td>\n      <td>False</td>\n      <td>7</td>\n    </tr>\n    <tr>\n      <th>3</th>\n      <td>2023-01-02 06:11:45.853</td>\n      <td>1</td>\n      <td>0</td>\n      <td>0.000000</td>\n      <td>44</td>\n      <td>373970</td>\n      <td>0</td>\n      <td>1970-06-01</td>\n      <td>0.332</td>\n      <td>0.423</td>\n      <td>...</td>\n      <td>0.26100</td>\n      <td>0.000140</td>\n      <td>0.0716</td>\n      <td>0.519</td>\n      <td>236.799</td>\n      <td>3</td>\n      <td>Kraków</td>\n      <td>aleja Liliowa 48/22</td>\n      <td>False</td>\n      <td>12</td>\n    </tr>\n    <tr>\n      <th>4</th>\n      <td>2023-01-02 06:17:59.823</td>\n      <td>0</td>\n      <td>1</td>\n      <td>0.800000</td>\n      <td>33</td>\n      <td>224000</td>\n      <td>0</td>\n      <td>1979-02</td>\n      <td>0.506</td>\n      <td>0.877</td>\n      <td>...</td>\n      <td>0.30000</td>\n      <td>0.000330</td>\n      <td>0.4220</td>\n      <td>0.765</td>\n      <td>156.689</td>\n      <td>4</td>\n      <td>Kraków</td>\n      <td>aleja Liliowa 48/22</td>\n      <td>False</td>\n      <td>22</td>\n    </tr>\n    <tr>\n      <th>...</th>\n      <td>...</td>\n      <td>...</td>\n      <td>...</td>\n      <td>...</td>\n      <td>...</td>\n      <td>...</td>\n      <td>...</td>\n      <td>...</td>\n      <td>...</td>\n      <td>...</td>\n      <td>...</td>\n      <td>...</td>\n      <td>...</td>\n      <td>...</td>\n      <td>...</td>\n      <td>...</td>\n      <td>...</td>\n      <td>...</td>\n      <td>...</td>\n      <td>...</td>\n      <td>...</td>\n    </tr>\n    <tr>\n      <th>12701</th>\n      <td>2023-10-28 22:06:48.586</td>\n      <td>0</td>\n      <td>0</td>\n      <td>0.166720</td>\n      <td>76</td>\n      <td>213573</td>\n      <td>1</td>\n      <td>2019-08-15</td>\n      <td>0.584</td>\n      <td>0.684</td>\n      <td>...</td>\n      <td>0.31200</td>\n      <td>0.000091</td>\n      <td>0.1120</td>\n      <td>0.720</td>\n      <td>210.164</td>\n      <td>4</td>\n      <td>Wrocław</td>\n      <td>ulica Rejtana 40</td>\n      <td>False</td>\n      <td>0</td>\n    </tr>\n    <tr>\n      <th>12702</th>\n      <td>2023-10-28 22:10:22.159</td>\n      <td>0</td>\n      <td>0</td>\n      <td>0.033344</td>\n      <td>83</td>\n      <td>199693</td>\n      <td>0</td>\n      <td>2010-01-01</td>\n      <td>0.755</td>\n      <td>0.837</td>\n      <td>...</td>\n      <td>0.09910</td>\n      <td>0.000000</td>\n      <td>0.2890</td>\n      <td>0.714</td>\n      <td>120.028</td>\n      <td>4</td>\n      <td>Wrocław</td>\n      <td>ulica Rejtana 40</td>\n      <td>False</td>\n      <td>0</td>\n    </tr>\n    <tr>\n      <th>12703</th>\n      <td>2023-10-28 22:14:03.852</td>\n      <td>0</td>\n      <td>0</td>\n      <td>0.006669</td>\n      <td>79</td>\n      <td>215360</td>\n      <td>0</td>\n      <td>2006-01-01</td>\n      <td>0.739</td>\n      <td>0.511</td>\n      <td>...</td>\n      <td>0.16700</td>\n      <td>0.000001</td>\n      <td>0.1330</td>\n      <td>0.542</td>\n      <td>96.038</td>\n      <td>4</td>\n      <td>Wrocław</td>\n      <td>ulica Rejtana 40</td>\n      <td>False</td>\n      <td>0</td>\n    </tr>\n    <tr>\n      <th>12704</th>\n      <td>2023-10-28 22:18:04.212</td>\n      <td>0</td>\n      <td>1</td>\n      <td>0.801334</td>\n      <td>81</td>\n      <td>261603</td>\n      <td>0</td>\n      <td>2020-06-25</td>\n      <td>0.680</td>\n      <td>0.613</td>\n      <td>...</td>\n      <td>0.75800</td>\n      <td>0.000000</td>\n      <td>0.1610</td>\n      <td>0.609</td>\n      <td>100.127</td>\n      <td>4</td>\n      <td>Wrocław</td>\n      <td>ulica Rejtana 40</td>\n      <td>False</td>\n      <td>0</td>\n    </tr>\n    <tr>\n      <th>12705</th>\n      <td>2023-10-28 22:21:41.817</td>\n      <td>0</td>\n      <td>1</td>\n      <td>0.960267</td>\n      <td>84</td>\n      <td>231733</td>\n      <td>0</td>\n      <td>2003-04-01</td>\n      <td>0.726</td>\n      <td>0.463</td>\n      <td>...</td>\n      <td>0.00817</td>\n      <td>0.447000</td>\n      <td>0.2550</td>\n      <td>0.321</td>\n      <td>123.881</td>\n      <td>4</td>\n      <td>Wrocław</td>\n      <td>ulica Rejtana 40</td>\n      <td>False</td>\n      <td>16</td>\n    </tr>\n  </tbody>\n</table>\n<p>12706 rows × 23 columns</p>\n</div>"
     },
     "execution_count": 294,
     "metadata": {},
     "output_type": "execute_result"
    }
   ],
   "source": [
    "ses = sessions[sessions['event_type'].isin(['play', 'skip', 'like'])]\n",
    "user_sessions = ses.groupby(['session_id'])\n",
    "alpha = 0.8\n",
    "cache = []\n",
    "for idx, session in user_sessions:\n",
    "    session = session.reset_index()\n",
    "    session['track'] = (session['track_id'] != session['track_id'].shift()).cumsum()\n",
    "    skip_count = 0\n",
    "    play_count = 0\n",
    "    like_count = 0\n",
    "    session_duration = Timedelta(0)\n",
    "    ewma_skipped = 0\n",
    "    for _, track in session.groupby('track'):\n",
    "        play_count += 1\n",
    "        headers = track.iloc[0]\n",
    "        track_id = headers['track_id']\n",
    "        user_id = headers['user_id']\n",
    "        isskipped = 'skip' in track['event_type'].values\n",
    "        ewma_skipped = alpha*isskipped+(1-alpha)*ewma_skipped\n",
    "        \n",
    "        isliked = 'like' in track['event_type'].values\n",
    "        like_count += int(isskipped)\n",
    "        skip_count += int(isliked)\n",
    "        cache.append({\n",
    "            'track_id': headers['track_id'],\n",
    "            'timestamp': headers['timestamp'],\n",
    "            'user_id': headers['user_id'],\n",
    "            'isliked': int(isliked),\n",
    "            'isskipped': int(isskipped),\n",
    "            'session_skip_rate': skip_count/play_count,\n",
    "            'session_duration': session_duration.total_seconds(),\n",
    "            'play_count': play_count,\n",
    "            'like_count': like_count,\n",
    "            'emwa_skipped': ewma_skipped\n",
    "        })\n",
    "        session_duration += max(track['timestamp'])-min(track['timestamp'])\n",
    "target_df = pd.DataFrame(cache)\n",
    "target_df['user_track_listens'] = target_df.groupby(['user_id', 'track_id']).cumcount() + 1\n",
    "target_df['user_listens'] = target_df.groupby(['user_id']).cumcount() + 1\n",
    "target_df['user_skips'] = target_df.groupby('user_id')['isskipped'].cumsum()\n",
    "target_df['user_skip_rate'] = target_df['user_skips']/target_df['user_listens']\n",
    "target_df = target_df.join(genres, on=\"track_id\").join(tracks.set_index('id'), on=\"track_id\").join(users.set_index('user_id'), on='user_id', rsuffix=\"_user\")\n",
    "target_df=target_df.drop(columns=[col for col in target_df.columns if 'id' in col])\n",
    "\n",
    "def genre_similarity(genres1, genres2):\n",
    "    # Split genres into words\n",
    "    simillar = 0\n",
    "    for g1 in genres1:\n",
    "        for g2 in genres2:\n",
    "            words_genre1 = set(g1.lower().split())\n",
    "            words_genre2 = set(g2.lower().split())\n",
    "            similarity = any(word in words_genre2 for word in words_genre1)\n",
    "            simillar += 1 if similarity else 0\n",
    "    return  simillar\n",
    "\n",
    "target_df['common_genres_size']=target_df.apply(lambda x: genre_similarity(x['genres'], x['favourite_genres']), axis=1)\n",
    "#target_df['common_genres_size']=target_df.apply(lambda x: len(set(x['genres']).intersection(x['favourite_genres'])), axis=1)\n",
    "\n",
    "\n",
    "target_df = target_df.drop(columns=['genres', 'name', 'name_user', 'favourite_genres', 'mode'])\n",
    "target_df"
   ],
   "metadata": {
    "collapsed": false,
    "ExecuteTime": {
     "end_time": "2023-12-23T20:11:37.324286858Z",
     "start_time": "2023-12-23T20:11:32.019944809Z"
    }
   },
   "id": "696c8eb602f2ccc"
  },
  {
   "cell_type": "code",
   "execution_count": 233,
   "outputs": [
    {
     "ename": "KeyboardInterrupt",
     "evalue": "",
     "output_type": "error",
     "traceback": [
      "\u001B[0;31m---------------------------------------------------------------------------\u001B[0m",
      "\u001B[0;31mKeyboardInterrupt\u001B[0m                         Traceback (most recent call last)",
      "Cell \u001B[0;32mIn[233], line 1\u001B[0m\n\u001B[0;32m----> 1\u001B[0m \u001B[43mtarget_df\u001B[49m\n",
      "Cell \u001B[0;32mIn[233], line 1\u001B[0m\n\u001B[0;32m----> 1\u001B[0m \u001B[43mtarget_df\u001B[49m\n",
      "File \u001B[0;32m~/.local/share/JetBrains/Toolbox/apps/pycharm-professional/plugins/python/helpers/pydev/_pydevd_bundle/pydevd_frame.py:747\u001B[0m, in \u001B[0;36mPyDBFrame.trace_dispatch\u001B[0;34m(self, frame, event, arg)\u001B[0m\n\u001B[1;32m    745\u001B[0m \u001B[38;5;66;03m# if thread has a suspend flag, we suspend with a busy wait\u001B[39;00m\n\u001B[1;32m    746\u001B[0m \u001B[38;5;28;01mif\u001B[39;00m info\u001B[38;5;241m.\u001B[39mpydev_state \u001B[38;5;241m==\u001B[39m STATE_SUSPEND:\n\u001B[0;32m--> 747\u001B[0m     \u001B[38;5;28;43mself\u001B[39;49m\u001B[38;5;241;43m.\u001B[39;49m\u001B[43mdo_wait_suspend\u001B[49m\u001B[43m(\u001B[49m\u001B[43mthread\u001B[49m\u001B[43m,\u001B[49m\u001B[43m \u001B[49m\u001B[43mframe\u001B[49m\u001B[43m,\u001B[49m\u001B[43m \u001B[49m\u001B[43mevent\u001B[49m\u001B[43m,\u001B[49m\u001B[43m \u001B[49m\u001B[43marg\u001B[49m\u001B[43m)\u001B[49m\n\u001B[1;32m    748\u001B[0m     \u001B[38;5;66;03m# No need to reset frame.f_trace to keep the same trace function.\u001B[39;00m\n\u001B[1;32m    749\u001B[0m     \u001B[38;5;28;01mreturn\u001B[39;00m \u001B[38;5;28mself\u001B[39m\u001B[38;5;241m.\u001B[39mtrace_dispatch\n",
      "File \u001B[0;32m~/.local/share/JetBrains/Toolbox/apps/pycharm-professional/plugins/python/helpers/pydev/_pydevd_bundle/pydevd_frame.py:144\u001B[0m, in \u001B[0;36mPyDBFrame.do_wait_suspend\u001B[0;34m(self, *args, **kwargs)\u001B[0m\n\u001B[1;32m    143\u001B[0m \u001B[38;5;28;01mdef\u001B[39;00m \u001B[38;5;21mdo_wait_suspend\u001B[39m(\u001B[38;5;28mself\u001B[39m, \u001B[38;5;241m*\u001B[39margs, \u001B[38;5;241m*\u001B[39m\u001B[38;5;241m*\u001B[39mkwargs):\n\u001B[0;32m--> 144\u001B[0m     \u001B[38;5;28;43mself\u001B[39;49m\u001B[38;5;241;43m.\u001B[39;49m\u001B[43m_args\u001B[49m\u001B[43m[\u001B[49m\u001B[38;5;241;43m0\u001B[39;49m\u001B[43m]\u001B[49m\u001B[38;5;241;43m.\u001B[39;49m\u001B[43mdo_wait_suspend\u001B[49m\u001B[43m(\u001B[49m\u001B[38;5;241;43m*\u001B[39;49m\u001B[43margs\u001B[49m\u001B[43m,\u001B[49m\u001B[43m \u001B[49m\u001B[38;5;241;43m*\u001B[39;49m\u001B[38;5;241;43m*\u001B[39;49m\u001B[43mkwargs\u001B[49m\u001B[43m)\u001B[49m\n",
      "File \u001B[0;32m~/.local/share/JetBrains/Toolbox/apps/pycharm-professional/plugins/python/helpers/pydev/pydevd.py:1160\u001B[0m, in \u001B[0;36mPyDB.do_wait_suspend\u001B[0;34m(self, thread, frame, event, arg, send_suspend_message, is_unhandled_exception)\u001B[0m\n\u001B[1;32m   1157\u001B[0m         from_this_thread\u001B[38;5;241m.\u001B[39mappend(frame_id)\n\u001B[1;32m   1159\u001B[0m \u001B[38;5;28;01mwith\u001B[39;00m \u001B[38;5;28mself\u001B[39m\u001B[38;5;241m.\u001B[39m_threads_suspended_single_notification\u001B[38;5;241m.\u001B[39mnotify_thread_suspended(thread_id, stop_reason):\n\u001B[0;32m-> 1160\u001B[0m     \u001B[38;5;28;43mself\u001B[39;49m\u001B[38;5;241;43m.\u001B[39;49m\u001B[43m_do_wait_suspend\u001B[49m\u001B[43m(\u001B[49m\u001B[43mthread\u001B[49m\u001B[43m,\u001B[49m\u001B[43m \u001B[49m\u001B[43mframe\u001B[49m\u001B[43m,\u001B[49m\u001B[43m \u001B[49m\u001B[43mevent\u001B[49m\u001B[43m,\u001B[49m\u001B[43m \u001B[49m\u001B[43marg\u001B[49m\u001B[43m,\u001B[49m\u001B[43m \u001B[49m\u001B[43msuspend_type\u001B[49m\u001B[43m,\u001B[49m\u001B[43m \u001B[49m\u001B[43mfrom_this_thread\u001B[49m\u001B[43m)\u001B[49m\n",
      "File \u001B[0;32m~/.local/share/JetBrains/Toolbox/apps/pycharm-professional/plugins/python/helpers/pydev/pydevd.py:1175\u001B[0m, in \u001B[0;36mPyDB._do_wait_suspend\u001B[0;34m(self, thread, frame, event, arg, suspend_type, from_this_thread)\u001B[0m\n\u001B[1;32m   1172\u001B[0m             \u001B[38;5;28mself\u001B[39m\u001B[38;5;241m.\u001B[39m_call_mpl_hook()\n\u001B[1;32m   1174\u001B[0m         \u001B[38;5;28mself\u001B[39m\u001B[38;5;241m.\u001B[39mprocess_internal_commands()\n\u001B[0;32m-> 1175\u001B[0m         time\u001B[38;5;241m.\u001B[39msleep(\u001B[38;5;241m0.01\u001B[39m)\n\u001B[1;32m   1177\u001B[0m \u001B[38;5;28mself\u001B[39m\u001B[38;5;241m.\u001B[39mcancel_async_evaluation(get_current_thread_id(thread), \u001B[38;5;28mstr\u001B[39m(\u001B[38;5;28mid\u001B[39m(frame)))\n\u001B[1;32m   1179\u001B[0m \u001B[38;5;66;03m# process any stepping instructions\u001B[39;00m\n",
      "\u001B[0;31mKeyboardInterrupt\u001B[0m: "
     ]
    }
   ],
   "source": [],
   "metadata": {
    "collapsed": false,
    "ExecuteTime": {
     "end_time": "2023-12-23T18:21:40.347285739Z",
     "start_time": "2023-12-23T18:21:18.108116346Z"
    }
   },
   "id": "2b29358a6a9edf59"
  },
  {
   "cell_type": "code",
   "execution_count": 234,
   "outputs": [
    {
     "data": {
      "text/plain": "isliked      0    1\nisskipped          \n0          462  153\n1           83   22",
      "text/html": "<div>\n<style scoped>\n    .dataframe tbody tr th:only-of-type {\n        vertical-align: middle;\n    }\n\n    .dataframe tbody tr th {\n        vertical-align: top;\n    }\n\n    .dataframe thead th {\n        text-align: right;\n    }\n</style>\n<table border=\"1\" class=\"dataframe\">\n  <thead>\n    <tr style=\"text-align: right;\">\n      <th>isliked</th>\n      <th>0</th>\n      <th>1</th>\n    </tr>\n    <tr>\n      <th>isskipped</th>\n      <th></th>\n      <th></th>\n    </tr>\n  </thead>\n  <tbody>\n    <tr>\n      <th>0</th>\n      <td>462</td>\n      <td>153</td>\n    </tr>\n    <tr>\n      <th>1</th>\n      <td>83</td>\n      <td>22</td>\n    </tr>\n  </tbody>\n</table>\n</div>"
     },
     "execution_count": 234,
     "metadata": {},
     "output_type": "execute_result"
    },
    {
     "data": {
      "text/plain": "<Figure size 640x480 with 2 Axes>",
      "image/png": "[encoded data removed]"
     },
     "metadata": {},
     "output_type": "display_data"
    }
   ],
   "source": [
    "# target_df.drop(columns=['isskipped']).corrwith(target_df['isskipped'], numeric_only=True)\n",
    "sns.heatmap(pd.crosstab(target_df['isskipped'], target_df['isliked']), annot=True, cmap='Blues', fmt='g')\n",
    "pd.crosstab(target_df['isskipped'], target_df['isliked'])"
   ],
   "metadata": {
    "collapsed": false,
    "ExecuteTime": {
     "end_time": "2023-12-23T18:21:45.216950039Z",
     "start_time": "2023-12-23T18:21:44.890037882Z"
    }
   },
   "id": "66be4a3197f4de7f"
  },
  {
   "cell_type": "code",
   "execution_count": 38,
   "outputs": [],
   "source": [
    "def extract_year(date_str):\n",
    "    if pd.isna(date_str):\n",
    "        return None\n",
    "    try:\n",
    "        year = date_str[:4]\n",
    "        return int(year)\n",
    "    except (ValueError, IndexError):\n",
    "        return None"
   ],
   "metadata": {
    "collapsed": false,
    "ExecuteTime": {
     "end_time": "2023-12-23T11:26:13.204563277Z",
     "start_time": "2023-12-23T11:26:13.157833043Z"
    }
   },
   "id": "2a8c156d5faa1fd1"
  },
  {
   "cell_type": "code",
   "execution_count": 235,
   "outputs": [],
   "source": [
    "def extract_release_date(tdf: pd.DataFrame):\n",
    "    def standardize_date(date):\n",
    "        parts = date.split('-')\n",
    "        if len(parts) == 1:  # Only year\n",
    "            return f\"{parts[0]}-01-01\"\n",
    "        elif len(parts) == 2:  # Year and month\n",
    "            return f\"{parts[0]}-{parts[1]}-01\"\n",
    "        return date\n",
    "    \n",
    "    tdf['standardized_date'] = tdf['release_date'].apply(standardize_date)\n",
    "    \n",
    "    # Convert to datetime and extract components\n",
    "    tdf['standardized_date'] = pd.to_datetime(tdf['standardized_date'])\n",
    "    tdf['release_year'] = tdf['standardized_date'].dt.year\n",
    "    tdf['release_daymonth'] = tdf['standardized_date'].dt.dayofyear\n",
    "    tdf =tdf.drop(columns=['standardized_date'])\n",
    "    \n",
    "    # Indicate completeness of date\n",
    "    def date_completeness(date):\n",
    "        parts = len(date.split('-'))\n",
    "        if parts == 1:\n",
    "            return 'year'\n",
    "        elif parts == 2:\n",
    "            return 'year_month'\n",
    "        return 'full_date'\n",
    "    \n",
    "    tdf['date_completeness'] = tdf['release_date'].apply(date_completeness)"
   ],
   "metadata": {
    "collapsed": false,
    "ExecuteTime": {
     "end_time": "2023-12-23T18:21:52.777583503Z",
     "start_time": "2023-12-23T18:21:52.773151684Z"
    }
   },
   "id": "26f3e06ba3308f75"
  },
  {
   "cell_type": "code",
   "execution_count": 48,
   "outputs": [],
   "source": [],
   "metadata": {
    "collapsed": false,
    "ExecuteTime": {
     "end_time": "2023-12-23T11:34:16.772371676Z",
     "start_time": "2023-12-23T11:34:16.728472322Z"
    }
   },
   "id": "ae5e11ec65991374"
  },
  {
   "cell_type": "code",
   "execution_count": 301,
   "outputs": [
    {
     "data": {
      "text/plain": "       isliked  isskipped  emwa_skipped  popularity  duration_ms  \\\n0            1          0      0.000000          25       437813   \n1            1          0      0.000000          18       117107   \n2            1          0      0.000000          43       224933   \n3            1          0      0.000000          44       373970   \n4            0          1      0.800000          33       224000   \n...        ...        ...           ...         ...          ...   \n12701        0          0      0.166720          76       213573   \n12702        0          0      0.033344          83       199693   \n12703        0          0      0.006669          79       215360   \n12704        0          1      0.801334          81       261603   \n12705        0          1      0.960267          84       231733   \n\n       danceability  loudness  speechiness  acousticness  instrumentalness  \\\n0             0.427   -12.040       0.0463       0.54400          0.000239   \n1             0.533   -11.435       0.0264       0.69200          0.000000   \n2             0.450    -9.219       0.0299       0.26100          0.000000   \n3             0.332   -12.102       0.0384       0.26100          0.000140   \n4             0.506    -9.342       0.0436       0.30000          0.000330   \n...             ...       ...          ...           ...               ...   \n12701         0.584    -4.314       0.5670       0.31200          0.000091   \n12702         0.755    -2.718       0.1420       0.09910          0.000000   \n12703         0.739    -7.844       0.0362       0.16700          0.000001   \n12704         0.680    -4.368       0.0818       0.75800          0.000000   \n12705         0.726    -7.828       0.0799       0.00817          0.447000   \n\n       liveness  valence  common_genres_size  hourminute  release_year  \\\n0        0.6900    0.526                  12         358          1981   \n1        0.1380    0.394                  12         366          1980   \n2        0.0734    0.295                   7         368          1998   \n3        0.0716    0.519                  12         371          1970   \n4        0.4220    0.765                  22         377          1979   \n...         ...      ...                 ...         ...           ...   \n12701    0.1120    0.720                   0        1326          2019   \n12702    0.2890    0.714                   0        1330          2010   \n12703    0.1330    0.542                   0        1334          2006   \n12704    0.1610    0.609                   0        1338          2020   \n12705    0.2550    0.321                  16        1341          2003   \n\n       release_daymonth  \n0                   238  \n1                     1  \n2                     1  \n3                   152  \n4                    32  \n...                 ...  \n12701               227  \n12702                 1  \n12703                 1  \n12704               177  \n12705                91  \n\n[12706 rows x 16 columns]",
      "text/html": "<div>\n<style scoped>\n    .dataframe tbody tr th:only-of-type {\n        vertical-align: middle;\n    }\n\n    .dataframe tbody tr th {\n        vertical-align: top;\n    }\n\n    .dataframe thead th {\n        text-align: right;\n    }\n</style>\n<table border=\"1\" class=\"dataframe\">\n  <thead>\n    <tr style=\"text-align: right;\">\n      <th></th>\n      <th>isliked</th>\n      <th>isskipped</th>\n      <th>emwa_skipped</th>\n      <th>popularity</th>\n      <th>duration_ms</th>\n      <th>danceability</th>\n      <th>loudness</th>\n      <th>speechiness</th>\n      <th>acousticness</th>\n      <th>instrumentalness</th>\n      <th>liveness</th>\n      <th>valence</th>\n      <th>common_genres_size</th>\n      <th>hourminute</th>\n      <th>release_year</th>\n      <th>release_daymonth</th>\n    </tr>\n  </thead>\n  <tbody>\n    <tr>\n      <th>0</th>\n      <td>1</td>\n      <td>0</td>\n      <td>0.000000</td>\n      <td>25</td>\n      <td>437813</td>\n      <td>0.427</td>\n      <td>-12.040</td>\n      <td>0.0463</td>\n      <td>0.54400</td>\n      <td>0.000239</td>\n      <td>0.6900</td>\n      <td>0.526</td>\n      <td>12</td>\n      <td>358</td>\n      <td>1981</td>\n      <td>238</td>\n    </tr>\n    <tr>\n      <th>1</th>\n      <td>1</td>\n      <td>0</td>\n      <td>0.000000</td>\n      <td>18</td>\n      <td>117107</td>\n      <td>0.533</td>\n      <td>-11.435</td>\n      <td>0.0264</td>\n      <td>0.69200</td>\n      <td>0.000000</td>\n      <td>0.1380</td>\n      <td>0.394</td>\n      <td>12</td>\n      <td>366</td>\n      <td>1980</td>\n      <td>1</td>\n    </tr>\n    <tr>\n      <th>2</th>\n      <td>1</td>\n      <td>0</td>\n      <td>0.000000</td>\n      <td>43</td>\n      <td>224933</td>\n      <td>0.450</td>\n      <td>-9.219</td>\n      <td>0.0299</td>\n      <td>0.26100</td>\n      <td>0.000000</td>\n      <td>0.0734</td>\n      <td>0.295</td>\n      <td>7</td>\n      <td>368</td>\n      <td>1998</td>\n      <td>1</td>\n    </tr>\n    <tr>\n      <th>3</th>\n      <td>1</td>\n      <td>0</td>\n      <td>0.000000</td>\n      <td>44</td>\n      <td>373970</td>\n      <td>0.332</td>\n      <td>-12.102</td>\n      <td>0.0384</td>\n      <td>0.26100</td>\n      <td>0.000140</td>\n      <td>0.0716</td>\n      <td>0.519</td>\n      <td>12</td>\n      <td>371</td>\n      <td>1970</td>\n      <td>152</td>\n    </tr>\n    <tr>\n      <th>4</th>\n      <td>0</td>\n      <td>1</td>\n      <td>0.800000</td>\n      <td>33</td>\n      <td>224000</td>\n      <td>0.506</td>\n      <td>-9.342</td>\n      <td>0.0436</td>\n      <td>0.30000</td>\n      <td>0.000330</td>\n      <td>0.4220</td>\n      <td>0.765</td>\n      <td>22</td>\n      <td>377</td>\n      <td>1979</td>\n      <td>32</td>\n    </tr>\n    <tr>\n      <th>...</th>\n      <td>...</td>\n      <td>...</td>\n      <td>...</td>\n      <td>...</td>\n      <td>...</td>\n      <td>...</td>\n      <td>...</td>\n      <td>...</td>\n      <td>...</td>\n      <td>...</td>\n      <td>...</td>\n      <td>...</td>\n      <td>...</td>\n      <td>...</td>\n      <td>...</td>\n      <td>...</td>\n    </tr>\n    <tr>\n      <th>12701</th>\n      <td>0</td>\n      <td>0</td>\n      <td>0.166720</td>\n      <td>76</td>\n      <td>213573</td>\n      <td>0.584</td>\n      <td>-4.314</td>\n      <td>0.5670</td>\n      <td>0.31200</td>\n      <td>0.000091</td>\n      <td>0.1120</td>\n      <td>0.720</td>\n      <td>0</td>\n      <td>1326</td>\n      <td>2019</td>\n      <td>227</td>\n    </tr>\n    <tr>\n      <th>12702</th>\n      <td>0</td>\n      <td>0</td>\n      <td>0.033344</td>\n      <td>83</td>\n      <td>199693</td>\n      <td>0.755</td>\n      <td>-2.718</td>\n      <td>0.1420</td>\n      <td>0.09910</td>\n      <td>0.000000</td>\n      <td>0.2890</td>\n      <td>0.714</td>\n      <td>0</td>\n      <td>1330</td>\n      <td>2010</td>\n      <td>1</td>\n    </tr>\n    <tr>\n      <th>12703</th>\n      <td>0</td>\n      <td>0</td>\n      <td>0.006669</td>\n      <td>79</td>\n      <td>215360</td>\n      <td>0.739</td>\n      <td>-7.844</td>\n      <td>0.0362</td>\n      <td>0.16700</td>\n      <td>0.000001</td>\n      <td>0.1330</td>\n      <td>0.542</td>\n      <td>0</td>\n      <td>1334</td>\n      <td>2006</td>\n      <td>1</td>\n    </tr>\n    <tr>\n      <th>12704</th>\n      <td>0</td>\n      <td>1</td>\n      <td>0.801334</td>\n      <td>81</td>\n      <td>261603</td>\n      <td>0.680</td>\n      <td>-4.368</td>\n      <td>0.0818</td>\n      <td>0.75800</td>\n      <td>0.000000</td>\n      <td>0.1610</td>\n      <td>0.609</td>\n      <td>0</td>\n      <td>1338</td>\n      <td>2020</td>\n      <td>177</td>\n    </tr>\n    <tr>\n      <th>12705</th>\n      <td>0</td>\n      <td>1</td>\n      <td>0.960267</td>\n      <td>84</td>\n      <td>231733</td>\n      <td>0.726</td>\n      <td>-7.828</td>\n      <td>0.0799</td>\n      <td>0.00817</td>\n      <td>0.447000</td>\n      <td>0.2550</td>\n      <td>0.321</td>\n      <td>16</td>\n      <td>1341</td>\n      <td>2003</td>\n      <td>91</td>\n    </tr>\n  </tbody>\n</table>\n<p>12706 rows × 16 columns</p>\n</div>"
     },
     "execution_count": 301,
     "metadata": {},
     "output_type": "execute_result"
    }
   ],
   "source": [
    "from sklearn.preprocessing import LabelEncoder\n",
    "\n",
    "learn = target_df.dropna()\n",
    "label_encoder = LabelEncoder()\n",
    "learn['city'] = label_encoder.fit_transform(learn['city'])\n",
    "\n",
    "learn['day']=learn['timestamp'].dt.dayofyear\n",
    "learn['hourminute']=learn['timestamp'].dt.hour*60+learn['timestamp'].dt.minute\n",
    "extract_release_date(learn)\n",
    "def date_completeness(date):\n",
    "        parts = len(date.split('-'))\n",
    "        if parts == 1:\n",
    "            return 'year'\n",
    "        elif parts == 2:\n",
    "            return 'year_month'\n",
    "        return 'full_date'\n",
    "    \n",
    "learn['date_completeness'] = learn['release_date'].apply(date_completeness)\n",
    "label_encoder = LabelEncoder()\n",
    "learn['date_completeness'] = label_encoder.fit_transform(learn['date_completeness'])\n",
    "learn = learn.drop(columns=['timestamp', 'street', 'release_date', 'key', 'tempo', 'time_signature', 'explicit', 'energy', 'standardized_date'])\n",
    "learn['premium_user']=learn['premium_user'].astype(int)\n",
    "learn"
   ],
   "metadata": {
    "collapsed": false,
    "ExecuteTime": {
     "end_time": "2023-12-23T20:14:41.891603772Z",
     "start_time": "2023-12-23T20:14:41.833310318Z"
    }
   },
   "id": "66046c70c2ee3f99"
  },
  {
   "cell_type": "code",
   "execution_count": 304,
   "outputs": [
    {
     "name": "stdout",
     "output_type": "stream",
     "text": [
      "Accuracy: 1.0\n"
     ]
    }
   ],
   "source": [
    "from sklearn.ensemble import RandomForestClassifier\n",
    "from sklearn.model_selection import train_test_split\n",
    "from sklearn.metrics import accuracy_score\n",
    "Y = learn['isskipped']\n",
    "X = learn.drop(columns='isskipped')\n",
    "X_train, X_test, y_train, y_test = train_test_split(X, Y, test_size=0.2)\n",
    "\n",
    "clf = RandomForestClassifier(n_estimators=100)\n",
    "clf.fit(X_train, y_train)\n",
    "y_pred = clf.predict(X_test)\n",
    "print(f\"Accuracy: {accuracy_score(y_test, y_pred)}\")"
   ],
   "metadata": {
    "collapsed": false,
    "ExecuteTime": {
     "end_time": "2023-12-23T20:20:40.922237495Z",
     "start_time": "2023-12-23T20:20:39.877525667Z"
    }
   },
   "id": "a1425e4bfda0f073"
  },
  {
   "cell_type": "code",
   "execution_count": 55,
   "outputs": [
    {
     "name": "stdout",
     "output_type": "stream",
     "text": [
      "Accuracy: 0.6882329154872624\n"
     ]
    }
   ],
   "source": [],
   "metadata": {
    "collapsed": false,
    "ExecuteTime": {
     "end_time": "2023-12-23T11:35:39.858909712Z",
     "start_time": "2023-12-23T11:35:39.799608652Z"
    }
   },
   "id": "4e5ea3d47b13c4de"
  },
  {
   "cell_type": "code",
   "execution_count": 303,
   "outputs": [
    {
     "data": {
      "text/plain": "<Figure size 640x480 with 1 Axes>",
      "image/png": "[encoded data removed]"
     },
     "metadata": {},
     "output_type": "display_data"
    }
   ],
   "source": [
    "import matplotlib.pyplot as plt\n",
    "import numpy as np\n",
    "\n",
    "# Assuming 'rf_model' is your trained Random Forest model\n",
    "# and 'df' is your DataFrame with the feature names\n",
    "\n",
    "feature_importances = clf.feature_importances_\n",
    "feature_names = X.columns\n",
    "\n",
    "# Create a series for visualization\n",
    "importances = pd.Series(feature_importances, index=feature_names)\n",
    "\n",
    "# Sort the feature importances in descending order\n",
    "importances_sorted = importances.sort_values()\n",
    "\n",
    "# Plotting\n",
    "importances_sorted.plot(kind='barh', color='lightblue')\n",
    "plt.title('Features Importance in Random Forest Model')\n",
    "plt.show()"
   ],
   "metadata": {
    "collapsed": false,
    "ExecuteTime": {
     "end_time": "2023-12-23T20:16:30.607467182Z",
     "start_time": "2023-12-23T20:16:30.472822209Z"
    }
   },
   "id": "9ba88d3f4dafd262"
  }
 ],
 "metadata": {
  "kernelspec": {
   "display_name": "Python 3",
   "language": "python",
   "name": "python3"
  },
  "language_info": {
   "codemirror_mode": {
    "name": "ipython",
    "version": 2
   },
   "file_extension": ".py",
   "mimetype": "text/x-python",
   "name": "python",
   "nbconvert_exporter": "python",
   "pygments_lexer": "ipython2",
   "version": "2.7.6"
  }
 },
 "nbformat": 4,
 "nbformat_minor": 5
}
