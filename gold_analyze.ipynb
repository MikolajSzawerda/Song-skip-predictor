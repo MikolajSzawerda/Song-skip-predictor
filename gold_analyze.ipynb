{
 "cells": [
  {
   "cell_type": "code",
   "execution_count": 19,
   "id": "initial_id",
   "metadata": {
    "collapsed": true,
    "ExecuteTime": {
     "end_time": "2023-11-23T12:16:12.070584497Z",
     "start_time": "2023-11-23T12:16:11.685859808Z"
    }
   },
   "outputs": [],
   "source": [
    "import pandas as pd\n",
    "import numpy as np\n",
    "import seaborn as sns\n",
    "\n",
    "sns.set_theme()\n",
    "import matplotlib.pyplot as plt\n",
    "\n",
    "sns.set_theme(style=\"whitegrid\")\n",
    "sessions = pd.read_json(\"data/sessions.jsonl\", lines=True).dropna().astype({'user_id': 'int32'})\n",
    "artists = pd.read_json(\"data/artists.jsonl\", lines=True).dropna()\n",
    "tracks = pd.read_json(\"data/tracks.jsonl\", lines=True).dropna()\n",
    "track_storage = pd.read_json(\"data/track_storage.jsonl\", lines=True)\n",
    "users = pd.read_json(\"data/users.jsonl\", lines=True)"
   ]
  },
  {
   "cell_type": "code",
   "execution_count": 2,
   "outputs": [
    {
     "data": {
      "text/plain": "                           id                             name  popularity  \\\n0                        None                    เพียงก่อนนั้น        12.0   \n1      7GDczVNdqle26Ff2LrzsLr                        עתיד מתוק        27.0   \n2      4AyUgUtX0nMsBjzZFDWVgM                             スピード        28.0   \n3      4gxYRhp7DeB11eC5VQOJ7w  Wir ham' noch lange nicht genug        57.0   \n4      78Eqonqp6yxXuYQtnffk0W                        Faço Como        43.0   \n...                       ...                              ...         ...   \n21603  5FWbKOPrGinhW9TNiyD3Qz                          Lorelay         5.0   \n21604  1XiyW1CAoo5jfsiq941XMe                     סעידה סולטנה        13.0   \n21605  1mlzd3LMQXBTCGTzu24rcO              Zo klein als ik ben        21.0   \n21606  54jLw1x7AdfEhGF7JEcUKE                       New Church        23.0   \n21607  3XBcUaukIllTrVZHjece5V                             None         NaN   \n\n       duration_ms  explicit               id_artist release_date  \\\n0           236583         0  5pLJF8oFCs1YpPZaARy1Cz   1986-01-01   \n1           223800         0  7iE2GZiF0xVFzlA2E93m3g   1985-11-01   \n2           287831         0  2DiecQcRbDuSJuSPKtirrX   1991-02-21   \n3           292000         0                    None         1991   \n4           201253         0  7gsMzXapXdZ5XzVPJp4rBd   2018-05-19   \n...            ...       ...                     ...          ...   \n21603       224760         0  4zaslnpNr10iUFJGx0XqpM         1978   \n21604       280560         0  03IVYRlAC972SOHPb86Usr   1998-01-01   \n21605        80093         0  62lP9hgxTVphRNmeREeFdC   1986-10-01   \n21606       212200         0  5JEhWD9S2znCiQRiGj2OUk   1982-01-01   \n21607       215173         0  2mDG6p4tiUL6NOVJ7KAmrt   1995-09-01   \n\n       danceability  energy  key  mode  loudness  speechiness  acousticness  \\\n0             0.514  0.2720    4   0.0   -14.678       0.0249      0.732000   \n1             0.654  0.8420    4   0.0    -7.279       0.0360      0.381000   \n2             0.452  0.9610    9   1.0    -3.379       0.0704      0.083100   \n3             0.555  0.7220    0   1.0   -11.298       0.0271      0.000767   \n4             0.715  0.4020    0   0.0   -11.527       0.1490      0.350000   \n...             ...     ...  ...   ...       ...          ...           ...   \n21603         0.264  0.4050    0   NaN    -7.925       0.0295      0.844000   \n21604         0.849  0.6780    1   NaN    -9.047       0.0515      0.001470   \n21605         0.680  0.0792    7   NaN   -17.518       0.0815      0.933000   \n21606         0.414  0.8930    9   NaN    -5.465       0.0533      0.000183   \n21607         0.414  0.9780    5   NaN    -5.617       0.1690      0.000295   \n\n       instrumentalness  liveness  valence    tempo  time_signature  \n0              0.544000    0.1130   0.1260   90.077               4  \n1              0.011300    0.1300   0.7650  142.966               4  \n2              0.000322    0.0851   0.4680  132.790               4  \n3              0.000027    0.0813   0.6590  148.105               4  \n4              0.345000    0.1060   0.2460  183.948               4  \n...                 ...       ...      ...      ...             ...  \n21603          0.000006    0.1150   0.0765   72.999               4  \n21604          0.114000    0.1560   0.8010  116.081               4  \n21605          0.000000    0.1040   0.5490   94.748               4  \n21606          0.003490    0.1530   0.4070   91.330               4  \n21607          0.000003    0.3490   0.4490  184.147               4  \n\n[21608 rows x 19 columns]",
      "text/html": "<div>\n<style scoped>\n    .dataframe tbody tr th:only-of-type {\n        vertical-align: middle;\n    }\n\n    .dataframe tbody tr th {\n        vertical-align: top;\n    }\n\n    .dataframe thead th {\n        text-align: right;\n    }\n</style>\n<table border=\"1\" class=\"dataframe\">\n  <thead>\n    <tr style=\"text-align: right;\">\n      <th></th>\n      <th>id</th>\n      <th>name</th>\n      <th>popularity</th>\n      <th>duration_ms</th>\n      <th>explicit</th>\n      <th>id_artist</th>\n      <th>release_date</th>\n      <th>danceability</th>\n      <th>energy</th>\n      <th>key</th>\n      <th>mode</th>\n      <th>loudness</th>\n      <th>speechiness</th>\n      <th>acousticness</th>\n      <th>instrumentalness</th>\n      <th>liveness</th>\n      <th>valence</th>\n      <th>tempo</th>\n      <th>time_signature</th>\n    </tr>\n  </thead>\n  <tbody>\n    <tr>\n      <th>0</th>\n      <td>None</td>\n      <td>เพียงก่อนนั้น</td>\n      <td>12.0</td>\n      <td>236583</td>\n      <td>0</td>\n      <td>5pLJF8oFCs1YpPZaARy1Cz</td>\n      <td>1986-01-01</td>\n      <td>0.514</td>\n      <td>0.2720</td>\n      <td>4</td>\n      <td>0.0</td>\n      <td>-14.678</td>\n      <td>0.0249</td>\n      <td>0.732000</td>\n      <td>0.544000</td>\n      <td>0.1130</td>\n      <td>0.1260</td>\n      <td>90.077</td>\n      <td>4</td>\n    </tr>\n    <tr>\n      <th>1</th>\n      <td>7GDczVNdqle26Ff2LrzsLr</td>\n      <td>עתיד מתוק</td>\n      <td>27.0</td>\n      <td>223800</td>\n      <td>0</td>\n      <td>7iE2GZiF0xVFzlA2E93m3g</td>\n      <td>1985-11-01</td>\n      <td>0.654</td>\n      <td>0.8420</td>\n      <td>4</td>\n      <td>0.0</td>\n      <td>-7.279</td>\n      <td>0.0360</td>\n      <td>0.381000</td>\n      <td>0.011300</td>\n      <td>0.1300</td>\n      <td>0.7650</td>\n      <td>142.966</td>\n      <td>4</td>\n    </tr>\n    <tr>\n      <th>2</th>\n      <td>4AyUgUtX0nMsBjzZFDWVgM</td>\n      <td>スピード</td>\n      <td>28.0</td>\n      <td>287831</td>\n      <td>0</td>\n      <td>2DiecQcRbDuSJuSPKtirrX</td>\n      <td>1991-02-21</td>\n      <td>0.452</td>\n      <td>0.9610</td>\n      <td>9</td>\n      <td>1.0</td>\n      <td>-3.379</td>\n      <td>0.0704</td>\n      <td>0.083100</td>\n      <td>0.000322</td>\n      <td>0.0851</td>\n      <td>0.4680</td>\n      <td>132.790</td>\n      <td>4</td>\n    </tr>\n    <tr>\n      <th>3</th>\n      <td>4gxYRhp7DeB11eC5VQOJ7w</td>\n      <td>Wir ham' noch lange nicht genug</td>\n      <td>57.0</td>\n      <td>292000</td>\n      <td>0</td>\n      <td>None</td>\n      <td>1991</td>\n      <td>0.555</td>\n      <td>0.7220</td>\n      <td>0</td>\n      <td>1.0</td>\n      <td>-11.298</td>\n      <td>0.0271</td>\n      <td>0.000767</td>\n      <td>0.000027</td>\n      <td>0.0813</td>\n      <td>0.6590</td>\n      <td>148.105</td>\n      <td>4</td>\n    </tr>\n    <tr>\n      <th>4</th>\n      <td>78Eqonqp6yxXuYQtnffk0W</td>\n      <td>Faço Como</td>\n      <td>43.0</td>\n      <td>201253</td>\n      <td>0</td>\n      <td>7gsMzXapXdZ5XzVPJp4rBd</td>\n      <td>2018-05-19</td>\n      <td>0.715</td>\n      <td>0.4020</td>\n      <td>0</td>\n      <td>0.0</td>\n      <td>-11.527</td>\n      <td>0.1490</td>\n      <td>0.350000</td>\n      <td>0.345000</td>\n      <td>0.1060</td>\n      <td>0.2460</td>\n      <td>183.948</td>\n      <td>4</td>\n    </tr>\n    <tr>\n      <th>...</th>\n      <td>...</td>\n      <td>...</td>\n      <td>...</td>\n      <td>...</td>\n      <td>...</td>\n      <td>...</td>\n      <td>...</td>\n      <td>...</td>\n      <td>...</td>\n      <td>...</td>\n      <td>...</td>\n      <td>...</td>\n      <td>...</td>\n      <td>...</td>\n      <td>...</td>\n      <td>...</td>\n      <td>...</td>\n      <td>...</td>\n      <td>...</td>\n    </tr>\n    <tr>\n      <th>21603</th>\n      <td>5FWbKOPrGinhW9TNiyD3Qz</td>\n      <td>Lorelay</td>\n      <td>5.0</td>\n      <td>224760</td>\n      <td>0</td>\n      <td>4zaslnpNr10iUFJGx0XqpM</td>\n      <td>1978</td>\n      <td>0.264</td>\n      <td>0.4050</td>\n      <td>0</td>\n      <td>NaN</td>\n      <td>-7.925</td>\n      <td>0.0295</td>\n      <td>0.844000</td>\n      <td>0.000006</td>\n      <td>0.1150</td>\n      <td>0.0765</td>\n      <td>72.999</td>\n      <td>4</td>\n    </tr>\n    <tr>\n      <th>21604</th>\n      <td>1XiyW1CAoo5jfsiq941XMe</td>\n      <td>סעידה סולטנה</td>\n      <td>13.0</td>\n      <td>280560</td>\n      <td>0</td>\n      <td>03IVYRlAC972SOHPb86Usr</td>\n      <td>1998-01-01</td>\n      <td>0.849</td>\n      <td>0.6780</td>\n      <td>1</td>\n      <td>NaN</td>\n      <td>-9.047</td>\n      <td>0.0515</td>\n      <td>0.001470</td>\n      <td>0.114000</td>\n      <td>0.1560</td>\n      <td>0.8010</td>\n      <td>116.081</td>\n      <td>4</td>\n    </tr>\n    <tr>\n      <th>21605</th>\n      <td>1mlzd3LMQXBTCGTzu24rcO</td>\n      <td>Zo klein als ik ben</td>\n      <td>21.0</td>\n      <td>80093</td>\n      <td>0</td>\n      <td>62lP9hgxTVphRNmeREeFdC</td>\n      <td>1986-10-01</td>\n      <td>0.680</td>\n      <td>0.0792</td>\n      <td>7</td>\n      <td>NaN</td>\n      <td>-17.518</td>\n      <td>0.0815</td>\n      <td>0.933000</td>\n      <td>0.000000</td>\n      <td>0.1040</td>\n      <td>0.5490</td>\n      <td>94.748</td>\n      <td>4</td>\n    </tr>\n    <tr>\n      <th>21606</th>\n      <td>54jLw1x7AdfEhGF7JEcUKE</td>\n      <td>New Church</td>\n      <td>23.0</td>\n      <td>212200</td>\n      <td>0</td>\n      <td>5JEhWD9S2znCiQRiGj2OUk</td>\n      <td>1982-01-01</td>\n      <td>0.414</td>\n      <td>0.8930</td>\n      <td>9</td>\n      <td>NaN</td>\n      <td>-5.465</td>\n      <td>0.0533</td>\n      <td>0.000183</td>\n      <td>0.003490</td>\n      <td>0.1530</td>\n      <td>0.4070</td>\n      <td>91.330</td>\n      <td>4</td>\n    </tr>\n    <tr>\n      <th>21607</th>\n      <td>3XBcUaukIllTrVZHjece5V</td>\n      <td>None</td>\n      <td>NaN</td>\n      <td>215173</td>\n      <td>0</td>\n      <td>2mDG6p4tiUL6NOVJ7KAmrt</td>\n      <td>1995-09-01</td>\n      <td>0.414</td>\n      <td>0.9780</td>\n      <td>5</td>\n      <td>NaN</td>\n      <td>-5.617</td>\n      <td>0.1690</td>\n      <td>0.000295</td>\n      <td>0.000003</td>\n      <td>0.3490</td>\n      <td>0.4490</td>\n      <td>184.147</td>\n      <td>4</td>\n    </tr>\n  </tbody>\n</table>\n<p>21608 rows × 19 columns</p>\n</div>"
     },
     "execution_count": 2,
     "metadata": {},
     "output_type": "execute_result"
    }
   ],
   "source": [
    "tracks"
   ],
   "metadata": {
    "collapsed": false,
    "ExecuteTime": {
     "end_time": "2023-11-23T11:52:53.589986717Z",
     "start_time": "2023-11-23T11:52:53.562298139Z"
    }
   },
   "id": "6a7bba355353f92a"
  },
  {
   "cell_type": "markdown",
   "source": [
    "Because tracks don't have assigned genres I joined genres from artists to tracks\n",
    "For tracks which have been skipped by user I checked if intersection of track genres and user favourite genres could tell something"
   ],
   "metadata": {
    "collapsed": false
   },
   "id": "118348adcd922035"
  },
  {
   "cell_type": "code",
   "execution_count": 62,
   "outputs": [
    {
     "data": {
      "text/plain": "{'skip': mean    0.102564\n std     0.307355\n dtype: float64,\n 'like': mean    0.205882\n std     0.478597\n dtype: float64,\n 'play': mean    0.428571\n std     0.667827\n dtype: float64}"
     },
     "execution_count": 62,
     "metadata": {},
     "output_type": "execute_result"
    }
   ],
   "source": [
    "track_genre = tracks.join(artists.set_index('id')['genres'], on='id_artist', rsuffix='_author').set_index('id')['genres']\n",
    "skip_events = sessions[sessions['event_type']=='skip'][['user_id', 'track_id']]\n",
    "like_events = sessions[sessions['event_type']=='like'][['user_id', 'track_id']]\n",
    "play_events = sessions[sessions['event_type']=='play'][['user_id', 'track_id']]\n",
    "play_events = pd.concat([play_events, skip_events]).drop_duplicates(keep=False)\n",
    "\n",
    "pd.concat([play_events, skip_events]).drop_duplicates(keep=False)\n",
    "\n",
    "def skip_by_genre(df):\n",
    "    return df.join(track_genre, on='track_id').dropna().set_index('user_id').join(users.set_index('user_id')['favourite_genres']).dropna()\n",
    "\n",
    "def n_common_genres(x):\n",
    "    track_g, fav_g = x['genres'], x['favourite_genres']\n",
    "    return len(set(fav_g).intersection(set(track_g)))\n",
    "{\n",
    "    'skip': skip_by_genre(skip_events).apply(n_common_genres, axis=1).groupby('user_id').sum().agg(['mean', 'std']),\n",
    "\n",
    "'like': skip_by_genre(like_events).apply(n_common_genres, axis=1).groupby('user_id').sum().agg(['mean', 'std']),\n",
    "    'play': skip_by_genre(play_events).apply(n_common_genres, axis=1).groupby('user_id').sum().agg(['mean', 'std'])\n",
    "}\n",
    "\n"
   ],
   "metadata": {
    "collapsed": false,
    "ExecuteTime": {
     "end_time": "2023-11-23T21:01:58.128921314Z",
     "start_time": "2023-11-23T21:01:58.029582125Z"
    }
   },
   "id": "99e7e8706bd3cd9b"
  },
  {
   "cell_type": "markdown",
   "source": [
    "## Skip and popularity by user"
   ],
   "metadata": {
    "collapsed": false
   },
   "id": "9cd57a106e330b2f"
  },
  {
   "cell_type": "code",
   "execution_count": 72,
   "outputs": [
    {
     "data": {
      "text/plain": "        popularity                 \n              mean        std count\nuser_id                            \n101      34.000000        NaN     1\n102      14.500000  12.020815     2\n103      38.333333  18.903263     3\n104      39.000000  10.392305     5\n105      17.000000        NaN     1\n106      40.000000   0.000000     2\n107      14.000000  12.727922     2\n108      16.000000  12.727922     2\n110      26.500000   2.121320     2\n112      42.500000  28.991378     2\n113      58.000000        NaN     1\n114      41.000000        NaN     1\n115      38.000000        NaN     1\n116      59.000000   7.071068     2\n117      45.500000  26.083200     4\n118      29.666667   3.055050     3\n119      23.571429  11.326328     7\n120      36.600000  11.865918     5\n121      40.500000  47.376154     2\n122      10.000000        NaN     1\n123      12.000000  11.313708     2\n124      20.166667  18.691353     6\n126      28.500000   6.363961     2\n127      58.000000        NaN     1\n128      49.000000        NaN     1\n130      30.000000  22.549945     5\n131      66.000000  25.455844     2\n132      56.000000  19.798990     2\n134      21.000000  19.798990     2\n135      26.666667   4.618802     3\n136      27.000000        NaN     1\n137      28.000000        NaN     1\n138      22.500000  17.677670     2\n139      17.333333   4.163332     3\n140      34.000000  12.449900     5\n141      36.000000        NaN     1\n142      27.666667  25.579940     3\n143      29.000000        NaN     1\n144      22.000000        NaN     1\n145      28.500000  21.473239     6\n146      18.250000  10.500000     4\n147      12.500000  16.263456     2\n148      28.000000  19.578900     4\n149      32.000000  10.793517     5\n150      28.000000  18.654758     4",
      "text/html": "<div>\n<style scoped>\n    .dataframe tbody tr th:only-of-type {\n        vertical-align: middle;\n    }\n\n    .dataframe tbody tr th {\n        vertical-align: top;\n    }\n\n    .dataframe thead tr th {\n        text-align: left;\n    }\n\n    .dataframe thead tr:last-of-type th {\n        text-align: right;\n    }\n</style>\n<table border=\"1\" class=\"dataframe\">\n  <thead>\n    <tr>\n      <th></th>\n      <th colspan=\"3\" halign=\"left\">popularity</th>\n    </tr>\n    <tr>\n      <th></th>\n      <th>mean</th>\n      <th>std</th>\n      <th>count</th>\n    </tr>\n    <tr>\n      <th>user_id</th>\n      <th></th>\n      <th></th>\n      <th></th>\n    </tr>\n  </thead>\n  <tbody>\n    <tr>\n      <th>101</th>\n      <td>34.000000</td>\n      <td>NaN</td>\n      <td>1</td>\n    </tr>\n    <tr>\n      <th>102</th>\n      <td>14.500000</td>\n      <td>12.020815</td>\n      <td>2</td>\n    </tr>\n    <tr>\n      <th>103</th>\n      <td>38.333333</td>\n      <td>18.903263</td>\n      <td>3</td>\n    </tr>\n    <tr>\n      <th>104</th>\n      <td>39.000000</td>\n      <td>10.392305</td>\n      <td>5</td>\n    </tr>\n    <tr>\n      <th>105</th>\n      <td>17.000000</td>\n      <td>NaN</td>\n      <td>1</td>\n    </tr>\n    <tr>\n      <th>106</th>\n      <td>40.000000</td>\n      <td>0.000000</td>\n      <td>2</td>\n    </tr>\n    <tr>\n      <th>107</th>\n      <td>14.000000</td>\n      <td>12.727922</td>\n      <td>2</td>\n    </tr>\n    <tr>\n      <th>108</th>\n      <td>16.000000</td>\n      <td>12.727922</td>\n      <td>2</td>\n    </tr>\n    <tr>\n      <th>110</th>\n      <td>26.500000</td>\n      <td>2.121320</td>\n      <td>2</td>\n    </tr>\n    <tr>\n      <th>112</th>\n      <td>42.500000</td>\n      <td>28.991378</td>\n      <td>2</td>\n    </tr>\n    <tr>\n      <th>113</th>\n      <td>58.000000</td>\n      <td>NaN</td>\n      <td>1</td>\n    </tr>\n    <tr>\n      <th>114</th>\n      <td>41.000000</td>\n      <td>NaN</td>\n      <td>1</td>\n    </tr>\n    <tr>\n      <th>115</th>\n      <td>38.000000</td>\n      <td>NaN</td>\n      <td>1</td>\n    </tr>\n    <tr>\n      <th>116</th>\n      <td>59.000000</td>\n      <td>7.071068</td>\n      <td>2</td>\n    </tr>\n    <tr>\n      <th>117</th>\n      <td>45.500000</td>\n      <td>26.083200</td>\n      <td>4</td>\n    </tr>\n    <tr>\n      <th>118</th>\n      <td>29.666667</td>\n      <td>3.055050</td>\n      <td>3</td>\n    </tr>\n    <tr>\n      <th>119</th>\n      <td>23.571429</td>\n      <td>11.326328</td>\n      <td>7</td>\n    </tr>\n    <tr>\n      <th>120</th>\n      <td>36.600000</td>\n      <td>11.865918</td>\n      <td>5</td>\n    </tr>\n    <tr>\n      <th>121</th>\n      <td>40.500000</td>\n      <td>47.376154</td>\n      <td>2</td>\n    </tr>\n    <tr>\n      <th>122</th>\n      <td>10.000000</td>\n      <td>NaN</td>\n      <td>1</td>\n    </tr>\n    <tr>\n      <th>123</th>\n      <td>12.000000</td>\n      <td>11.313708</td>\n      <td>2</td>\n    </tr>\n    <tr>\n      <th>124</th>\n      <td>20.166667</td>\n      <td>18.691353</td>\n      <td>6</td>\n    </tr>\n    <tr>\n      <th>126</th>\n      <td>28.500000</td>\n      <td>6.363961</td>\n      <td>2</td>\n    </tr>\n    <tr>\n      <th>127</th>\n      <td>58.000000</td>\n      <td>NaN</td>\n      <td>1</td>\n    </tr>\n    <tr>\n      <th>128</th>\n      <td>49.000000</td>\n      <td>NaN</td>\n      <td>1</td>\n    </tr>\n    <tr>\n      <th>130</th>\n      <td>30.000000</td>\n      <td>22.549945</td>\n      <td>5</td>\n    </tr>\n    <tr>\n      <th>131</th>\n      <td>66.000000</td>\n      <td>25.455844</td>\n      <td>2</td>\n    </tr>\n    <tr>\n      <th>132</th>\n      <td>56.000000</td>\n      <td>19.798990</td>\n      <td>2</td>\n    </tr>\n    <tr>\n      <th>134</th>\n      <td>21.000000</td>\n      <td>19.798990</td>\n      <td>2</td>\n    </tr>\n    <tr>\n      <th>135</th>\n      <td>26.666667</td>\n      <td>4.618802</td>\n      <td>3</td>\n    </tr>\n    <tr>\n      <th>136</th>\n      <td>27.000000</td>\n      <td>NaN</td>\n      <td>1</td>\n    </tr>\n    <tr>\n      <th>137</th>\n      <td>28.000000</td>\n      <td>NaN</td>\n      <td>1</td>\n    </tr>\n    <tr>\n      <th>138</th>\n      <td>22.500000</td>\n      <td>17.677670</td>\n      <td>2</td>\n    </tr>\n    <tr>\n      <th>139</th>\n      <td>17.333333</td>\n      <td>4.163332</td>\n      <td>3</td>\n    </tr>\n    <tr>\n      <th>140</th>\n      <td>34.000000</td>\n      <td>12.449900</td>\n      <td>5</td>\n    </tr>\n    <tr>\n      <th>141</th>\n      <td>36.000000</td>\n      <td>NaN</td>\n      <td>1</td>\n    </tr>\n    <tr>\n      <th>142</th>\n      <td>27.666667</td>\n      <td>25.579940</td>\n      <td>3</td>\n    </tr>\n    <tr>\n      <th>143</th>\n      <td>29.000000</td>\n      <td>NaN</td>\n      <td>1</td>\n    </tr>\n    <tr>\n      <th>144</th>\n      <td>22.000000</td>\n      <td>NaN</td>\n      <td>1</td>\n    </tr>\n    <tr>\n      <th>145</th>\n      <td>28.500000</td>\n      <td>21.473239</td>\n      <td>6</td>\n    </tr>\n    <tr>\n      <th>146</th>\n      <td>18.250000</td>\n      <td>10.500000</td>\n      <td>4</td>\n    </tr>\n    <tr>\n      <th>147</th>\n      <td>12.500000</td>\n      <td>16.263456</td>\n      <td>2</td>\n    </tr>\n    <tr>\n      <th>148</th>\n      <td>28.000000</td>\n      <td>19.578900</td>\n      <td>4</td>\n    </tr>\n    <tr>\n      <th>149</th>\n      <td>32.000000</td>\n      <td>10.793517</td>\n      <td>5</td>\n    </tr>\n    <tr>\n      <th>150</th>\n      <td>28.000000</td>\n      <td>18.654758</td>\n      <td>4</td>\n    </tr>\n  </tbody>\n</table>\n</div>"
     },
     "execution_count": 72,
     "metadata": {},
     "output_type": "execute_result"
    }
   ],
   "source": [
    "skip_events = sessions[sessions['event_type']=='skip'][['user_id', 'track_id']]\n",
    "skip_events.join(tracks.set_index('id')['popularity'], on='track_id', how=\"inner\").groupby('user_id').agg({'popularity':['mean', 'std', 'count']})\n"
   ],
   "metadata": {
    "collapsed": false,
    "ExecuteTime": {
     "end_time": "2023-11-23T21:08:46.383896878Z",
     "start_time": "2023-11-23T21:08:46.338667898Z"
    }
   },
   "id": "2ed1f48b2f252d92"
  }
 ],
 "metadata": {
  "kernelspec": {
   "display_name": "Python 3",
   "language": "python",
   "name": "python3"
  },
  "language_info": {
   "codemirror_mode": {
    "name": "ipython",
    "version": 2
   },
   "file_extension": ".py",
   "mimetype": "text/x-python",
   "name": "python",
   "nbconvert_exporter": "python",
   "pygments_lexer": "ipython2",
   "version": "2.7.6"
  }
 },
 "nbformat": 4,
 "nbformat_minor": 5
}
