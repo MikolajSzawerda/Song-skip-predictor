{
 "cells": [
  {
   "cell_type": "code",
   "execution_count": 1,
   "id": "initial_id",
   "metadata": {
    "collapsed": true,
    "ExecuteTime": {
     "end_time": "2023-11-24T11:34:14.494209381Z",
     "start_time": "2023-11-24T11:34:13.736042710Z"
    }
   },
   "outputs": [],
   "source": [
    "import pandas as pd\n",
    "import numpy as np\n",
    "import seaborn as sns\n",
    "\n",
    "sns.set_theme()\n",
    "import matplotlib.pyplot as plt\n",
    "\n",
    "sns.set_theme(style=\"whitegrid\")\n",
    "sessions = pd.read_json(\"data/sessions.jsonl\", lines=True).dropna().astype({'user_id': 'int32'})\n",
    "artists = pd.read_json(\"data/artists.jsonl\", lines=True).dropna()\n",
    "tracks = pd.read_json(\"data/tracks.jsonl\", lines=True).dropna()\n",
    "track_storage = pd.read_json(\"data/track_storage.jsonl\", lines=True)\n",
    "users = pd.read_json(\"data/users.jsonl\", lines=True)"
   ]
  },
  {
   "cell_type": "code",
   "execution_count": 2,
   "outputs": [
    {
     "data": {
      "text/plain": "                          id                             name  popularity  \\\n0     7sj6ynHVC4yVa7xJUYoD97                    เพียงก่อนนั้น          12   \n1     7GDczVNdqle26Ff2LrzsLr                        עתיד מתוק          27   \n2     4AyUgUtX0nMsBjzZFDWVgM                             スピード          28   \n3     4gxYRhp7DeB11eC5VQOJ7w  Wir ham' noch lange nicht genug          57   \n4     78Eqonqp6yxXuYQtnffk0W                        Faço Como          43   \n...                      ...                              ...         ...   \n4316  54DeCpYmRbhoiAORhd6r6Q            當愛變成習慣 - 電影 \"非常偵探\" 歌曲          26   \n4317  62SaQu39s3Ce5OJ80i3XXl         Lanternen - Live Version           8   \n4318  7aBjLA5CsRufTkt0hGmCA3                         El Necio          53   \n4319  6UCUXn2mmXL5i3JUJb5vFE                   La Piña Colada          24   \n4320  5ynxx6zC4dgzsMHLYQ04Dc                           Remedy          71   \n\n      duration_ms  explicit               id_artist release_date  \\\n0          236583         0  5pLJF8oFCs1YpPZaARy1Cz   1986-01-01   \n1          223800         0  7iE2GZiF0xVFzlA2E93m3g   1985-11-01   \n2          287831         0  2DiecQcRbDuSJuSPKtirrX   1991-02-21   \n3          292000         0  6x9jRPDmA8Ihpw3A9FBowD         1991   \n4          201253         0  7gsMzXapXdZ5XzVPJp4rBd   2018-05-19   \n...           ...       ...                     ...          ...   \n4316       299773         0  1Hu58yHg2CXNfDhlPd7Tdd   1994-01-01   \n4317       292933         0  6jvJrJNRIBqin5CYaT2cup   1987-11-12   \n4318       273499         0  4rUyBlggM5tZUH5QZn9ZuO         1992   \n4319       210707         0  0R7hVTyBZQ9ApxMtDEAwyL   2002-01-10   \n4320       207213         0  6B5c4sch27tWHAGdarpPaW   2005-01-01   \n\n      danceability  energy  key  mode  loudness  speechiness  acousticness  \\\n0            0.514   0.272    4   0.0   -14.678       0.0249      0.732000   \n1            0.654   0.842    4   0.0    -7.279       0.0360      0.381000   \n2            0.452   0.961    9   1.0    -3.379       0.0704      0.083100   \n3            0.555   0.722    0   1.0   -11.298       0.0271      0.000767   \n4            0.715   0.402    0   0.0   -11.527       0.1490      0.350000   \n...            ...     ...  ...   ...       ...          ...           ...   \n4316         0.618   0.164    4   0.0   -17.472       0.0340      0.426000   \n4317         0.346   0.849    8   1.0   -10.527       0.1360      0.040800   \n4318         0.564   0.194    4   0.0   -16.030       0.2320      0.684000   \n4319         0.802   0.876    0   0.0    -5.835       0.0921      0.170000   \n4320         0.550   0.952    8   1.0    -4.664       0.0924      0.000193   \n\n      instrumentalness  liveness  valence    tempo  time_signature  \n0             0.544000    0.1130    0.126   90.077               4  \n1             0.011300    0.1300    0.765  142.966               4  \n2             0.000322    0.0851    0.468  132.790               4  \n3             0.000027    0.0813    0.659  148.105               4  \n4             0.345000    0.1060    0.246  183.948               4  \n...                ...       ...      ...      ...             ...  \n4316          0.000001    0.1110    0.157   77.932               4  \n4317          0.068600    0.6940    0.193  127.659               4  \n4318          0.000002    0.0857    0.151  161.533               4  \n4319          0.000000    0.0279    0.960   92.999               4  \n4320          0.000666    0.0614    0.391  127.804               4  \n\n[4321 rows x 19 columns]",
      "text/html": "<div>\n<style scoped>\n    .dataframe tbody tr th:only-of-type {\n        vertical-align: middle;\n    }\n\n    .dataframe tbody tr th {\n        vertical-align: top;\n    }\n\n    .dataframe thead th {\n        text-align: right;\n    }\n</style>\n<table border=\"1\" class=\"dataframe\">\n  <thead>\n    <tr style=\"text-align: right;\">\n      <th></th>\n      <th>id</th>\n      <th>name</th>\n      <th>popularity</th>\n      <th>duration_ms</th>\n      <th>explicit</th>\n      <th>id_artist</th>\n      <th>release_date</th>\n      <th>danceability</th>\n      <th>energy</th>\n      <th>key</th>\n      <th>mode</th>\n      <th>loudness</th>\n      <th>speechiness</th>\n      <th>acousticness</th>\n      <th>instrumentalness</th>\n      <th>liveness</th>\n      <th>valence</th>\n      <th>tempo</th>\n      <th>time_signature</th>\n    </tr>\n  </thead>\n  <tbody>\n    <tr>\n      <th>0</th>\n      <td>7sj6ynHVC4yVa7xJUYoD97</td>\n      <td>เพียงก่อนนั้น</td>\n      <td>12</td>\n      <td>236583</td>\n      <td>0</td>\n      <td>5pLJF8oFCs1YpPZaARy1Cz</td>\n      <td>1986-01-01</td>\n      <td>0.514</td>\n      <td>0.272</td>\n      <td>4</td>\n      <td>0.0</td>\n      <td>-14.678</td>\n      <td>0.0249</td>\n      <td>0.732000</td>\n      <td>0.544000</td>\n      <td>0.1130</td>\n      <td>0.126</td>\n      <td>90.077</td>\n      <td>4</td>\n    </tr>\n    <tr>\n      <th>1</th>\n      <td>7GDczVNdqle26Ff2LrzsLr</td>\n      <td>עתיד מתוק</td>\n      <td>27</td>\n      <td>223800</td>\n      <td>0</td>\n      <td>7iE2GZiF0xVFzlA2E93m3g</td>\n      <td>1985-11-01</td>\n      <td>0.654</td>\n      <td>0.842</td>\n      <td>4</td>\n      <td>0.0</td>\n      <td>-7.279</td>\n      <td>0.0360</td>\n      <td>0.381000</td>\n      <td>0.011300</td>\n      <td>0.1300</td>\n      <td>0.765</td>\n      <td>142.966</td>\n      <td>4</td>\n    </tr>\n    <tr>\n      <th>2</th>\n      <td>4AyUgUtX0nMsBjzZFDWVgM</td>\n      <td>スピード</td>\n      <td>28</td>\n      <td>287831</td>\n      <td>0</td>\n      <td>2DiecQcRbDuSJuSPKtirrX</td>\n      <td>1991-02-21</td>\n      <td>0.452</td>\n      <td>0.961</td>\n      <td>9</td>\n      <td>1.0</td>\n      <td>-3.379</td>\n      <td>0.0704</td>\n      <td>0.083100</td>\n      <td>0.000322</td>\n      <td>0.0851</td>\n      <td>0.468</td>\n      <td>132.790</td>\n      <td>4</td>\n    </tr>\n    <tr>\n      <th>3</th>\n      <td>4gxYRhp7DeB11eC5VQOJ7w</td>\n      <td>Wir ham' noch lange nicht genug</td>\n      <td>57</td>\n      <td>292000</td>\n      <td>0</td>\n      <td>6x9jRPDmA8Ihpw3A9FBowD</td>\n      <td>1991</td>\n      <td>0.555</td>\n      <td>0.722</td>\n      <td>0</td>\n      <td>1.0</td>\n      <td>-11.298</td>\n      <td>0.0271</td>\n      <td>0.000767</td>\n      <td>0.000027</td>\n      <td>0.0813</td>\n      <td>0.659</td>\n      <td>148.105</td>\n      <td>4</td>\n    </tr>\n    <tr>\n      <th>4</th>\n      <td>78Eqonqp6yxXuYQtnffk0W</td>\n      <td>Faço Como</td>\n      <td>43</td>\n      <td>201253</td>\n      <td>0</td>\n      <td>7gsMzXapXdZ5XzVPJp4rBd</td>\n      <td>2018-05-19</td>\n      <td>0.715</td>\n      <td>0.402</td>\n      <td>0</td>\n      <td>0.0</td>\n      <td>-11.527</td>\n      <td>0.1490</td>\n      <td>0.350000</td>\n      <td>0.345000</td>\n      <td>0.1060</td>\n      <td>0.246</td>\n      <td>183.948</td>\n      <td>4</td>\n    </tr>\n    <tr>\n      <th>...</th>\n      <td>...</td>\n      <td>...</td>\n      <td>...</td>\n      <td>...</td>\n      <td>...</td>\n      <td>...</td>\n      <td>...</td>\n      <td>...</td>\n      <td>...</td>\n      <td>...</td>\n      <td>...</td>\n      <td>...</td>\n      <td>...</td>\n      <td>...</td>\n      <td>...</td>\n      <td>...</td>\n      <td>...</td>\n      <td>...</td>\n      <td>...</td>\n    </tr>\n    <tr>\n      <th>4316</th>\n      <td>54DeCpYmRbhoiAORhd6r6Q</td>\n      <td>當愛變成習慣 - 電影 \"非常偵探\" 歌曲</td>\n      <td>26</td>\n      <td>299773</td>\n      <td>0</td>\n      <td>1Hu58yHg2CXNfDhlPd7Tdd</td>\n      <td>1994-01-01</td>\n      <td>0.618</td>\n      <td>0.164</td>\n      <td>4</td>\n      <td>0.0</td>\n      <td>-17.472</td>\n      <td>0.0340</td>\n      <td>0.426000</td>\n      <td>0.000001</td>\n      <td>0.1110</td>\n      <td>0.157</td>\n      <td>77.932</td>\n      <td>4</td>\n    </tr>\n    <tr>\n      <th>4317</th>\n      <td>62SaQu39s3Ce5OJ80i3XXl</td>\n      <td>Lanternen - Live Version</td>\n      <td>8</td>\n      <td>292933</td>\n      <td>0</td>\n      <td>6jvJrJNRIBqin5CYaT2cup</td>\n      <td>1987-11-12</td>\n      <td>0.346</td>\n      <td>0.849</td>\n      <td>8</td>\n      <td>1.0</td>\n      <td>-10.527</td>\n      <td>0.1360</td>\n      <td>0.040800</td>\n      <td>0.068600</td>\n      <td>0.6940</td>\n      <td>0.193</td>\n      <td>127.659</td>\n      <td>4</td>\n    </tr>\n    <tr>\n      <th>4318</th>\n      <td>7aBjLA5CsRufTkt0hGmCA3</td>\n      <td>El Necio</td>\n      <td>53</td>\n      <td>273499</td>\n      <td>0</td>\n      <td>4rUyBlggM5tZUH5QZn9ZuO</td>\n      <td>1992</td>\n      <td>0.564</td>\n      <td>0.194</td>\n      <td>4</td>\n      <td>0.0</td>\n      <td>-16.030</td>\n      <td>0.2320</td>\n      <td>0.684000</td>\n      <td>0.000002</td>\n      <td>0.0857</td>\n      <td>0.151</td>\n      <td>161.533</td>\n      <td>4</td>\n    </tr>\n    <tr>\n      <th>4319</th>\n      <td>6UCUXn2mmXL5i3JUJb5vFE</td>\n      <td>La Piña Colada</td>\n      <td>24</td>\n      <td>210707</td>\n      <td>0</td>\n      <td>0R7hVTyBZQ9ApxMtDEAwyL</td>\n      <td>2002-01-10</td>\n      <td>0.802</td>\n      <td>0.876</td>\n      <td>0</td>\n      <td>0.0</td>\n      <td>-5.835</td>\n      <td>0.0921</td>\n      <td>0.170000</td>\n      <td>0.000000</td>\n      <td>0.0279</td>\n      <td>0.960</td>\n      <td>92.999</td>\n      <td>4</td>\n    </tr>\n    <tr>\n      <th>4320</th>\n      <td>5ynxx6zC4dgzsMHLYQ04Dc</td>\n      <td>Remedy</td>\n      <td>71</td>\n      <td>207213</td>\n      <td>0</td>\n      <td>6B5c4sch27tWHAGdarpPaW</td>\n      <td>2005-01-01</td>\n      <td>0.550</td>\n      <td>0.952</td>\n      <td>8</td>\n      <td>1.0</td>\n      <td>-4.664</td>\n      <td>0.0924</td>\n      <td>0.000193</td>\n      <td>0.000666</td>\n      <td>0.0614</td>\n      <td>0.391</td>\n      <td>127.804</td>\n      <td>4</td>\n    </tr>\n  </tbody>\n</table>\n<p>4321 rows × 19 columns</p>\n</div>"
     },
     "execution_count": 2,
     "metadata": {},
     "output_type": "execute_result"
    }
   ],
   "source": [
    "tracks"
   ],
   "metadata": {
    "collapsed": false,
    "ExecuteTime": {
     "end_time": "2023-11-24T11:34:20.027978420Z",
     "start_time": "2023-11-24T11:34:19.936257867Z"
    }
   },
   "id": "6a7bba355353f92a"
  },
  {
   "cell_type": "markdown",
   "source": [
    "Because tracks don't have assigned genres I joined genres from artists to tracks\n",
    "For tracks which have been skipped by user I checked if intersection of track genres and user favourite genres could tell something"
   ],
   "metadata": {
    "collapsed": false
   },
   "id": "118348adcd922035"
  },
  {
   "cell_type": "code",
   "execution_count": 3,
   "outputs": [
    {
     "data": {
      "text/plain": "{'skip': mean     3.880000\n std     13.225887\n dtype: float64,\n 'like': mean    2.520000\n std     7.251291\n dtype: float64,\n 'play': mean    4.387755\n std     6.815474\n dtype: float64}"
     },
     "execution_count": 3,
     "metadata": {},
     "output_type": "execute_result"
    }
   ],
   "source": [
    "track_genre = tracks.join(artists.set_index('id')['genres'], on='id_artist', rsuffix='_author').set_index('id')['genres']\n",
    "skip_events = sessions[sessions['event_type']=='skip'][['user_id', 'track_id']]\n",
    "like_events = sessions[sessions['event_type']=='like'][['user_id', 'track_id']]\n",
    "play_events = sessions[sessions['event_type']=='play'][['user_id', 'track_id']]\n",
    "play_events = pd.concat([play_events, skip_events]).drop_duplicates(keep=False)\n",
    "\n",
    "pd.concat([play_events, skip_events]).drop_duplicates(keep=False)\n",
    "\n",
    "def skip_by_genre(df):\n",
    "    return df.join(track_genre, on='track_id').dropna().set_index('user_id').join(users.set_index('user_id')['favourite_genres']).dropna()\n",
    "\n",
    "def n_common_genres(x):\n",
    "    track_g, fav_g = x['genres'], x['favourite_genres']\n",
    "    return len(set(fav_g).intersection(set(track_g)))\n",
    "{\n",
    "    'skip': skip_by_genre(skip_events).apply(n_common_genres, axis=1).groupby('user_id').sum().agg(['mean', 'std']),\n",
    "\n",
    "'like': skip_by_genre(like_events).apply(n_common_genres, axis=1).groupby('user_id').sum().agg(['mean', 'std']),\n",
    "    'play': skip_by_genre(play_events).apply(n_common_genres, axis=1).groupby('user_id').sum().agg(['mean', 'std'])\n",
    "}\n",
    "\n"
   ],
   "metadata": {
    "collapsed": false,
    "ExecuteTime": {
     "end_time": "2023-11-24T11:34:27.256574252Z",
     "start_time": "2023-11-24T11:34:27.087963341Z"
    }
   },
   "id": "99e7e8706bd3cd9b"
  },
  {
   "cell_type": "markdown",
   "source": [
    "## Skip and popularity by user"
   ],
   "metadata": {
    "collapsed": false
   },
   "id": "9cd57a106e330b2f"
  },
  {
   "cell_type": "code",
   "execution_count": 4,
   "outputs": [
    {
     "data": {
      "text/plain": "        popularity                 \n              mean        std count\nuser_id                            \n101      39.125000  14.065535     8\n102      26.111111  11.709445     9\n103      32.136364  10.534729    22\n104      29.189189  17.478301    37\n105      76.600000   1.074968    10\n106      77.384615   2.567931    52\n107      40.777778  20.209163    27\n108      28.200000  16.146207     5\n109      76.666667   1.614330    12\n110      77.750000   3.058945     8\n111       7.666667   2.516611     3\n112      29.173913  17.122181    46\n113      28.853659  13.033727    41\n114       7.000000   9.899495     2\n115      30.440000  15.329257    50\n116      79.375000   3.739430    16\n117      33.086420  14.642573    81\n118      76.806452   2.006977    31\n119      31.833333  13.377842     6\n120      28.500000  20.631691     4\n121      33.103448  17.048973    29\n122      77.428571   1.902379     7\n123      32.250000   7.162085    12\n124      77.375000   2.963669    16\n125      75.333333   0.577350     3\n126      31.800000  14.889594     5\n127      34.500000  13.138539    34\n128      33.481481  10.534294    54\n129      32.333333  21.548395     3\n130      26.666667   7.023769     3\n131      77.705882   3.349715    17\n132      28.592593  18.155862    27\n133      28.333333  15.209646    12\n134      35.684211  15.319025    19\n135      77.814815   2.557599    27\n136      16.000000        NaN     1\n137      15.250000  14.545904     4\n138      37.444444  14.299643    45\n139      42.500000  18.734994     4\n140      18.666667  12.897028     3\n141      28.733333  21.624942    15\n142      78.500000   3.872983     4\n143      20.000000        NaN     1\n144      32.826087  14.246697    23\n145      28.625000  19.412349     8\n146      33.000000  23.423635     4\n147      80.000000        NaN     1\n148      34.900000  13.633700    10\n149      79.375000   3.997767     8\n150      78.714286   3.116775    21",
      "text/html": "<div>\n<style scoped>\n    .dataframe tbody tr th:only-of-type {\n        vertical-align: middle;\n    }\n\n    .dataframe tbody tr th {\n        vertical-align: top;\n    }\n\n    .dataframe thead tr th {\n        text-align: left;\n    }\n\n    .dataframe thead tr:last-of-type th {\n        text-align: right;\n    }\n</style>\n<table border=\"1\" class=\"dataframe\">\n  <thead>\n    <tr>\n      <th></th>\n      <th colspan=\"3\" halign=\"left\">popularity</th>\n    </tr>\n    <tr>\n      <th></th>\n      <th>mean</th>\n      <th>std</th>\n      <th>count</th>\n    </tr>\n    <tr>\n      <th>user_id</th>\n      <th></th>\n      <th></th>\n      <th></th>\n    </tr>\n  </thead>\n  <tbody>\n    <tr>\n      <th>101</th>\n      <td>39.125000</td>\n      <td>14.065535</td>\n      <td>8</td>\n    </tr>\n    <tr>\n      <th>102</th>\n      <td>26.111111</td>\n      <td>11.709445</td>\n      <td>9</td>\n    </tr>\n    <tr>\n      <th>103</th>\n      <td>32.136364</td>\n      <td>10.534729</td>\n      <td>22</td>\n    </tr>\n    <tr>\n      <th>104</th>\n      <td>29.189189</td>\n      <td>17.478301</td>\n      <td>37</td>\n    </tr>\n    <tr>\n      <th>105</th>\n      <td>76.600000</td>\n      <td>1.074968</td>\n      <td>10</td>\n    </tr>\n    <tr>\n      <th>106</th>\n      <td>77.384615</td>\n      <td>2.567931</td>\n      <td>52</td>\n    </tr>\n    <tr>\n      <th>107</th>\n      <td>40.777778</td>\n      <td>20.209163</td>\n      <td>27</td>\n    </tr>\n    <tr>\n      <th>108</th>\n      <td>28.200000</td>\n      <td>16.146207</td>\n      <td>5</td>\n    </tr>\n    <tr>\n      <th>109</th>\n      <td>76.666667</td>\n      <td>1.614330</td>\n      <td>12</td>\n    </tr>\n    <tr>\n      <th>110</th>\n      <td>77.750000</td>\n      <td>3.058945</td>\n      <td>8</td>\n    </tr>\n    <tr>\n      <th>111</th>\n      <td>7.666667</td>\n      <td>2.516611</td>\n      <td>3</td>\n    </tr>\n    <tr>\n      <th>112</th>\n      <td>29.173913</td>\n      <td>17.122181</td>\n      <td>46</td>\n    </tr>\n    <tr>\n      <th>113</th>\n      <td>28.853659</td>\n      <td>13.033727</td>\n      <td>41</td>\n    </tr>\n    <tr>\n      <th>114</th>\n      <td>7.000000</td>\n      <td>9.899495</td>\n      <td>2</td>\n    </tr>\n    <tr>\n      <th>115</th>\n      <td>30.440000</td>\n      <td>15.329257</td>\n      <td>50</td>\n    </tr>\n    <tr>\n      <th>116</th>\n      <td>79.375000</td>\n      <td>3.739430</td>\n      <td>16</td>\n    </tr>\n    <tr>\n      <th>117</th>\n      <td>33.086420</td>\n      <td>14.642573</td>\n      <td>81</td>\n    </tr>\n    <tr>\n      <th>118</th>\n      <td>76.806452</td>\n      <td>2.006977</td>\n      <td>31</td>\n    </tr>\n    <tr>\n      <th>119</th>\n      <td>31.833333</td>\n      <td>13.377842</td>\n      <td>6</td>\n    </tr>\n    <tr>\n      <th>120</th>\n      <td>28.500000</td>\n      <td>20.631691</td>\n      <td>4</td>\n    </tr>\n    <tr>\n      <th>121</th>\n      <td>33.103448</td>\n      <td>17.048973</td>\n      <td>29</td>\n    </tr>\n    <tr>\n      <th>122</th>\n      <td>77.428571</td>\n      <td>1.902379</td>\n      <td>7</td>\n    </tr>\n    <tr>\n      <th>123</th>\n      <td>32.250000</td>\n      <td>7.162085</td>\n      <td>12</td>\n    </tr>\n    <tr>\n      <th>124</th>\n      <td>77.375000</td>\n      <td>2.963669</td>\n      <td>16</td>\n    </tr>\n    <tr>\n      <th>125</th>\n      <td>75.333333</td>\n      <td>0.577350</td>\n      <td>3</td>\n    </tr>\n    <tr>\n      <th>126</th>\n      <td>31.800000</td>\n      <td>14.889594</td>\n      <td>5</td>\n    </tr>\n    <tr>\n      <th>127</th>\n      <td>34.500000</td>\n      <td>13.138539</td>\n      <td>34</td>\n    </tr>\n    <tr>\n      <th>128</th>\n      <td>33.481481</td>\n      <td>10.534294</td>\n      <td>54</td>\n    </tr>\n    <tr>\n      <th>129</th>\n      <td>32.333333</td>\n      <td>21.548395</td>\n      <td>3</td>\n    </tr>\n    <tr>\n      <th>130</th>\n      <td>26.666667</td>\n      <td>7.023769</td>\n      <td>3</td>\n    </tr>\n    <tr>\n      <th>131</th>\n      <td>77.705882</td>\n      <td>3.349715</td>\n      <td>17</td>\n    </tr>\n    <tr>\n      <th>132</th>\n      <td>28.592593</td>\n      <td>18.155862</td>\n      <td>27</td>\n    </tr>\n    <tr>\n      <th>133</th>\n      <td>28.333333</td>\n      <td>15.209646</td>\n      <td>12</td>\n    </tr>\n    <tr>\n      <th>134</th>\n      <td>35.684211</td>\n      <td>15.319025</td>\n      <td>19</td>\n    </tr>\n    <tr>\n      <th>135</th>\n      <td>77.814815</td>\n      <td>2.557599</td>\n      <td>27</td>\n    </tr>\n    <tr>\n      <th>136</th>\n      <td>16.000000</td>\n      <td>NaN</td>\n      <td>1</td>\n    </tr>\n    <tr>\n      <th>137</th>\n      <td>15.250000</td>\n      <td>14.545904</td>\n      <td>4</td>\n    </tr>\n    <tr>\n      <th>138</th>\n      <td>37.444444</td>\n      <td>14.299643</td>\n      <td>45</td>\n    </tr>\n    <tr>\n      <th>139</th>\n      <td>42.500000</td>\n      <td>18.734994</td>\n      <td>4</td>\n    </tr>\n    <tr>\n      <th>140</th>\n      <td>18.666667</td>\n      <td>12.897028</td>\n      <td>3</td>\n    </tr>\n    <tr>\n      <th>141</th>\n      <td>28.733333</td>\n      <td>21.624942</td>\n      <td>15</td>\n    </tr>\n    <tr>\n      <th>142</th>\n      <td>78.500000</td>\n      <td>3.872983</td>\n      <td>4</td>\n    </tr>\n    <tr>\n      <th>143</th>\n      <td>20.000000</td>\n      <td>NaN</td>\n      <td>1</td>\n    </tr>\n    <tr>\n      <th>144</th>\n      <td>32.826087</td>\n      <td>14.246697</td>\n      <td>23</td>\n    </tr>\n    <tr>\n      <th>145</th>\n      <td>28.625000</td>\n      <td>19.412349</td>\n      <td>8</td>\n    </tr>\n    <tr>\n      <th>146</th>\n      <td>33.000000</td>\n      <td>23.423635</td>\n      <td>4</td>\n    </tr>\n    <tr>\n      <th>147</th>\n      <td>80.000000</td>\n      <td>NaN</td>\n      <td>1</td>\n    </tr>\n    <tr>\n      <th>148</th>\n      <td>34.900000</td>\n      <td>13.633700</td>\n      <td>10</td>\n    </tr>\n    <tr>\n      <th>149</th>\n      <td>79.375000</td>\n      <td>3.997767</td>\n      <td>8</td>\n    </tr>\n    <tr>\n      <th>150</th>\n      <td>78.714286</td>\n      <td>3.116775</td>\n      <td>21</td>\n    </tr>\n  </tbody>\n</table>\n</div>"
     },
     "execution_count": 4,
     "metadata": {},
     "output_type": "execute_result"
    }
   ],
   "source": [
    "skip_events = sessions[sessions['event_type']=='skip'][['user_id', 'track_id']]\n",
    "skip_events.join(tracks.set_index('id')['popularity'], on='track_id', how=\"inner\").groupby('user_id').agg({'popularity':['mean', 'std', 'count']})\n"
   ],
   "metadata": {
    "collapsed": false,
    "ExecuteTime": {
     "end_time": "2023-11-24T11:34:38.852363540Z",
     "start_time": "2023-11-24T11:34:38.789894320Z"
    }
   },
   "id": "2ed1f48b2f252d92"
  }
 ],
 "metadata": {
  "kernelspec": {
   "display_name": "Python 3",
   "language": "python",
   "name": "python3"
  },
  "language_info": {
   "codemirror_mode": {
    "name": "ipython",
    "version": 2
   },
   "file_extension": ".py",
   "mimetype": "text/x-python",
   "name": "python",
   "nbconvert_exporter": "python",
   "pygments_lexer": "ipython2",
   "version": "2.7.6"
  }
 },
 "nbformat": 4,
 "nbformat_minor": 5
}
