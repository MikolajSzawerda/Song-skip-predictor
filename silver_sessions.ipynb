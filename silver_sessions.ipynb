{
 "cells": [
  {
   "cell_type": "code",
   "execution_count": 1,
   "id": "initial_id",
   "metadata": {
    "collapsed": true,
    "ExecuteTime": {
     "end_time": "2023-11-21T17:33:46.590828044Z",
     "start_time": "2023-11-21T17:33:46.570592817Z"
    }
   },
   "outputs": [],
   "source": [
    "import pandas as pd\n",
    "import seaborn as sns\n",
    "sns.set_theme()\n",
    "import matplotlib.pyplot as plt\n",
    "sns.set_theme(style=\"whitegrid\")\n",
    "# for now naive cleaning\n",
    "sessions = pd.read_json(\"data/sessions.jsonl\", lines=True).dropna().set_index('timestamp')\n"
   ]
  },
  {
   "cell_type": "markdown",
   "source": [
    "## Listen time user/track"
   ],
   "metadata": {
    "collapsed": false
   },
   "id": "80eb649a3c88296c"
  },
  {
   "cell_type": "code",
   "execution_count": 2,
   "outputs": [
    {
     "data": {
      "text/plain": "                  timestamp  user_id                track_id  \\\n0   2023-09-04 09:00:42.000    101.0  6cy83P2limyzaFSl3OoQe0   \n1   2023-10-25 19:17:17.093    101.0  1LeI5P9uyh9HGpoVZnTz9r   \n2   2023-10-25 19:24:24.430    101.0  3HlOk3Iy7vkOfROwBbJqfx   \n3   2023-11-05 21:29:24.427    101.0  0NDYm1yTwoyHTiIA8bSw2M   \n4   2023-01-31 05:02:28.226    102.0  4dF6hP1Jts3iXkUosvG0kg   \n..                      ...      ...                     ...   \n609 2023-09-13 19:20:13.404    150.0  3JfBv2YfwPdflYUGMCeHgt   \n610 2023-09-13 19:22:01.978    150.0  4ZvCSzkZVmGLpbvRjZWLzC   \n611 2023-09-16 11:21:15.000    150.0  6xa8EuqmwQPVjzhyir7yTU   \n612 2023-09-16 11:23:38.642    150.0  2EqGctscFgYXkv2WEJSWoN   \n613 2023-09-16 11:24:48.156    150.0  4WVzeGlJNjCptNGNzDgUHv   \n\n                  duration  \n0   0 days 00:04:13.039000  \n1   0 days 00:00:19.131000  \n2   0 days 00:02:54.116000  \n3   0 days 00:02:20.674000  \n4   0 days 00:01:46.824000  \n..                     ...  \n609 0 days 00:01:48.574000  \n610 0 days 00:01:06.975000  \n611 0 days 00:02:23.642000  \n612 0 days 00:01:09.514000  \n613 0 days 00:03:53.821000  \n\n[614 rows x 4 columns]",
      "text/html": "<div>\n<style scoped>\n    .dataframe tbody tr th:only-of-type {\n        vertical-align: middle;\n    }\n\n    .dataframe tbody tr th {\n        vertical-align: top;\n    }\n\n    .dataframe thead th {\n        text-align: right;\n    }\n</style>\n<table border=\"1\" class=\"dataframe\">\n  <thead>\n    <tr style=\"text-align: right;\">\n      <th></th>\n      <th>timestamp</th>\n      <th>user_id</th>\n      <th>track_id</th>\n      <th>duration</th>\n    </tr>\n  </thead>\n  <tbody>\n    <tr>\n      <th>0</th>\n      <td>2023-09-04 09:00:42.000</td>\n      <td>101.0</td>\n      <td>6cy83P2limyzaFSl3OoQe0</td>\n      <td>0 days 00:04:13.039000</td>\n    </tr>\n    <tr>\n      <th>1</th>\n      <td>2023-10-25 19:17:17.093</td>\n      <td>101.0</td>\n      <td>1LeI5P9uyh9HGpoVZnTz9r</td>\n      <td>0 days 00:00:19.131000</td>\n    </tr>\n    <tr>\n      <th>2</th>\n      <td>2023-10-25 19:24:24.430</td>\n      <td>101.0</td>\n      <td>3HlOk3Iy7vkOfROwBbJqfx</td>\n      <td>0 days 00:02:54.116000</td>\n    </tr>\n    <tr>\n      <th>3</th>\n      <td>2023-11-05 21:29:24.427</td>\n      <td>101.0</td>\n      <td>0NDYm1yTwoyHTiIA8bSw2M</td>\n      <td>0 days 00:02:20.674000</td>\n    </tr>\n    <tr>\n      <th>4</th>\n      <td>2023-01-31 05:02:28.226</td>\n      <td>102.0</td>\n      <td>4dF6hP1Jts3iXkUosvG0kg</td>\n      <td>0 days 00:01:46.824000</td>\n    </tr>\n    <tr>\n      <th>...</th>\n      <td>...</td>\n      <td>...</td>\n      <td>...</td>\n      <td>...</td>\n    </tr>\n    <tr>\n      <th>609</th>\n      <td>2023-09-13 19:20:13.404</td>\n      <td>150.0</td>\n      <td>3JfBv2YfwPdflYUGMCeHgt</td>\n      <td>0 days 00:01:48.574000</td>\n    </tr>\n    <tr>\n      <th>610</th>\n      <td>2023-09-13 19:22:01.978</td>\n      <td>150.0</td>\n      <td>4ZvCSzkZVmGLpbvRjZWLzC</td>\n      <td>0 days 00:01:06.975000</td>\n    </tr>\n    <tr>\n      <th>611</th>\n      <td>2023-09-16 11:21:15.000</td>\n      <td>150.0</td>\n      <td>6xa8EuqmwQPVjzhyir7yTU</td>\n      <td>0 days 00:02:23.642000</td>\n    </tr>\n    <tr>\n      <th>612</th>\n      <td>2023-09-16 11:23:38.642</td>\n      <td>150.0</td>\n      <td>2EqGctscFgYXkv2WEJSWoN</td>\n      <td>0 days 00:01:09.514000</td>\n    </tr>\n    <tr>\n      <th>613</th>\n      <td>2023-09-16 11:24:48.156</td>\n      <td>150.0</td>\n      <td>4WVzeGlJNjCptNGNzDgUHv</td>\n      <td>0 days 00:03:53.821000</td>\n    </tr>\n  </tbody>\n</table>\n<p>614 rows × 4 columns</p>\n</div>"
     },
     "execution_count": 2,
     "metadata": {},
     "output_type": "execute_result"
    }
   ],
   "source": [
    "listen_events = sessions[sessions['event_type'].isin(['play', 'skip'])]\n",
    "cache = []\n",
    "for idx, session in listen_events.groupby('session_id'):\n",
    "    session = session.reset_index()\n",
    "    for i in range(len(session) -1):\n",
    "        curr = session.iloc[i]\n",
    "        next_v = session.iloc[i+1]\n",
    "        if curr[\"track_id\"] != next_v[\"track_id\"]:\n",
    "            continue\n",
    "        if curr['event_type'] != 'play' or next_v['event_type'] != 'skip':\n",
    "            continue\n",
    "        cache.append({\n",
    "            'timestamp': curr['timestamp'],\n",
    "            'user_id': curr['user_id'],\n",
    "            'track_id': curr['track_id'],\n",
    "            'duration': next_v['timestamp'] - curr['timestamp']\n",
    "        })\n",
    "pd.DataFrame(cache)\n"
   ],
   "metadata": {
    "collapsed": false,
    "ExecuteTime": {
     "end_time": "2023-11-21T17:33:57.260747237Z",
     "start_time": "2023-11-21T17:33:56.691422227Z"
    }
   },
   "id": "aa397410a003e629"
  },
  {
   "cell_type": "markdown",
   "source": [
    "## if skip occurred user/track"
   ],
   "metadata": {
    "collapsed": false
   },
   "id": "9fafb0fd69d134ee"
  },
  {
   "cell_type": "code",
   "execution_count": 12,
   "outputs": [
    {
     "data": {
      "text/plain": "     user_id                track_id  0\n0      101.0  0NDYm1yTwoyHTiIA8bSw2M  1\n1      101.0  1LeI5P9uyh9HGpoVZnTz9r  1\n2      101.0  36lkJSDyMEZoWTqtRj8Q8q  1\n3      101.0  3HlOk3Iy7vkOfROwBbJqfx  1\n4      101.0  3hQT53VbsScHcmOgZZs9I7  1\n..       ...                     ... ..\n699    150.0  7EUImYZOKeYVF2H1jQT4DU  1\n700    150.0  7K4wD19D9CN4UKC4kIR7Cy  1\n701    150.0  7ifcplNdIFySpiB8YhKLzT  1\n702    150.0  7nAC0JP2NVoYzPtRdR39BS  1\n703    150.0  7zOLsPEldoOIKlW4Y04rRy  1\n\n[704 rows x 3 columns]",
      "text/html": "<div>\n<style scoped>\n    .dataframe tbody tr th:only-of-type {\n        vertical-align: middle;\n    }\n\n    .dataframe tbody tr th {\n        vertical-align: top;\n    }\n\n    .dataframe thead th {\n        text-align: right;\n    }\n</style>\n<table border=\"1\" class=\"dataframe\">\n  <thead>\n    <tr style=\"text-align: right;\">\n      <th></th>\n      <th>user_id</th>\n      <th>track_id</th>\n      <th>0</th>\n    </tr>\n  </thead>\n  <tbody>\n    <tr>\n      <th>0</th>\n      <td>101.0</td>\n      <td>0NDYm1yTwoyHTiIA8bSw2M</td>\n      <td>1</td>\n    </tr>\n    <tr>\n      <th>1</th>\n      <td>101.0</td>\n      <td>1LeI5P9uyh9HGpoVZnTz9r</td>\n      <td>1</td>\n    </tr>\n    <tr>\n      <th>2</th>\n      <td>101.0</td>\n      <td>36lkJSDyMEZoWTqtRj8Q8q</td>\n      <td>1</td>\n    </tr>\n    <tr>\n      <th>3</th>\n      <td>101.0</td>\n      <td>3HlOk3Iy7vkOfROwBbJqfx</td>\n      <td>1</td>\n    </tr>\n    <tr>\n      <th>4</th>\n      <td>101.0</td>\n      <td>3hQT53VbsScHcmOgZZs9I7</td>\n      <td>1</td>\n    </tr>\n    <tr>\n      <th>...</th>\n      <td>...</td>\n      <td>...</td>\n      <td>...</td>\n    </tr>\n    <tr>\n      <th>699</th>\n      <td>150.0</td>\n      <td>7EUImYZOKeYVF2H1jQT4DU</td>\n      <td>1</td>\n    </tr>\n    <tr>\n      <th>700</th>\n      <td>150.0</td>\n      <td>7K4wD19D9CN4UKC4kIR7Cy</td>\n      <td>1</td>\n    </tr>\n    <tr>\n      <th>701</th>\n      <td>150.0</td>\n      <td>7ifcplNdIFySpiB8YhKLzT</td>\n      <td>1</td>\n    </tr>\n    <tr>\n      <th>702</th>\n      <td>150.0</td>\n      <td>7nAC0JP2NVoYzPtRdR39BS</td>\n      <td>1</td>\n    </tr>\n    <tr>\n      <th>703</th>\n      <td>150.0</td>\n      <td>7zOLsPEldoOIKlW4Y04rRy</td>\n      <td>1</td>\n    </tr>\n  </tbody>\n</table>\n<p>704 rows × 3 columns</p>\n</div>"
     },
     "execution_count": 12,
     "metadata": {},
     "output_type": "execute_result"
    }
   ],
   "source": [
    "sessions[sessions['event_type']=='skip'].groupby(['user_id', 'track_id']).size().reset_index()"
   ],
   "metadata": {
    "collapsed": false,
    "ExecuteTime": {
     "end_time": "2023-11-21T17:16:24.654734303Z",
     "start_time": "2023-11-21T17:16:24.640888438Z"
    }
   },
   "id": "3164fea9366823c2"
  },
  {
   "cell_type": "markdown",
   "source": [
    "## user session time"
   ],
   "metadata": {
    "collapsed": false
   },
   "id": "da6516b4d83a2394"
  },
  {
   "cell_type": "code",
   "execution_count": 17,
   "outputs": [
    {
     "data": {
      "text/plain": "     session_id  user_id           session_start             session_end  \\\n0           124    101.0 2023-04-24 04:02:43.669 2023-04-24 04:15:41.241   \n1           125    101.0 2023-05-25 15:30:22.000 2023-05-25 15:30:22.000   \n2           126    101.0 2023-07-18 11:16:23.000 2023-07-18 11:20:15.679   \n3           127    101.0 2023-08-23 20:55:13.000 2023-08-23 20:55:13.000   \n4           128    101.0 2023-09-04 09:00:42.000 2023-09-04 09:11:08.133   \n..          ...      ...                     ...                     ...   \n616         806    150.0 2023-08-31 04:16:45.000 2023-08-31 04:19:50.693   \n617         807    150.0 2023-09-05 23:45:58.000 2023-09-05 23:49:03.082   \n618         808    150.0 2023-09-13 19:10:41.000 2023-09-13 19:33:35.740   \n619         809    150.0 2023-09-16 11:21:15.000 2023-09-16 11:32:14.634   \n620         810    150.0 2023-09-21 01:38:14.000 2023-09-21 01:45:06.067   \n\n                  duration  \n0   0 days 00:12:57.572000  \n1          0 days 00:00:00  \n2   0 days 00:03:52.679000  \n3          0 days 00:00:00  \n4   0 days 00:10:26.133000  \n..                     ...  \n616 0 days 00:03:05.693000  \n617 0 days 00:03:05.082000  \n618 0 days 00:22:54.740000  \n619 0 days 00:10:59.634000  \n620 0 days 00:06:52.067000  \n\n[621 rows x 5 columns]",
      "text/html": "<div>\n<style scoped>\n    .dataframe tbody tr th:only-of-type {\n        vertical-align: middle;\n    }\n\n    .dataframe tbody tr th {\n        vertical-align: top;\n    }\n\n    .dataframe thead th {\n        text-align: right;\n    }\n</style>\n<table border=\"1\" class=\"dataframe\">\n  <thead>\n    <tr style=\"text-align: right;\">\n      <th></th>\n      <th>session_id</th>\n      <th>user_id</th>\n      <th>session_start</th>\n      <th>session_end</th>\n      <th>duration</th>\n    </tr>\n  </thead>\n  <tbody>\n    <tr>\n      <th>0</th>\n      <td>124</td>\n      <td>101.0</td>\n      <td>2023-04-24 04:02:43.669</td>\n      <td>2023-04-24 04:15:41.241</td>\n      <td>0 days 00:12:57.572000</td>\n    </tr>\n    <tr>\n      <th>1</th>\n      <td>125</td>\n      <td>101.0</td>\n      <td>2023-05-25 15:30:22.000</td>\n      <td>2023-05-25 15:30:22.000</td>\n      <td>0 days 00:00:00</td>\n    </tr>\n    <tr>\n      <th>2</th>\n      <td>126</td>\n      <td>101.0</td>\n      <td>2023-07-18 11:16:23.000</td>\n      <td>2023-07-18 11:20:15.679</td>\n      <td>0 days 00:03:52.679000</td>\n    </tr>\n    <tr>\n      <th>3</th>\n      <td>127</td>\n      <td>101.0</td>\n      <td>2023-08-23 20:55:13.000</td>\n      <td>2023-08-23 20:55:13.000</td>\n      <td>0 days 00:00:00</td>\n    </tr>\n    <tr>\n      <th>4</th>\n      <td>128</td>\n      <td>101.0</td>\n      <td>2023-09-04 09:00:42.000</td>\n      <td>2023-09-04 09:11:08.133</td>\n      <td>0 days 00:10:26.133000</td>\n    </tr>\n    <tr>\n      <th>...</th>\n      <td>...</td>\n      <td>...</td>\n      <td>...</td>\n      <td>...</td>\n      <td>...</td>\n    </tr>\n    <tr>\n      <th>616</th>\n      <td>806</td>\n      <td>150.0</td>\n      <td>2023-08-31 04:16:45.000</td>\n      <td>2023-08-31 04:19:50.693</td>\n      <td>0 days 00:03:05.693000</td>\n    </tr>\n    <tr>\n      <th>617</th>\n      <td>807</td>\n      <td>150.0</td>\n      <td>2023-09-05 23:45:58.000</td>\n      <td>2023-09-05 23:49:03.082</td>\n      <td>0 days 00:03:05.082000</td>\n    </tr>\n    <tr>\n      <th>618</th>\n      <td>808</td>\n      <td>150.0</td>\n      <td>2023-09-13 19:10:41.000</td>\n      <td>2023-09-13 19:33:35.740</td>\n      <td>0 days 00:22:54.740000</td>\n    </tr>\n    <tr>\n      <th>619</th>\n      <td>809</td>\n      <td>150.0</td>\n      <td>2023-09-16 11:21:15.000</td>\n      <td>2023-09-16 11:32:14.634</td>\n      <td>0 days 00:10:59.634000</td>\n    </tr>\n    <tr>\n      <th>620</th>\n      <td>810</td>\n      <td>150.0</td>\n      <td>2023-09-21 01:38:14.000</td>\n      <td>2023-09-21 01:45:06.067</td>\n      <td>0 days 00:06:52.067000</td>\n    </tr>\n  </tbody>\n</table>\n<p>621 rows × 5 columns</p>\n</div>"
     },
     "execution_count": 17,
     "metadata": {},
     "output_type": "execute_result"
    }
   ],
   "source": [
    "sessions.reset_index().groupby(['session_id', 'user_id']).agg(session_start=('timestamp', 'min'), session_end=('timestamp', 'max')).assign(duration=lambda x: x['session_end'] - x['session_start']).reset_index()"
   ],
   "metadata": {
    "collapsed": false,
    "ExecuteTime": {
     "end_time": "2023-11-21T17:22:05.875828660Z",
     "start_time": "2023-11-21T17:22:05.834624436Z"
    }
   },
   "id": "a42b9e01f0af2039"
  },
  {
   "cell_type": "markdown",
   "source": [
    "## skip occurrence with time of day by day"
   ],
   "metadata": {
    "collapsed": false
   },
   "id": "52e815001efdeb31"
  },
  {
   "cell_type": "code",
   "execution_count": 20,
   "outputs": [
    {
     "name": "stderr",
     "output_type": "stream",
     "text": [
      "/tmp/ipykernel_15430/847945583.py:2: SettingWithCopyWarning: \n",
      "A value is trying to be set on a copy of a slice from a DataFrame.\n",
      "Try using .loc[row_indexer,col_indexer] = value instead\n",
      "\n",
      "See the caveats in the documentation: https://pandas.pydata.org/pandas-docs/stable/user_guide/indexing.html#returning-a-view-versus-a-copy\n",
      "  skip_occurrence['hour'] = skip_occurrence.index.hour\n",
      "/tmp/ipykernel_15430/847945583.py:3: SettingWithCopyWarning: \n",
      "A value is trying to be set on a copy of a slice from a DataFrame.\n",
      "Try using .loc[row_indexer,col_indexer] = value instead\n",
      "\n",
      "See the caveats in the documentation: https://pandas.pydata.org/pandas-docs/stable/user_guide/indexing.html#returning-a-view-versus-a-copy\n",
      "  skip_occurrence['date'] = skip_occurrence.index.date\n"
     ]
    },
    {
     "data": {
      "text/plain": "           date  hour  count\n0    2023-01-01    15      2\n1    2023-01-01    20      1\n2    2023-01-03     9      1\n3    2023-01-03    22      2\n4    2023-01-08     2      5\n..          ...   ...    ...\n353  2023-10-30    14      5\n354  2023-10-30    22      1\n355  2023-10-31    18      1\n356  2023-11-01    19      3\n357  2023-11-05    21      1\n\n[358 rows x 3 columns]",
      "text/html": "<div>\n<style scoped>\n    .dataframe tbody tr th:only-of-type {\n        vertical-align: middle;\n    }\n\n    .dataframe tbody tr th {\n        vertical-align: top;\n    }\n\n    .dataframe thead th {\n        text-align: right;\n    }\n</style>\n<table border=\"1\" class=\"dataframe\">\n  <thead>\n    <tr style=\"text-align: right;\">\n      <th></th>\n      <th>date</th>\n      <th>hour</th>\n      <th>count</th>\n    </tr>\n  </thead>\n  <tbody>\n    <tr>\n      <th>0</th>\n      <td>2023-01-01</td>\n      <td>15</td>\n      <td>2</td>\n    </tr>\n    <tr>\n      <th>1</th>\n      <td>2023-01-01</td>\n      <td>20</td>\n      <td>1</td>\n    </tr>\n    <tr>\n      <th>2</th>\n      <td>2023-01-03</td>\n      <td>9</td>\n      <td>1</td>\n    </tr>\n    <tr>\n      <th>3</th>\n      <td>2023-01-03</td>\n      <td>22</td>\n      <td>2</td>\n    </tr>\n    <tr>\n      <th>4</th>\n      <td>2023-01-08</td>\n      <td>2</td>\n      <td>5</td>\n    </tr>\n    <tr>\n      <th>...</th>\n      <td>...</td>\n      <td>...</td>\n      <td>...</td>\n    </tr>\n    <tr>\n      <th>353</th>\n      <td>2023-10-30</td>\n      <td>14</td>\n      <td>5</td>\n    </tr>\n    <tr>\n      <th>354</th>\n      <td>2023-10-30</td>\n      <td>22</td>\n      <td>1</td>\n    </tr>\n    <tr>\n      <th>355</th>\n      <td>2023-10-31</td>\n      <td>18</td>\n      <td>1</td>\n    </tr>\n    <tr>\n      <th>356</th>\n      <td>2023-11-01</td>\n      <td>19</td>\n      <td>3</td>\n    </tr>\n    <tr>\n      <th>357</th>\n      <td>2023-11-05</td>\n      <td>21</td>\n      <td>1</td>\n    </tr>\n  </tbody>\n</table>\n<p>358 rows × 3 columns</p>\n</div>"
     },
     "execution_count": 20,
     "metadata": {},
     "output_type": "execute_result"
    }
   ],
   "source": [
    "skip_occurrence = sessions[sessions['event_type']=='skip']\n",
    "skip_occurrence['hour'] = skip_occurrence.index.hour\n",
    "skip_occurrence['date'] = skip_occurrence.index.date\n",
    "skip_occurrence.groupby(['date', 'hour']).size().reset_index(name=\"count\")"
   ],
   "metadata": {
    "collapsed": false,
    "ExecuteTime": {
     "end_time": "2023-11-21T17:26:57.309086114Z",
     "start_time": "2023-11-21T17:26:57.297189103Z"
    }
   },
   "id": "255c1d738144372a"
  }
 ],
 "metadata": {
  "kernelspec": {
   "display_name": "Python 3",
   "language": "python",
   "name": "python3"
  },
  "language_info": {
   "codemirror_mode": {
    "name": "ipython",
    "version": 2
   },
   "file_extension": ".py",
   "mimetype": "text/x-python",
   "name": "python",
   "nbconvert_exporter": "python",
   "pygments_lexer": "ipython2",
   "version": "2.7.6"
  }
 },
 "nbformat": 4,
 "nbformat_minor": 5
}
