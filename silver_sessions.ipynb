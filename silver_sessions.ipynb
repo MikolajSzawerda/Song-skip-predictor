{
 "cells": [
  {
   "cell_type": "code",
   "execution_count": 1,
   "id": "initial_id",
   "metadata": {
    "collapsed": true,
    "ExecuteTime": {
     "end_time": "2023-11-24T11:34:49.409131437Z",
     "start_time": "2023-11-24T11:34:49.235275376Z"
    }
   },
   "outputs": [],
   "source": [
    "import pandas as pd\n",
    "import seaborn as sns\n",
    "sns.set_theme()\n",
    "import matplotlib.pyplot as plt\n",
    "sns.set_theme(style=\"whitegrid\")\n",
    "# for now naive cleaning\n",
    "sessions = pd.read_json(\"data/sessions.jsonl\", lines=True).dropna().set_index('timestamp')\n"
   ]
  },
  {
   "cell_type": "markdown",
   "source": [
    "## Listen time user/track"
   ],
   "metadata": {
    "collapsed": false
   },
   "id": "80eb649a3c88296c"
  },
  {
   "cell_type": "code",
   "execution_count": 2,
   "outputs": [
    {
     "data": {
      "text/plain": "                   timestamp  user_id                track_id  \\\n0    2023-01-02 06:17:59.823      101  4JHoOfnad61lljGlVhfFSb   \n1    2023-01-02 06:47:13.595      101  44XWtXS1N27SIgdlKwE24B   \n2    2023-01-09 14:01:10.164      101  0zMxvCIYqGcn6prnLRjfxW   \n3    2023-01-09 14:10:58.131      101  2msZBKdricJsjUMqI4yMbL   \n4    2023-01-09 14:21:32.944      101  6WWoWlxdD2OEKY8olGBpW7   \n...                      ...      ...                     ...   \n4357 2023-10-28 21:53:00.023      150  1ZN2Dat0KrO0xqr9t8QP9r   \n4358 2023-10-28 21:59:54.293      150  7l1qvxWjxcKpB9PCtBuTbU   \n4359 2023-10-28 22:06:14.812      150  6suYoN4gFkanqOBn5yRnJC   \n4360 2023-10-28 22:18:04.212      150  0zlnHTHiBQ68ZCAmTw5ozm   \n4361 2023-10-28 22:21:41.817      150  3dPQuX8Gs42Y7b454ybpMR   \n\n                   duration  \n0    0 days 00:01:31.789000  \n1    0 days 00:00:53.529000  \n2    0 days 00:01:33.767000  \n3    0 days 00:03:39.959000  \n4    0 days 00:03:00.928000  \n...                     ...  \n4357 0 days 00:01:42.030000  \n4358 0 days 00:01:01.439000  \n4359 0 days 00:00:27.774000  \n4360 0 days 00:03:10.605000  \n4361 0 days 00:03:11.848000  \n\n[4362 rows x 4 columns]",
      "text/html": "<div>\n<style scoped>\n    .dataframe tbody tr th:only-of-type {\n        vertical-align: middle;\n    }\n\n    .dataframe tbody tr th {\n        vertical-align: top;\n    }\n\n    .dataframe thead th {\n        text-align: right;\n    }\n</style>\n<table border=\"1\" class=\"dataframe\">\n  <thead>\n    <tr style=\"text-align: right;\">\n      <th></th>\n      <th>timestamp</th>\n      <th>user_id</th>\n      <th>track_id</th>\n      <th>duration</th>\n    </tr>\n  </thead>\n  <tbody>\n    <tr>\n      <th>0</th>\n      <td>2023-01-02 06:17:59.823</td>\n      <td>101</td>\n      <td>4JHoOfnad61lljGlVhfFSb</td>\n      <td>0 days 00:01:31.789000</td>\n    </tr>\n    <tr>\n      <th>1</th>\n      <td>2023-01-02 06:47:13.595</td>\n      <td>101</td>\n      <td>44XWtXS1N27SIgdlKwE24B</td>\n      <td>0 days 00:00:53.529000</td>\n    </tr>\n    <tr>\n      <th>2</th>\n      <td>2023-01-09 14:01:10.164</td>\n      <td>101</td>\n      <td>0zMxvCIYqGcn6prnLRjfxW</td>\n      <td>0 days 00:01:33.767000</td>\n    </tr>\n    <tr>\n      <th>3</th>\n      <td>2023-01-09 14:10:58.131</td>\n      <td>101</td>\n      <td>2msZBKdricJsjUMqI4yMbL</td>\n      <td>0 days 00:03:39.959000</td>\n    </tr>\n    <tr>\n      <th>4</th>\n      <td>2023-01-09 14:21:32.944</td>\n      <td>101</td>\n      <td>6WWoWlxdD2OEKY8olGBpW7</td>\n      <td>0 days 00:03:00.928000</td>\n    </tr>\n    <tr>\n      <th>...</th>\n      <td>...</td>\n      <td>...</td>\n      <td>...</td>\n      <td>...</td>\n    </tr>\n    <tr>\n      <th>4357</th>\n      <td>2023-10-28 21:53:00.023</td>\n      <td>150</td>\n      <td>1ZN2Dat0KrO0xqr9t8QP9r</td>\n      <td>0 days 00:01:42.030000</td>\n    </tr>\n    <tr>\n      <th>4358</th>\n      <td>2023-10-28 21:59:54.293</td>\n      <td>150</td>\n      <td>7l1qvxWjxcKpB9PCtBuTbU</td>\n      <td>0 days 00:01:01.439000</td>\n    </tr>\n    <tr>\n      <th>4359</th>\n      <td>2023-10-28 22:06:14.812</td>\n      <td>150</td>\n      <td>6suYoN4gFkanqOBn5yRnJC</td>\n      <td>0 days 00:00:27.774000</td>\n    </tr>\n    <tr>\n      <th>4360</th>\n      <td>2023-10-28 22:18:04.212</td>\n      <td>150</td>\n      <td>0zlnHTHiBQ68ZCAmTw5ozm</td>\n      <td>0 days 00:03:10.605000</td>\n    </tr>\n    <tr>\n      <th>4361</th>\n      <td>2023-10-28 22:21:41.817</td>\n      <td>150</td>\n      <td>3dPQuX8Gs42Y7b454ybpMR</td>\n      <td>0 days 00:03:11.848000</td>\n    </tr>\n  </tbody>\n</table>\n<p>4362 rows × 4 columns</p>\n</div>"
     },
     "execution_count": 2,
     "metadata": {},
     "output_type": "execute_result"
    }
   ],
   "source": [
    "listen_events = sessions[sessions['event_type'].isin(['play', 'skip'])]\n",
    "cache = []\n",
    "for idx, session in listen_events.groupby('session_id'):\n",
    "    session = session.reset_index()\n",
    "    for i in range(len(session) -1):\n",
    "        curr = session.iloc[i]\n",
    "        next_v = session.iloc[i+1]\n",
    "        if curr[\"track_id\"] != next_v[\"track_id\"]:\n",
    "            continue\n",
    "        if curr['event_type'] != 'play' or next_v['event_type'] != 'skip':\n",
    "            continue\n",
    "        cache.append({\n",
    "            'timestamp': curr['timestamp'],\n",
    "            'user_id': curr['user_id'],\n",
    "            'track_id': curr['track_id'],\n",
    "            'duration': next_v['timestamp'] - curr['timestamp']\n",
    "        })\n",
    "pd.DataFrame(cache)\n"
   ],
   "metadata": {
    "collapsed": false,
    "ExecuteTime": {
     "end_time": "2023-11-24T11:39:06.128774965Z",
     "start_time": "2023-11-24T11:39:00.455991238Z"
    }
   },
   "id": "aa397410a003e629"
  },
  {
   "cell_type": "markdown",
   "source": [
    "## if skip occurred user/track"
   ],
   "metadata": {
    "collapsed": false
   },
   "id": "9fafb0fd69d134ee"
  },
  {
   "cell_type": "code",
   "execution_count": 3,
   "outputs": [
    {
     "data": {
      "text/plain": "      user_id                track_id  0\n0         101  04hBFZJ5PeIc8PPe4v1XiA  1\n1         101  0803SWqmIJGvZ15B8zsewn  1\n2         101  0zMxvCIYqGcn6prnLRjfxW  1\n3         101  10Jg3mk0sC54VWlP2opPcA  1\n4         101  1CSLeVCXmetBh8IkTPMFdL  1\n...       ...                     ... ..\n3788      150  77sMIMlNaSURUAXq5coCxE  2\n3789      150  7FdUvDkaE24o3FPIWTvzv2  4\n3790      150  7FwBtcecmlpc1sLySPXeGE  1\n3791      150  7KXjTSCq5nL1LoYtL7XAwS  1\n3792      150  7l1qvxWjxcKpB9PCtBuTbU  3\n\n[3793 rows x 3 columns]",
      "text/html": "<div>\n<style scoped>\n    .dataframe tbody tr th:only-of-type {\n        vertical-align: middle;\n    }\n\n    .dataframe tbody tr th {\n        vertical-align: top;\n    }\n\n    .dataframe thead th {\n        text-align: right;\n    }\n</style>\n<table border=\"1\" class=\"dataframe\">\n  <thead>\n    <tr style=\"text-align: right;\">\n      <th></th>\n      <th>user_id</th>\n      <th>track_id</th>\n      <th>0</th>\n    </tr>\n  </thead>\n  <tbody>\n    <tr>\n      <th>0</th>\n      <td>101</td>\n      <td>04hBFZJ5PeIc8PPe4v1XiA</td>\n      <td>1</td>\n    </tr>\n    <tr>\n      <th>1</th>\n      <td>101</td>\n      <td>0803SWqmIJGvZ15B8zsewn</td>\n      <td>1</td>\n    </tr>\n    <tr>\n      <th>2</th>\n      <td>101</td>\n      <td>0zMxvCIYqGcn6prnLRjfxW</td>\n      <td>1</td>\n    </tr>\n    <tr>\n      <th>3</th>\n      <td>101</td>\n      <td>10Jg3mk0sC54VWlP2opPcA</td>\n      <td>1</td>\n    </tr>\n    <tr>\n      <th>4</th>\n      <td>101</td>\n      <td>1CSLeVCXmetBh8IkTPMFdL</td>\n      <td>1</td>\n    </tr>\n    <tr>\n      <th>...</th>\n      <td>...</td>\n      <td>...</td>\n      <td>...</td>\n    </tr>\n    <tr>\n      <th>3788</th>\n      <td>150</td>\n      <td>77sMIMlNaSURUAXq5coCxE</td>\n      <td>2</td>\n    </tr>\n    <tr>\n      <th>3789</th>\n      <td>150</td>\n      <td>7FdUvDkaE24o3FPIWTvzv2</td>\n      <td>4</td>\n    </tr>\n    <tr>\n      <th>3790</th>\n      <td>150</td>\n      <td>7FwBtcecmlpc1sLySPXeGE</td>\n      <td>1</td>\n    </tr>\n    <tr>\n      <th>3791</th>\n      <td>150</td>\n      <td>7KXjTSCq5nL1LoYtL7XAwS</td>\n      <td>1</td>\n    </tr>\n    <tr>\n      <th>3792</th>\n      <td>150</td>\n      <td>7l1qvxWjxcKpB9PCtBuTbU</td>\n      <td>3</td>\n    </tr>\n  </tbody>\n</table>\n<p>3793 rows × 3 columns</p>\n</div>"
     },
     "execution_count": 3,
     "metadata": {},
     "output_type": "execute_result"
    }
   ],
   "source": [
    "sessions[sessions['event_type']=='skip'].groupby(['user_id', 'track_id']).size().reset_index()"
   ],
   "metadata": {
    "collapsed": false,
    "ExecuteTime": {
     "end_time": "2023-11-24T11:39:18.570704606Z",
     "start_time": "2023-11-24T11:39:18.523968084Z"
    }
   },
   "id": "3164fea9366823c2"
  },
  {
   "cell_type": "markdown",
   "source": [
    "## user session time"
   ],
   "metadata": {
    "collapsed": false
   },
   "id": "da6516b4d83a2394"
  },
  {
   "cell_type": "code",
   "execution_count": 4,
   "outputs": [
    {
     "data": {
      "text/plain": "     session_id  user_id       session_start             session_end  \\\n0           124      101 2023-01-02 05:58:46 2023-01-02 06:48:07.124   \n1           125      101 2023-01-09 13:30:57 2023-01-09 14:59:27.143   \n2           126      101 2023-01-12 19:26:08 2023-01-12 21:33:19.203   \n3           127      101 2023-01-19 21:04:36 2023-01-19 23:43:01.328   \n4           128      101 2023-02-01 22:09:05 2023-02-01 23:34:37.991   \n..          ...      ...                 ...                     ...   \n643         816      150 2023-09-01 08:44:48 2023-09-01 09:28:18.075   \n644         817      150 2023-09-03 16:15:06 2023-09-03 16:35:12.331   \n645         818      150 2023-09-23 23:05:26 2023-09-24 00:07:13.194   \n646         819      150 2023-10-17 12:01:53 2023-10-17 12:59:34.612   \n647         820      150 2023-10-28 20:46:56 2023-10-28 22:24:53.665   \n\n                  duration  \n0   0 days 00:49:21.124000  \n1   0 days 01:28:30.143000  \n2   0 days 02:07:11.203000  \n3   0 days 02:38:25.328000  \n4   0 days 01:25:32.991000  \n..                     ...  \n643 0 days 00:43:30.075000  \n644 0 days 00:20:06.331000  \n645 0 days 01:01:47.194000  \n646 0 days 00:57:41.612000  \n647 0 days 01:37:57.665000  \n\n[648 rows x 5 columns]",
      "text/html": "<div>\n<style scoped>\n    .dataframe tbody tr th:only-of-type {\n        vertical-align: middle;\n    }\n\n    .dataframe tbody tr th {\n        vertical-align: top;\n    }\n\n    .dataframe thead th {\n        text-align: right;\n    }\n</style>\n<table border=\"1\" class=\"dataframe\">\n  <thead>\n    <tr style=\"text-align: right;\">\n      <th></th>\n      <th>session_id</th>\n      <th>user_id</th>\n      <th>session_start</th>\n      <th>session_end</th>\n      <th>duration</th>\n    </tr>\n  </thead>\n  <tbody>\n    <tr>\n      <th>0</th>\n      <td>124</td>\n      <td>101</td>\n      <td>2023-01-02 05:58:46</td>\n      <td>2023-01-02 06:48:07.124</td>\n      <td>0 days 00:49:21.124000</td>\n    </tr>\n    <tr>\n      <th>1</th>\n      <td>125</td>\n      <td>101</td>\n      <td>2023-01-09 13:30:57</td>\n      <td>2023-01-09 14:59:27.143</td>\n      <td>0 days 01:28:30.143000</td>\n    </tr>\n    <tr>\n      <th>2</th>\n      <td>126</td>\n      <td>101</td>\n      <td>2023-01-12 19:26:08</td>\n      <td>2023-01-12 21:33:19.203</td>\n      <td>0 days 02:07:11.203000</td>\n    </tr>\n    <tr>\n      <th>3</th>\n      <td>127</td>\n      <td>101</td>\n      <td>2023-01-19 21:04:36</td>\n      <td>2023-01-19 23:43:01.328</td>\n      <td>0 days 02:38:25.328000</td>\n    </tr>\n    <tr>\n      <th>4</th>\n      <td>128</td>\n      <td>101</td>\n      <td>2023-02-01 22:09:05</td>\n      <td>2023-02-01 23:34:37.991</td>\n      <td>0 days 01:25:32.991000</td>\n    </tr>\n    <tr>\n      <th>...</th>\n      <td>...</td>\n      <td>...</td>\n      <td>...</td>\n      <td>...</td>\n      <td>...</td>\n    </tr>\n    <tr>\n      <th>643</th>\n      <td>816</td>\n      <td>150</td>\n      <td>2023-09-01 08:44:48</td>\n      <td>2023-09-01 09:28:18.075</td>\n      <td>0 days 00:43:30.075000</td>\n    </tr>\n    <tr>\n      <th>644</th>\n      <td>817</td>\n      <td>150</td>\n      <td>2023-09-03 16:15:06</td>\n      <td>2023-09-03 16:35:12.331</td>\n      <td>0 days 00:20:06.331000</td>\n    </tr>\n    <tr>\n      <th>645</th>\n      <td>818</td>\n      <td>150</td>\n      <td>2023-09-23 23:05:26</td>\n      <td>2023-09-24 00:07:13.194</td>\n      <td>0 days 01:01:47.194000</td>\n    </tr>\n    <tr>\n      <th>646</th>\n      <td>819</td>\n      <td>150</td>\n      <td>2023-10-17 12:01:53</td>\n      <td>2023-10-17 12:59:34.612</td>\n      <td>0 days 00:57:41.612000</td>\n    </tr>\n    <tr>\n      <th>647</th>\n      <td>820</td>\n      <td>150</td>\n      <td>2023-10-28 20:46:56</td>\n      <td>2023-10-28 22:24:53.665</td>\n      <td>0 days 01:37:57.665000</td>\n    </tr>\n  </tbody>\n</table>\n<p>648 rows × 5 columns</p>\n</div>"
     },
     "execution_count": 4,
     "metadata": {},
     "output_type": "execute_result"
    }
   ],
   "source": [
    "sessions.reset_index().groupby(['session_id', 'user_id']).agg(session_start=('timestamp', 'min'), session_end=('timestamp', 'max')).assign(duration=lambda x: x['session_end'] - x['session_start']).reset_index()"
   ],
   "metadata": {
    "collapsed": false,
    "ExecuteTime": {
     "end_time": "2023-11-24T11:39:27.751371942Z",
     "start_time": "2023-11-24T11:39:27.701576970Z"
    }
   },
   "id": "a42b9e01f0af2039"
  },
  {
   "cell_type": "markdown",
   "source": [
    "## skip occurrence with time of day by day"
   ],
   "metadata": {
    "collapsed": false
   },
   "id": "52e815001efdeb31"
  },
  {
   "cell_type": "code",
   "execution_count": 20,
   "outputs": [
    {
     "name": "stderr",
     "output_type": "stream",
     "text": [
      "/tmp/ipykernel_15430/847945583.py:2: SettingWithCopyWarning: \n",
      "A value is trying to be set on a copy of a slice from a DataFrame.\n",
      "Try using .loc[row_indexer,col_indexer] = value instead\n",
      "\n",
      "See the caveats in the documentation: https://pandas.pydata.org/pandas-docs/stable/user_guide/indexing.html#returning-a-view-versus-a-copy\n",
      "  skip_occurrence['hour'] = skip_occurrence.index.hour\n",
      "/tmp/ipykernel_15430/847945583.py:3: SettingWithCopyWarning: \n",
      "A value is trying to be set on a copy of a slice from a DataFrame.\n",
      "Try using .loc[row_indexer,col_indexer] = value instead\n",
      "\n",
      "See the caveats in the documentation: https://pandas.pydata.org/pandas-docs/stable/user_guide/indexing.html#returning-a-view-versus-a-copy\n",
      "  skip_occurrence['date'] = skip_occurrence.index.date\n"
     ]
    },
    {
     "data": {
      "text/plain": "           date  hour  count\n0    2023-01-01    15      2\n1    2023-01-01    20      1\n2    2023-01-03     9      1\n3    2023-01-03    22      2\n4    2023-01-08     2      5\n..          ...   ...    ...\n353  2023-10-30    14      5\n354  2023-10-30    22      1\n355  2023-10-31    18      1\n356  2023-11-01    19      3\n357  2023-11-05    21      1\n\n[358 rows x 3 columns]",
      "text/html": "<div>\n<style scoped>\n    .dataframe tbody tr th:only-of-type {\n        vertical-align: middle;\n    }\n\n    .dataframe tbody tr th {\n        vertical-align: top;\n    }\n\n    .dataframe thead th {\n        text-align: right;\n    }\n</style>\n<table border=\"1\" class=\"dataframe\">\n  <thead>\n    <tr style=\"text-align: right;\">\n      <th></th>\n      <th>date</th>\n      <th>hour</th>\n      <th>count</th>\n    </tr>\n  </thead>\n  <tbody>\n    <tr>\n      <th>0</th>\n      <td>2023-01-01</td>\n      <td>15</td>\n      <td>2</td>\n    </tr>\n    <tr>\n      <th>1</th>\n      <td>2023-01-01</td>\n      <td>20</td>\n      <td>1</td>\n    </tr>\n    <tr>\n      <th>2</th>\n      <td>2023-01-03</td>\n      <td>9</td>\n      <td>1</td>\n    </tr>\n    <tr>\n      <th>3</th>\n      <td>2023-01-03</td>\n      <td>22</td>\n      <td>2</td>\n    </tr>\n    <tr>\n      <th>4</th>\n      <td>2023-01-08</td>\n      <td>2</td>\n      <td>5</td>\n    </tr>\n    <tr>\n      <th>...</th>\n      <td>...</td>\n      <td>...</td>\n      <td>...</td>\n    </tr>\n    <tr>\n      <th>353</th>\n      <td>2023-10-30</td>\n      <td>14</td>\n      <td>5</td>\n    </tr>\n    <tr>\n      <th>354</th>\n      <td>2023-10-30</td>\n      <td>22</td>\n      <td>1</td>\n    </tr>\n    <tr>\n      <th>355</th>\n      <td>2023-10-31</td>\n      <td>18</td>\n      <td>1</td>\n    </tr>\n    <tr>\n      <th>356</th>\n      <td>2023-11-01</td>\n      <td>19</td>\n      <td>3</td>\n    </tr>\n    <tr>\n      <th>357</th>\n      <td>2023-11-05</td>\n      <td>21</td>\n      <td>1</td>\n    </tr>\n  </tbody>\n</table>\n<p>358 rows × 3 columns</p>\n</div>"
     },
     "execution_count": 20,
     "metadata": {},
     "output_type": "execute_result"
    }
   ],
   "source": [
    "skip_occurrence = sessions[sessions['event_type']=='skip']\n",
    "skip_occurrence['hour'] = skip_occurrence.index.hour\n",
    "skip_occurrence['date'] = skip_occurrence.index.date\n",
    "skip_occurrence.groupby(['date', 'hour']).size().reset_index(name=\"count\")"
   ],
   "metadata": {
    "collapsed": false,
    "ExecuteTime": {
     "end_time": "2023-11-21T17:26:57.309086114Z",
     "start_time": "2023-11-21T17:26:57.297189103Z"
    }
   },
   "id": "255c1d738144372a"
  }
 ],
 "metadata": {
  "kernelspec": {
   "display_name": "Python 3",
   "language": "python",
   "name": "python3"
  },
  "language_info": {
   "codemirror_mode": {
    "name": "ipython",
    "version": 2
   },
   "file_extension": ".py",
   "mimetype": "text/x-python",
   "name": "python",
   "nbconvert_exporter": "python",
   "pygments_lexer": "ipython2",
   "version": "2.7.6"
  }
 },
 "nbformat": 4,
 "nbformat_minor": 5
}
