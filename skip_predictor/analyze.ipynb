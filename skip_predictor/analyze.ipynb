{
 "cells": [
  {
   "cell_type": "code",
   "execution_count": 3,
   "id": "initial_id",
   "metadata": {
    "collapsed": true,
    "ExecuteTime": {
     "end_time": "2024-01-05T22:14:38.338300525Z",
     "start_time": "2024-01-05T22:14:37.404417150Z"
    }
   },
   "outputs": [],
   "source": [
    "import pandas as pd\n",
    "from sklearn.preprocessing import LabelEncoder"
   ]
  },
  {
   "cell_type": "code",
   "execution_count": 4,
   "outputs": [],
   "source": [
    "\n",
    "def preprocess_dataset(df: pd.DataFrame):\n",
    "    final_dataset = df.dropna()\n",
    "    label_encoder = LabelEncoder()\n",
    "    final_dataset['city'] = label_encoder.fit_transform(final_dataset['city'])\n",
    "    #final_dataset['user'] = label_encoder.fit_transform(final_dataset['user'])\n",
    "    \n",
    "    final_dataset['day']=final_dataset['timestamp'].dt.dayofyear\n",
    "    final_dataset['hourminute']= final_dataset['timestamp'].dt.hour * 60 + final_dataset['timestamp'].dt.minute\n",
    "    final_dataset['date_completeness'] = label_encoder.fit_transform(final_dataset['date_completeness'])\n",
    "    # IMPORTANT DROP FOR LEAKAGE\n",
    "    final_dataset = final_dataset.drop(columns=['block_duration', 'song_listened'])\n",
    "    \n",
    "    final_dataset['session_duration']=final_dataset['session_duration'].apply(lambda x: x.total_seconds())\n",
    "    final_dataset['user_listen_time']=final_dataset['user_listen_time'].apply(lambda x: x.total_seconds())\n",
    "    \n",
    "    final_dataset['premium_user']=final_dataset['premium_user'].astype(int)\n",
    "    final_dataset['isliked']=final_dataset['isliked'].astype(int)\n",
    "    final_dataset['isskipped']=final_dataset['isskipped'].astype(int)\n",
    "    final_dataset['previous_action']=final_dataset['previous_action'].astype(bool).astype(int)\n",
    "    \n",
    "    # numeric_cols = final_dataset.select_dtypes(include=['float64']).columns\n",
    "    # scaler = StandardScaler()\n",
    "    # final_dataset[numeric_cols] = scaler.fit_transform(final_dataset[numeric_cols])\n",
    "    \n",
    "    return final_dataset.drop(columns=['timestamp', 'street', 'name', 'favourite_genres', 'genres', 'session_id', 'track_id', 'user_id', 'id_artist'])"
   ],
   "metadata": {
    "collapsed": false,
    "ExecuteTime": {
     "end_time": "2024-01-05T22:14:38.346953342Z",
     "start_time": "2024-01-05T22:14:38.345826505Z"
    }
   },
   "id": "70fd53b6f7aee735"
  },
  {
   "cell_type": "code",
   "execution_count": 13,
   "outputs": [],
   "source": [
    "fdf = preprocess_dataset(pd.read_csv(\"result.csv\", nrows=10,index_col=0, parse_dates=['timestamp'], converters={\n",
    "    'block_duration': lambda x: pd.to_timedelta(x),\n",
    "    'session_duration': lambda x: pd.to_timedelta(x),\n",
    "    'user_listen_time': lambda x: pd.to_timedelta(x),\n",
    "}))"
   ],
   "metadata": {
    "collapsed": false,
    "ExecuteTime": {
     "end_time": "2024-01-05T22:18:42.558285472Z",
     "start_time": "2024-01-05T22:18:42.532115316Z"
    }
   },
   "id": "891dd0a99958ff73"
  },
  {
   "cell_type": "code",
   "execution_count": 14,
   "outputs": [
    {
     "data": {
      "text/plain": "   isskipped  isliked  previous_song_listened  song_listened_rate  \\\n0          1        0                1.000000            1.000000   \n1          0        0                0.225687            0.354740   \n2          0        1                1.000000            0.875111   \n3          1        0                1.000000            0.975182   \n4          0        1                0.666971            0.728535   \n\n   session_duration  session_skip_count  session_like_count  \\\n0             0.000                   0                   0   \n1            51.517                   1                   0   \n2           331.250                   1                   0   \n3           549.170                   1                   1   \n4           683.412                   2                   1   \n\n   session_play_count  session_skip_rate  session_ewma_rate  ...  popularity  \\\n0                   0           0.000000           0.000000  ...          29   \n1                   1           1.000000           1.000000  ...          39   \n2                   2           0.500000           0.166667  ...          39   \n3                   3           0.333333           0.032258  ...          29   \n4                   4           0.500000           0.807692  ...           2   \n\n   release_year  release_daymonth  date_completeness  duration_ms    MUSIC1  \\\n0          1992               284                  0       228267 -1.357316   \n1          2014               148                  0       279733 -0.626372   \n2          2010                 1                  0       217920 -2.401309   \n3          1986               202                  0       201271  1.438356   \n4          1989                 1                  0       268608 -1.840559   \n\n     MUSIC2  fav_genres_similarity  day  hourminute  \n0  1.126901                      2  325         282  \n1 -0.961195                      0  325         282  \n2  0.392509                      6  325         287  \n3  0.460335                      1  325         291  \n4 -0.597103                      4  325         293  \n\n[5 rows x 30 columns]",
      "text/html": "<div>\n<style scoped>\n    .dataframe tbody tr th:only-of-type {\n        vertical-align: middle;\n    }\n\n    .dataframe tbody tr th {\n        vertical-align: top;\n    }\n\n    .dataframe thead th {\n        text-align: right;\n    }\n</style>\n<table border=\"1\" class=\"dataframe\">\n  <thead>\n    <tr style=\"text-align: right;\">\n      <th></th>\n      <th>isskipped</th>\n      <th>isliked</th>\n      <th>previous_song_listened</th>\n      <th>song_listened_rate</th>\n      <th>session_duration</th>\n      <th>session_skip_count</th>\n      <th>session_like_count</th>\n      <th>session_play_count</th>\n      <th>session_skip_rate</th>\n      <th>session_ewma_rate</th>\n      <th>...</th>\n      <th>popularity</th>\n      <th>release_year</th>\n      <th>release_daymonth</th>\n      <th>date_completeness</th>\n      <th>duration_ms</th>\n      <th>MUSIC1</th>\n      <th>MUSIC2</th>\n      <th>fav_genres_similarity</th>\n      <th>day</th>\n      <th>hourminute</th>\n    </tr>\n  </thead>\n  <tbody>\n    <tr>\n      <th>0</th>\n      <td>1</td>\n      <td>0</td>\n      <td>1.000000</td>\n      <td>1.000000</td>\n      <td>0.000</td>\n      <td>0</td>\n      <td>0</td>\n      <td>0</td>\n      <td>0.000000</td>\n      <td>0.000000</td>\n      <td>...</td>\n      <td>29</td>\n      <td>1992</td>\n      <td>284</td>\n      <td>0</td>\n      <td>228267</td>\n      <td>-1.357316</td>\n      <td>1.126901</td>\n      <td>2</td>\n      <td>325</td>\n      <td>282</td>\n    </tr>\n    <tr>\n      <th>1</th>\n      <td>0</td>\n      <td>0</td>\n      <td>0.225687</td>\n      <td>0.354740</td>\n      <td>51.517</td>\n      <td>1</td>\n      <td>0</td>\n      <td>1</td>\n      <td>1.000000</td>\n      <td>1.000000</td>\n      <td>...</td>\n      <td>39</td>\n      <td>2014</td>\n      <td>148</td>\n      <td>0</td>\n      <td>279733</td>\n      <td>-0.626372</td>\n      <td>-0.961195</td>\n      <td>0</td>\n      <td>325</td>\n      <td>282</td>\n    </tr>\n    <tr>\n      <th>2</th>\n      <td>0</td>\n      <td>1</td>\n      <td>1.000000</td>\n      <td>0.875111</td>\n      <td>331.250</td>\n      <td>1</td>\n      <td>0</td>\n      <td>2</td>\n      <td>0.500000</td>\n      <td>0.166667</td>\n      <td>...</td>\n      <td>39</td>\n      <td>2010</td>\n      <td>1</td>\n      <td>0</td>\n      <td>217920</td>\n      <td>-2.401309</td>\n      <td>0.392509</td>\n      <td>6</td>\n      <td>325</td>\n      <td>287</td>\n    </tr>\n    <tr>\n      <th>3</th>\n      <td>1</td>\n      <td>0</td>\n      <td>1.000000</td>\n      <td>0.975182</td>\n      <td>549.170</td>\n      <td>1</td>\n      <td>1</td>\n      <td>3</td>\n      <td>0.333333</td>\n      <td>0.032258</td>\n      <td>...</td>\n      <td>29</td>\n      <td>1986</td>\n      <td>202</td>\n      <td>0</td>\n      <td>201271</td>\n      <td>1.438356</td>\n      <td>0.460335</td>\n      <td>1</td>\n      <td>325</td>\n      <td>291</td>\n    </tr>\n    <tr>\n      <th>4</th>\n      <td>0</td>\n      <td>1</td>\n      <td>0.666971</td>\n      <td>0.728535</td>\n      <td>683.412</td>\n      <td>2</td>\n      <td>1</td>\n      <td>4</td>\n      <td>0.500000</td>\n      <td>0.807692</td>\n      <td>...</td>\n      <td>2</td>\n      <td>1989</td>\n      <td>1</td>\n      <td>0</td>\n      <td>268608</td>\n      <td>-1.840559</td>\n      <td>-0.597103</td>\n      <td>4</td>\n      <td>325</td>\n      <td>293</td>\n    </tr>\n  </tbody>\n</table>\n<p>5 rows × 30 columns</p>\n</div>"
     },
     "execution_count": 14,
     "metadata": {},
     "output_type": "execute_result"
    }
   ],
   "source": [
    "fdf.head()"
   ],
   "metadata": {
    "collapsed": false,
    "ExecuteTime": {
     "end_time": "2024-01-05T22:18:43.975918382Z",
     "start_time": "2024-01-05T22:18:43.949739272Z"
    }
   },
   "id": "e47367be2434c430"
  },
  {
   "cell_type": "code",
   "execution_count": 15,
   "outputs": [
    {
     "data": {
      "text/plain": "Index(['isskipped', 'isliked', 'previous_song_listened', 'song_listened_rate',\n       'session_duration', 'session_skip_count', 'session_like_count',\n       'session_play_count', 'session_skip_rate', 'session_ewma_rate',\n       'previous_action', 'user_listen_time', 'user_skip_count',\n       'user_like_count', 'user_play_count', 'user_skip_rate',\n       'user_ewma_rate', 'user_listened_rate', 'city', 'premium_user',\n       'popularity', 'release_year', 'release_daymonth', 'date_completeness',\n       'duration_ms', 'MUSIC1', 'MUSIC2', 'fav_genres_similarity', 'day',\n       'hourminute'],\n      dtype='object')"
     },
     "execution_count": 15,
     "metadata": {},
     "output_type": "execute_result"
    }
   ],
   "source": [
    "fdf.columns"
   ],
   "metadata": {
    "collapsed": false,
    "ExecuteTime": {
     "end_time": "2024-01-05T22:18:45.708589343Z",
     "start_time": "2024-01-05T22:18:45.653278028Z"
    }
   },
   "id": "9fd7aaa6fb6fc02d"
  },
  {
   "cell_type": "code",
   "execution_count": 6,
   "outputs": [
    {
     "ename": "NameError",
     "evalue": "name 'fdf' is not defined",
     "output_type": "error",
     "traceback": [
      "\u001B[0;31m---------------------------------------------------------------------------\u001B[0m",
      "\u001B[0;31mNameError\u001B[0m                                 Traceback (most recent call last)",
      "Cell \u001B[0;32mIn[6], line 1\u001B[0m\n\u001B[0;32m----> 1\u001B[0m \u001B[38;5;28mlen\u001B[39m(\u001B[43mfdf\u001B[49m\u001B[38;5;241m.\u001B[39mcolumns)\n",
      "\u001B[0;31mNameError\u001B[0m: name 'fdf' is not defined"
     ]
    }
   ],
   "source": [
    "len(fdf.columns)"
   ],
   "metadata": {
    "collapsed": false,
    "ExecuteTime": {
     "end_time": "2024-01-05T22:14:42.845695587Z",
     "start_time": "2024-01-05T22:14:42.826741633Z"
    }
   },
   "id": "b0cb1fcbb6f86cce"
  },
  {
   "cell_type": "code",
   "execution_count": 7,
   "outputs": [],
   "source": [
    "x = pd.read_csv(\"a.csv\")"
   ],
   "metadata": {
    "collapsed": false,
    "ExecuteTime": {
     "end_time": "2024-01-05T22:14:43.063710752Z",
     "start_time": "2024-01-05T22:14:43.056054552Z"
    }
   },
   "id": "fb7bae9365a79835"
  },
  {
   "cell_type": "code",
   "execution_count": 8,
   "outputs": [
    {
     "data": {
      "text/plain": "   Unnamed: 0  session_id  isskipped  isliked                   timestamp  \\\n0           0         124       True    False  2019-11-21 04:42:00.673600   \n1           1         124      False    False  2019-11-21 04:42:52.190600   \n\n                 track_id  user_id          block_duration  song_listened  \\\n0  5600pyPaXVVth1gGO6ny9w      101  0 days 00:00:51.517000       0.225687   \n1  3WfyD01tanevXTRGPnRl3h      101  0 days 00:04:39.733000       1.000000   \n\n   previous_song_listened  ...            genres popularity  \\\n0                1.000000  ...  ['russian rock']         29   \n1                0.225687  ...         ['j-pop']         39   \n\n                id_artist  release_year  release_daymonth  date_completeness  \\\n0  0mIEFkDpcAInh84blFIlqq          1992               284          full_date   \n1  4mQxvrtY2MbDuUXAhMg5pp          2014               148          full_date   \n\n   duration_ms    MUSIC1    MUSIC2  fav_genres_similarity  \n0       228267 -1.357316  1.126901                      2  \n1       279733 -0.626372 -0.961195                      0  \n\n[2 rows x 40 columns]",
      "text/html": "<div>\n<style scoped>\n    .dataframe tbody tr th:only-of-type {\n        vertical-align: middle;\n    }\n\n    .dataframe tbody tr th {\n        vertical-align: top;\n    }\n\n    .dataframe thead th {\n        text-align: right;\n    }\n</style>\n<table border=\"1\" class=\"dataframe\">\n  <thead>\n    <tr style=\"text-align: right;\">\n      <th></th>\n      <th>Unnamed: 0</th>\n      <th>session_id</th>\n      <th>isskipped</th>\n      <th>isliked</th>\n      <th>timestamp</th>\n      <th>track_id</th>\n      <th>user_id</th>\n      <th>block_duration</th>\n      <th>song_listened</th>\n      <th>previous_song_listened</th>\n      <th>...</th>\n      <th>genres</th>\n      <th>popularity</th>\n      <th>id_artist</th>\n      <th>release_year</th>\n      <th>release_daymonth</th>\n      <th>date_completeness</th>\n      <th>duration_ms</th>\n      <th>MUSIC1</th>\n      <th>MUSIC2</th>\n      <th>fav_genres_similarity</th>\n    </tr>\n  </thead>\n  <tbody>\n    <tr>\n      <th>0</th>\n      <td>0</td>\n      <td>124</td>\n      <td>True</td>\n      <td>False</td>\n      <td>2019-11-21 04:42:00.673600</td>\n      <td>5600pyPaXVVth1gGO6ny9w</td>\n      <td>101</td>\n      <td>0 days 00:00:51.517000</td>\n      <td>0.225687</td>\n      <td>1.000000</td>\n      <td>...</td>\n      <td>['russian rock']</td>\n      <td>29</td>\n      <td>0mIEFkDpcAInh84blFIlqq</td>\n      <td>1992</td>\n      <td>284</td>\n      <td>full_date</td>\n      <td>228267</td>\n      <td>-1.357316</td>\n      <td>1.126901</td>\n      <td>2</td>\n    </tr>\n    <tr>\n      <th>1</th>\n      <td>1</td>\n      <td>124</td>\n      <td>False</td>\n      <td>False</td>\n      <td>2019-11-21 04:42:52.190600</td>\n      <td>3WfyD01tanevXTRGPnRl3h</td>\n      <td>101</td>\n      <td>0 days 00:04:39.733000</td>\n      <td>1.000000</td>\n      <td>0.225687</td>\n      <td>...</td>\n      <td>['j-pop']</td>\n      <td>39</td>\n      <td>4mQxvrtY2MbDuUXAhMg5pp</td>\n      <td>2014</td>\n      <td>148</td>\n      <td>full_date</td>\n      <td>279733</td>\n      <td>-0.626372</td>\n      <td>-0.961195</td>\n      <td>0</td>\n    </tr>\n  </tbody>\n</table>\n<p>2 rows × 40 columns</p>\n</div>"
     },
     "execution_count": 8,
     "metadata": {},
     "output_type": "execute_result"
    }
   ],
   "source": [
    "x.head()"
   ],
   "metadata": {
    "collapsed": false,
    "ExecuteTime": {
     "end_time": "2024-01-05T22:14:43.673683694Z",
     "start_time": "2024-01-05T22:14:43.652895416Z"
    }
   },
   "id": "3919a9f2b8f42a37"
  },
  {
   "cell_type": "markdown",
   "source": [],
   "metadata": {
    "collapsed": false
   },
   "id": "ad09f8a3e0ca90cb"
  },
  {
   "cell_type": "code",
   "execution_count": 18,
   "outputs": [
    {
     "data": {
      "text/plain": "Index(['Unnamed: 0', 'session_id', 'isskipped', 'isliked', 'timestamp',\n       'track_id', 'user_id', 'block_duration', 'song_listened',\n       'previous_song_listened', 'song_listened_rate', 'session_duration',\n       'session_skip_count', 'session_like_count', 'session_play_count',\n       'session_skip_rate', 'session_ewma_rate', 'previous_action',\n       'user_listen_time', 'user_skip_count', 'user_like_count',\n       'user_play_count', 'user_skip_rate', 'user_ewma_rate',\n       'user_listened_rate', 'name', 'city', 'street', 'favourite_genres',\n       'premium_user', 'genres', 'popularity', 'id_artist', 'release_year',\n       'release_daymonth', 'date_completeness', 'duration_ms', 'MUSIC1',\n       'MUSIC2', 'fav_genres_similarity'],\n      dtype='object')"
     },
     "execution_count": 18,
     "metadata": {},
     "output_type": "execute_result"
    }
   ],
   "source": [
    "x.columns"
   ],
   "metadata": {
    "collapsed": false,
    "ExecuteTime": {
     "end_time": "2024-01-05T21:55:35.096213567Z",
     "start_time": "2024-01-05T21:55:35.087409016Z"
    }
   },
   "id": "d0e5af3ef1e587c3"
  },
  {
   "cell_type": "code",
   "execution_count": 11,
   "outputs": [
    {
     "data": {
      "text/plain": "{'Unnamed: 0': {0: 0, 1: 1},\n 'session_id': {0: 124, 1: 124},\n 'isskipped': {0: True, 1: False},\n 'isliked': {0: False, 1: False},\n 'timestamp': {0: '2019-11-21 04:42:00.673600',\n  1: '2019-11-21 04:42:52.190600'},\n 'track_id': {0: '5600pyPaXVVth1gGO6ny9w', 1: '3WfyD01tanevXTRGPnRl3h'},\n 'user_id': {0: 101, 1: 101},\n 'block_duration': {0: '0 days 00:00:51.517000', 1: '0 days 00:04:39.733000'},\n 'song_listened': {0: 0.2256874624891026, 1: 1.0},\n 'previous_song_listened': {0: 1.0, 1: 0.2256874624891026},\n 'song_listened_rate': {0: 1.0, 1: 0.3547395520742522},\n 'session_duration': {0: '0 days 00:00:00', 1: '0 days 00:00:51.517000'},\n 'session_skip_count': {0: 0, 1: 1},\n 'session_like_count': {0: 0, 1: 0},\n 'session_play_count': {0: 0, 1: 1},\n 'session_skip_rate': {0: 0.0, 1: 1.0},\n 'session_ewma_rate': {0: 0.0, 1: 1.0},\n 'previous_action': {0: '0', 1: 'True'},\n 'user_listen_time': {0: '0 days 00:00:00', 1: '0 days 00:00:51.517000'},\n 'user_skip_count': {0: 0, 1: 1},\n 'user_like_count': {0: 0, 1: 0},\n 'user_play_count': {0: 0, 1: 1},\n 'user_skip_rate': {0: 0.0, 1: 1.0},\n 'user_ewma_rate': {0: 0.0, 1: 1.0},\n 'user_listened_rate': {0: 1.0, 1: 0.3547395520742522},\n 'name': {0: 'Kazimierz Gniewek', 1: 'Kazimierz Gniewek'},\n 'city': {0: 'Kraków', 1: 'Kraków'},\n 'street': {0: 'aleja Liliowa 48/22', 1: 'aleja Liliowa 48/22'},\n 'favourite_genres': {0: \"['pop', 'alternative rock', 'argentine rock']\",\n  1: \"['pop', 'alternative rock', 'argentine rock']\"},\n 'premium_user': {0: True, 1: True},\n 'genres': {0: \"['russian rock']\", 1: \"['j-pop']\"},\n 'popularity': {0: 29, 1: 39},\n 'id_artist': {0: '0mIEFkDpcAInh84blFIlqq', 1: '4mQxvrtY2MbDuUXAhMg5pp'},\n 'release_year': {0: 1992, 1: 2014},\n 'release_daymonth': {0: 284, 1: 148},\n 'date_completeness': {0: 'full_date', 1: 'full_date'},\n 'duration_ms': {0: 228267, 1: 279733},\n 'MUSIC1': {0: -1.3573162878244955, 1: -0.6263715791711888},\n 'MUSIC2': {0: 1.126900516598271, 1: -0.961194962605226},\n 'fav_genres_similarity': {0: 2, 1: 0}}"
     },
     "execution_count": 11,
     "metadata": {},
     "output_type": "execute_result"
    }
   ],
   "source": [
    "x.to_dict()"
   ],
   "metadata": {
    "collapsed": false,
    "ExecuteTime": {
     "end_time": "2024-01-05T22:15:07.036232833Z",
     "start_time": "2024-01-05T22:15:06.987572539Z"
    }
   },
   "id": "c4cb7b581835be0a"
  },
  {
   "cell_type": "code",
   "execution_count": 12,
   "outputs": [
    {
     "data": {
      "text/plain": "[{'Unnamed: 0': 0,\n  'session_id': 124,\n  'isskipped': True,\n  'isliked': False,\n  'timestamp': '2019-11-21 04:42:00.673600',\n  'track_id': '5600pyPaXVVth1gGO6ny9w',\n  'user_id': 101,\n  'block_duration': '0 days 00:00:51.517000',\n  'song_listened': 0.2256874624891026,\n  'previous_song_listened': 1.0,\n  'song_listened_rate': 1.0,\n  'session_duration': '0 days 00:00:00',\n  'session_skip_count': 0,\n  'session_like_count': 0,\n  'session_play_count': 0,\n  'session_skip_rate': 0.0,\n  'session_ewma_rate': 0.0,\n  'previous_action': '0',\n  'user_listen_time': '0 days 00:00:00',\n  'user_skip_count': 0,\n  'user_like_count': 0,\n  'user_play_count': 0,\n  'user_skip_rate': 0.0,\n  'user_ewma_rate': 0.0,\n  'user_listened_rate': 1.0,\n  'name': 'Kazimierz Gniewek',\n  'city': 'Kraków',\n  'street': 'aleja Liliowa 48/22',\n  'favourite_genres': \"['pop', 'alternative rock', 'argentine rock']\",\n  'premium_user': True,\n  'genres': \"['russian rock']\",\n  'popularity': 29,\n  'id_artist': '0mIEFkDpcAInh84blFIlqq',\n  'release_year': 1992,\n  'release_daymonth': 284,\n  'date_completeness': 'full_date',\n  'duration_ms': 228267,\n  'MUSIC1': -1.3573162878244955,\n  'MUSIC2': 1.126900516598271,\n  'fav_genres_similarity': 2},\n {'Unnamed: 0': 1,\n  'session_id': 124,\n  'isskipped': False,\n  'isliked': False,\n  'timestamp': '2019-11-21 04:42:52.190600',\n  'track_id': '3WfyD01tanevXTRGPnRl3h',\n  'user_id': 101,\n  'block_duration': '0 days 00:04:39.733000',\n  'song_listened': 1.0,\n  'previous_song_listened': 0.2256874624891026,\n  'song_listened_rate': 0.3547395520742522,\n  'session_duration': '0 days 00:00:51.517000',\n  'session_skip_count': 1,\n  'session_like_count': 0,\n  'session_play_count': 1,\n  'session_skip_rate': 1.0,\n  'session_ewma_rate': 1.0,\n  'previous_action': 'True',\n  'user_listen_time': '0 days 00:00:51.517000',\n  'user_skip_count': 1,\n  'user_like_count': 0,\n  'user_play_count': 1,\n  'user_skip_rate': 1.0,\n  'user_ewma_rate': 1.0,\n  'user_listened_rate': 0.3547395520742522,\n  'name': 'Kazimierz Gniewek',\n  'city': 'Kraków',\n  'street': 'aleja Liliowa 48/22',\n  'favourite_genres': \"['pop', 'alternative rock', 'argentine rock']\",\n  'premium_user': True,\n  'genres': \"['j-pop']\",\n  'popularity': 39,\n  'id_artist': '4mQxvrtY2MbDuUXAhMg5pp',\n  'release_year': 2014,\n  'release_daymonth': 148,\n  'date_completeness': 'full_date',\n  'duration_ms': 279733,\n  'MUSIC1': -0.6263715791711888,\n  'MUSIC2': -0.961194962605226,\n  'fav_genres_similarity': 0}]"
     },
     "execution_count": 12,
     "metadata": {},
     "output_type": "execute_result"
    }
   ],
   "source": [
    "x.to_dict(orient='records')"
   ],
   "metadata": {
    "collapsed": false,
    "ExecuteTime": {
     "end_time": "2024-01-05T22:15:22.795735190Z",
     "start_time": "2024-01-05T22:15:22.751820171Z"
    }
   },
   "id": "dd965e1d6d114641"
  },
  {
   "cell_type": "code",
   "execution_count": null,
   "outputs": [],
   "source": [],
   "metadata": {
    "collapsed": false
   },
   "id": "f1d80c61cd1c17f3"
  }
 ],
 "metadata": {
  "kernelspec": {
   "display_name": "Python 3",
   "language": "python",
   "name": "python3"
  },
  "language_info": {
   "codemirror_mode": {
    "name": "ipython",
    "version": 2
   },
   "file_extension": ".py",
   "mimetype": "text/x-python",
   "name": "python",
   "nbconvert_exporter": "python",
   "pygments_lexer": "ipython2",
   "version": "2.7.6"
  }
 },
 "nbformat": 4,
 "nbformat_minor": 5
}
